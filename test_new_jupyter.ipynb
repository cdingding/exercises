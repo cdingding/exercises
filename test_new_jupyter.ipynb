{
 "cells": [
  {
   "cell_type": "code",
   "execution_count": 3,
   "metadata": {
    "collapsed": false
   },
   "outputs": [],
   "source": [
    "import numpy as np\n",
    "import math\n",
    "import pandas as pd"
   ]
  },
  {
   "cell_type": "code",
   "execution_count": 4,
   "metadata": {
    "collapsed": false
   },
   "outputs": [
    {
     "name": "stdout",
     "output_type": "stream",
     "text": [
      "Permutation_of_Str.py           sign.py\r\n",
      "Tokenize.py                     sign.pyc\r\n",
      "delete_compound.py              sign_test.py\r\n",
      "foo.py                          switch_key_value_dictionary.py\r\n",
      "hello.py                        test_googledoc_indent.py\r\n",
      "hello.pyc                       test_main_effect.py\r\n",
      "max_profit.py                   test_main_effect.pyc\r\n",
      "numpy_tutorial.py               test_main_effect2.py\r\n",
      "product_no_index.py             test_new_jupyter.ipynb\r\n",
      "reverse_string.py\r\n"
     ]
    }
   ],
   "source": [
    "ls"
   ]
  },
  {
   "cell_type": "code",
   "execution_count": 7,
   "metadata": {
    "collapsed": false
   },
   "outputs": [
    {
     "name": "stdout",
     "output_type": "stream",
     "text": [
      "Hello Hello, ding!\n"
     ]
    }
   ],
   "source": [
    "# %load hello.py\n",
    "def hellotest(name, loud=False):\n",
    "    if loud:\n",
    "        print \"Hello, %s!\" %name.upper()\n",
    "    else:\n",
    "        print 'Hello Hello, %s!' %name\n",
    "\n",
    "if __name__=='__main__':\n",
    "    hellotest('ding')"
   ]
  },
  {
   "cell_type": "code",
   "execution_count": 8,
   "metadata": {
    "collapsed": false
   },
   "outputs": [
    {
     "name": "stdout",
     "output_type": "stream",
     "text": [
      "Hello Hello, ding!\n"
     ]
    }
   ],
   "source": [
    "hellotest('ding')"
   ]
  },
  {
   "cell_type": "code",
   "execution_count": 13,
   "metadata": {
    "collapsed": true
   },
   "outputs": [],
   "source": [
    "# %load sign\n",
    "import numpy as np\n",
    "import pandas as pd\n",
    "def test(x):\n",
    "  if x <0:  \n",
    "    print 'n'\n",
    "  elif x >0:\n",
    "    print 'pp'\n",
    "  else:\n",
    "    print 'zero, zero, zero!'\n"
   ]
  },
  {
   "cell_type": "code",
   "execution_count": 14,
   "metadata": {
    "collapsed": true
   },
   "outputs": [],
   "source": [
    "import sign"
   ]
  },
  {
   "cell_type": "code",
   "execution_count": 15,
   "metadata": {
    "collapsed": false
   },
   "outputs": [
    {
     "name": "stdout",
     "output_type": "stream",
     "text": [
      "pp\n"
     ]
    }
   ],
   "source": [
    "sign.test(90)"
   ]
  },
  {
   "cell_type": "code",
   "execution_count": 16,
   "metadata": {
    "collapsed": true
   },
   "outputs": [],
   "source": [
    "from sign import test"
   ]
  },
  {
   "cell_type": "code",
   "execution_count": 17,
   "metadata": {
    "collapsed": false
   },
   "outputs": [
    {
     "name": "stdout",
     "output_type": "stream",
     "text": [
      "zero, zero, zero!\n"
     ]
    }
   ],
   "source": [
    "test(0)"
   ]
  },
  {
   "cell_type": "code",
   "execution_count": null,
   "metadata": {
    "collapsed": true
   },
   "outputs": [],
   "source": []
  }
 ],
 "metadata": {
  "kernelspec": {
   "display_name": "Python 2",
   "language": "python",
   "name": "python2"
  },
  "language_info": {
   "codemirror_mode": {
    "name": "ipython",
    "version": 2
   },
   "file_extension": ".py",
   "mimetype": "text/x-python",
   "name": "python",
   "nbconvert_exporter": "python",
   "pygments_lexer": "ipython2",
   "version": "2.7.12"
  }
 },
 "nbformat": 4,
 "nbformat_minor": 0
}
