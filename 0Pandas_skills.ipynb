{
 "cells": [
  {
   "cell_type": "code",
   "execution_count": 1,
   "metadata": {
    "collapsed": true
   },
   "outputs": [],
   "source": [
    "import pandas as pd\n",
    "import numpy as np\n",
    "import matplotlib.pyplot as plt"
   ]
  },
  {
   "cell_type": "code",
   "execution_count": 8,
   "metadata": {
    "collapsed": false
   },
   "outputs": [
    {
     "name": "stdout",
     "output_type": "stream",
     "text": [
      "0    1.0\n",
      "1    2.0\n",
      "2    5.0\n",
      "3    NaN\n",
      "4    6.0\n",
      "5    8.0\n",
      "dtype: float64\n"
     ]
    },
    {
     "data": {
      "text/html": [
       "<div>\n",
       "<table border=\"1\" class=\"dataframe\">\n",
       "  <thead>\n",
       "    <tr style=\"text-align: right;\">\n",
       "      <th></th>\n",
       "      <th>A</th>\n",
       "      <th>B</th>\n",
       "      <th>C</th>\n",
       "      <th>D</th>\n",
       "    </tr>\n",
       "  </thead>\n",
       "  <tbody>\n",
       "    <tr>\n",
       "      <th>2013-01-01</th>\n",
       "      <td>3</td>\n",
       "      <td>2</td>\n",
       "      <td>4</td>\n",
       "      <td>6</td>\n",
       "    </tr>\n",
       "    <tr>\n",
       "      <th>2013-01-02</th>\n",
       "      <td>6</td>\n",
       "      <td>5</td>\n",
       "      <td>4</td>\n",
       "      <td>5</td>\n",
       "    </tr>\n",
       "    <tr>\n",
       "      <th>2013-01-03</th>\n",
       "      <td>2</td>\n",
       "      <td>7</td>\n",
       "      <td>3</td>\n",
       "      <td>6</td>\n",
       "    </tr>\n",
       "    <tr>\n",
       "      <th>2013-01-04</th>\n",
       "      <td>6</td>\n",
       "      <td>1</td>\n",
       "      <td>7</td>\n",
       "      <td>6</td>\n",
       "    </tr>\n",
       "    <tr>\n",
       "      <th>2013-01-05</th>\n",
       "      <td>4</td>\n",
       "      <td>3</td>\n",
       "      <td>1</td>\n",
       "      <td>8</td>\n",
       "    </tr>\n",
       "    <tr>\n",
       "      <th>2013-01-06</th>\n",
       "      <td>5</td>\n",
       "      <td>2</td>\n",
       "      <td>7</td>\n",
       "      <td>7</td>\n",
       "    </tr>\n",
       "  </tbody>\n",
       "</table>\n",
       "</div>"
      ],
      "text/plain": [
       "            A  B  C  D\n",
       "2013-01-01  3  2  4  6\n",
       "2013-01-02  6  5  4  5\n",
       "2013-01-03  2  7  3  6\n",
       "2013-01-04  6  1  7  6\n",
       "2013-01-05  4  3  1  8\n",
       "2013-01-06  5  2  7  7"
      ]
     },
     "execution_count": 8,
     "metadata": {},
     "output_type": "execute_result"
    }
   ],
   "source": [
    "s = pd.Series([1,2,5,np.nan, 6, 8])\n",
    "print s\n",
    "dates = pd.date_range('20130101', periods = 6)\n",
    "df = pd.DataFrame(np.random.randint(1,10,[6,4]), index = dates, columns = list('ABCD'))\n",
    "df"
   ]
  },
  {
   "cell_type": "code",
   "execution_count": 6,
   "metadata": {
    "collapsed": false,
    "scrolled": true
   },
   "outputs": [
    {
     "data": {
      "text/html": [
       "<div>\n",
       "<table border=\"1\" class=\"dataframe\">\n",
       "  <thead>\n",
       "    <tr style=\"text-align: right;\">\n",
       "      <th></th>\n",
       "      <th>A</th>\n",
       "      <th>B</th>\n",
       "      <th>C</th>\n",
       "      <th>D</th>\n",
       "      <th>E</th>\n",
       "      <th>F</th>\n",
       "    </tr>\n",
       "  </thead>\n",
       "  <tbody>\n",
       "    <tr>\n",
       "      <th>0</th>\n",
       "      <td>1.0</td>\n",
       "      <td>6</td>\n",
       "      <td>1.0</td>\n",
       "      <td>3</td>\n",
       "      <td>test</td>\n",
       "      <td>foo</td>\n",
       "    </tr>\n",
       "    <tr>\n",
       "      <th>1</th>\n",
       "      <td>1.0</td>\n",
       "      <td>6</td>\n",
       "      <td>1.0</td>\n",
       "      <td>3</td>\n",
       "      <td>train</td>\n",
       "      <td>foo</td>\n",
       "    </tr>\n",
       "    <tr>\n",
       "      <th>2</th>\n",
       "      <td>1.0</td>\n",
       "      <td>6</td>\n",
       "      <td>1.0</td>\n",
       "      <td>3</td>\n",
       "      <td>test</td>\n",
       "      <td>foo</td>\n",
       "    </tr>\n",
       "    <tr>\n",
       "      <th>3</th>\n",
       "      <td>1.0</td>\n",
       "      <td>6</td>\n",
       "      <td>1.0</td>\n",
       "      <td>3</td>\n",
       "      <td>train</td>\n",
       "      <td>foo</td>\n",
       "    </tr>\n",
       "  </tbody>\n",
       "</table>\n",
       "</div>"
      ],
      "text/plain": [
       "     A  B    C  D      E    F\n",
       "0  1.0  6  1.0  3   test  foo\n",
       "1  1.0  6  1.0  3  train  foo\n",
       "2  1.0  6  1.0  3   test  foo\n",
       "3  1.0  6  1.0  3  train  foo"
      ]
     },
     "execution_count": 6,
     "metadata": {},
     "output_type": "execute_result"
    }
   ],
   "source": [
    "df2 = pd.DataFrame({'A' : 1.,\n",
    "                    'B' : pd.Timestamp('02/10/2013').dayofweek,\n",
    "                    'C' : pd.Series(1, index=range(4), dtype = 'float32'),\n",
    "                    'D' : np.array([3]*4, dtype = 'int32'),\n",
    "                    'E' : pd.Categorical([\"test\", \"train\", \"test\", \"train\"]),\n",
    "                    'F' : 'foo'})\n",
    "df2"
   ]
  },
  {
   "cell_type": "code",
   "execution_count": 9,
   "metadata": {
    "collapsed": false
   },
   "outputs": [
    {
     "name": "stdout",
     "output_type": "stream",
     "text": [
      "     A  B    C  D      E    F\n",
      "2  1.0  6  1.0  3   test  foo\n",
      "3  1.0  6  1.0  3  train  foo\n",
      "DatetimeIndex(['2013-01-01', '2013-01-02', '2013-01-03', '2013-01-04',\n",
      "               '2013-01-05', '2013-01-06'],\n",
      "              dtype='datetime64[ns]', freq='D')\n",
      "Index([u'A', u'B', u'C', u'D', u'E', u'F'], dtype='object')\n",
      "[[1.0 6 1.0 3 'test' 'foo']\n",
      " [1.0 6 1.0 3 'train' 'foo']\n",
      " [1.0 6 1.0 3 'test' 'foo']\n",
      " [1.0 6 1.0 3 'train' 'foo']]\n"
     ]
    }
   ],
   "source": [
    "print df2.tail(2)\n",
    "print df.index\n",
    "print df2.columns\n",
    "print df2.values"
   ]
  },
  {
   "cell_type": "code",
   "execution_count": 10,
   "metadata": {
    "collapsed": false
   },
   "outputs": [
    {
     "data": {
      "text/html": [
       "<div>\n",
       "<table border=\"1\" class=\"dataframe\">\n",
       "  <thead>\n",
       "    <tr style=\"text-align: right;\">\n",
       "      <th></th>\n",
       "      <th>A</th>\n",
       "      <th>B</th>\n",
       "      <th>C</th>\n",
       "      <th>D</th>\n",
       "    </tr>\n",
       "  </thead>\n",
       "  <tbody>\n",
       "    <tr>\n",
       "      <th>count</th>\n",
       "      <td>6.000000</td>\n",
       "      <td>6.000000</td>\n",
       "      <td>6.000000</td>\n",
       "      <td>6.000000</td>\n",
       "    </tr>\n",
       "    <tr>\n",
       "      <th>mean</th>\n",
       "      <td>4.333333</td>\n",
       "      <td>3.333333</td>\n",
       "      <td>4.333333</td>\n",
       "      <td>6.333333</td>\n",
       "    </tr>\n",
       "    <tr>\n",
       "      <th>std</th>\n",
       "      <td>1.632993</td>\n",
       "      <td>2.250926</td>\n",
       "      <td>2.338090</td>\n",
       "      <td>1.032796</td>\n",
       "    </tr>\n",
       "    <tr>\n",
       "      <th>min</th>\n",
       "      <td>2.000000</td>\n",
       "      <td>1.000000</td>\n",
       "      <td>1.000000</td>\n",
       "      <td>5.000000</td>\n",
       "    </tr>\n",
       "    <tr>\n",
       "      <th>25%</th>\n",
       "      <td>3.250000</td>\n",
       "      <td>2.000000</td>\n",
       "      <td>3.250000</td>\n",
       "      <td>6.000000</td>\n",
       "    </tr>\n",
       "    <tr>\n",
       "      <th>50%</th>\n",
       "      <td>4.500000</td>\n",
       "      <td>2.500000</td>\n",
       "      <td>4.000000</td>\n",
       "      <td>6.000000</td>\n",
       "    </tr>\n",
       "    <tr>\n",
       "      <th>75%</th>\n",
       "      <td>5.750000</td>\n",
       "      <td>4.500000</td>\n",
       "      <td>6.250000</td>\n",
       "      <td>6.750000</td>\n",
       "    </tr>\n",
       "    <tr>\n",
       "      <th>max</th>\n",
       "      <td>6.000000</td>\n",
       "      <td>7.000000</td>\n",
       "      <td>7.000000</td>\n",
       "      <td>8.000000</td>\n",
       "    </tr>\n",
       "  </tbody>\n",
       "</table>\n",
       "</div>"
      ],
      "text/plain": [
       "              A         B         C         D\n",
       "count  6.000000  6.000000  6.000000  6.000000\n",
       "mean   4.333333  3.333333  4.333333  6.333333\n",
       "std    1.632993  2.250926  2.338090  1.032796\n",
       "min    2.000000  1.000000  1.000000  5.000000\n",
       "25%    3.250000  2.000000  3.250000  6.000000\n",
       "50%    4.500000  2.500000  4.000000  6.000000\n",
       "75%    5.750000  4.500000  6.250000  6.750000\n",
       "max    6.000000  7.000000  7.000000  8.000000"
      ]
     },
     "execution_count": 10,
     "metadata": {},
     "output_type": "execute_result"
    }
   ],
   "source": [
    "df.describe()"
   ]
  },
  {
   "cell_type": "code",
   "execution_count": 12,
   "metadata": {
    "collapsed": false
   },
   "outputs": [
    {
     "name": "stdout",
     "output_type": "stream",
     "text": [
      "   2013-01-01  2013-01-02  2013-01-03  2013-01-04  2013-01-05  2013-01-06\n",
      "A           3           6           2           6           4           5\n",
      "B           2           5           7           1           3           2\n",
      "C           4           4           3           7           1           7\n",
      "D           6           5           6           6           8           7\n",
      "            A  B  C  D\n",
      "2013-01-06  5  2  7  7\n",
      "2013-01-05  4  3  1  8\n",
      "2013-01-04  6  1  7  6\n",
      "2013-01-03  2  7  3  6\n",
      "2013-01-02  6  5  4  5\n",
      "2013-01-01  3  2  4  6\n",
      "            A  B  C  D\n",
      "2013-01-01  3  2  4  6\n",
      "2013-01-02  6  5  4  5\n",
      "2013-01-03  2  7  3  6\n",
      "2013-01-04  6  1  7  6\n",
      "2013-01-05  4  3  1  8\n",
      "2013-01-06  5  2  7  7\n"
     ]
    }
   ],
   "source": [
    "print df.T\n",
    "print df.sort_index(axis = 0, ascending = False)\n",
    "print df.sort_index(axis = 0)"
   ]
  },
  {
   "cell_type": "code",
   "execution_count": 13,
   "metadata": {
    "collapsed": false
   },
   "outputs": [
    {
     "name": "stdout",
     "output_type": "stream",
     "text": [
      "            A  B  C  D\n",
      "2013-01-04  6  1  7  6\n",
      "2013-01-01  3  2  4  6\n",
      "2013-01-06  5  2  7  7\n",
      "2013-01-05  4  3  1  8\n",
      "2013-01-02  6  5  4  5\n",
      "2013-01-03  2  7  3  6\n",
      "---\n",
      "[7 5 3 2 1]\n",
      "[7 5]\n",
      "5\n"
     ]
    }
   ],
   "source": [
    "print df.sort_values(by='B')\n",
    "print '---'\n",
    "print df.sort_values(by='B',ascending = False)['B'].unique()\n",
    "print df.sort_values(by='B',ascending = False)['B'].unique()[:2] #find the 2nd largest\n",
    "print df.sort_values(by='B',ascending = False)['B'].unique()[1] #find the 2nd largest"
   ]
  },
  {
   "cell_type": "code",
   "execution_count": 14,
   "metadata": {
    "collapsed": false
   },
   "outputs": [
    {
     "name": "stdout",
     "output_type": "stream",
     "text": [
      "2013-01-01    3\n",
      "2013-01-02    6\n",
      "2013-01-03    2\n",
      "2013-01-04    6\n",
      "2013-01-05    4\n",
      "2013-01-06    5\n",
      "Freq: D, Name: A, dtype: int64\n",
      "            A  B  C  D\n",
      "2013-01-01  3  2  4  6\n",
      "2013-01-02  6  5  4  5\n",
      "2013-01-03  2  7  3  6\n",
      "            A  B  C  D\n",
      "2013-01-01  3  2  4  6\n",
      "2013-01-02  6  5  4  5\n",
      "2013-01-03  2  7  3  6\n"
     ]
    }
   ],
   "source": [
    "#Selection\n",
    "print df['A']\n",
    "print df[0:3]\n",
    "print df['20130101':'20130103']"
   ]
  },
  {
   "cell_type": "code",
   "execution_count": 15,
   "metadata": {
    "collapsed": false
   },
   "outputs": [
    {
     "name": "stdout",
     "output_type": "stream",
     "text": [
      "A    3\n",
      "B    2\n",
      "C    4\n",
      "D    6\n",
      "Name: 2013-01-01 00:00:00, dtype: int64\n",
      "            A  B\n",
      "2013-01-01  3  2\n",
      "2013-01-02  6  5\n",
      "2013-01-03  2  7\n",
      "2013-01-04  6  1\n",
      "2013-01-05  4  3\n",
      "2013-01-06  5  2\n",
      "            A  B\n",
      "2013-01-01  3  2\n",
      "2013-01-02  6  5\n",
      "2013-01-03  2  7\n",
      "A    2\n",
      "B    7\n",
      "Name: 2013-01-03 00:00:00, dtype: int64\n"
     ]
    }
   ],
   "source": [
    "#Selection by Label\n",
    "print df.loc[dates[0]]\n",
    "print df.loc[:, ['A','B']]\n",
    "print df.loc['20130101':'20130103', ['A','B']]\n",
    "print df.loc['20130103', ['A','B']]"
   ]
  },
  {
   "cell_type": "code",
   "execution_count": 16,
   "metadata": {
    "collapsed": false
   },
   "outputs": [
    {
     "name": "stdout",
     "output_type": "stream",
     "text": [
      "3\n",
      "3\n"
     ]
    }
   ],
   "source": [
    "#For getting a scalar value\n",
    "print df.loc['20130101','A']\n",
    "print df.loc[dates[0],'A']"
   ]
  },
  {
   "cell_type": "code",
   "execution_count": 17,
   "metadata": {
    "collapsed": false
   },
   "outputs": [
    {
     "name": "stdout",
     "output_type": "stream",
     "text": [
      "A    6\n",
      "B    1\n",
      "C    7\n",
      "D    6\n",
      "Name: 2013-01-04 00:00:00, dtype: int64\n",
      "            A  B\n",
      "2013-01-04  6  1\n",
      "2013-01-05  4  3\n",
      "            A  D\n",
      "2013-01-04  6  6\n",
      "2013-01-06  5  7\n",
      "            A  B  C  D\n",
      "2013-01-02  6  5  4  5\n",
      "2013-01-03  2  7  3  6\n",
      "5\n"
     ]
    }
   ],
   "source": [
    "#Selection by Position\n",
    "print df.iloc[3]\n",
    "print df.iloc[3:5,0:2]\n",
    "print df.iloc[[3,5], [0,3]]\n",
    "print df.iloc[1:3,:]\n",
    "print df.iat[1,1]"
   ]
  },
  {
   "cell_type": "code",
   "execution_count": 23,
   "metadata": {
    "collapsed": false
   },
   "outputs": [
    {
     "name": "stdout",
     "output_type": "stream",
     "text": [
      "              A    B   C   D\n",
      "2013-01-01  NaN  NaN NaN NaN\n",
      "2013-01-02  6.0  5.0 NaN NaN\n",
      "2013-01-03  NaN  7.0 NaN NaN\n",
      "2013-01-04  6.0  NaN NaN NaN\n",
      "2013-01-05  4.0  NaN NaN NaN\n",
      "2013-01-06  5.0  NaN NaN NaN\n",
      "2013-01-01    0\n",
      "2013-01-02    2\n",
      "2013-01-03    1\n",
      "2013-01-04    1\n",
      "2013-01-05    1\n",
      "2013-01-06    1\n",
      "Freq: D, dtype: int64\n",
      "A    4\n",
      "B    2\n",
      "C    0\n",
      "D    0\n",
      "dtype: int64\n",
      "              A    B    C  D\n",
      "2013-01-01  NaN  NaN  4.0  6\n",
      "2013-01-02  6.0  5.0  4.0  5\n",
      "2013-01-03  NaN  7.0  NaN  6\n",
      "2013-01-04  6.0  NaN  7.0  6\n",
      "2013-01-05  4.0  NaN  NaN  8\n",
      "2013-01-06  5.0  NaN  7.0  7\n"
     ]
    }
   ],
   "source": [
    "#Boolean Indexing\n",
    "print df[df[['A','B']] > 3] # Using a single column values to select data.\n",
    "print df[df[['A','B']] > 3].count(axis = 1)  # Using a single column values to select data.\n",
    "print df[df[['A','B']] > 3].count(axis = 0)  # Using a single column values to select data.\n",
    "print df[df>3] # A where operation for getting."
   ]
  },
  {
   "cell_type": "code",
   "execution_count": 24,
   "metadata": {
    "collapsed": false
   },
   "outputs": [
    {
     "name": "stdout",
     "output_type": "stream",
     "text": [
      "            A  B  C  D     E\n",
      "2013-01-02  6  5  4  5   two\n",
      "2013-01-03  2  7  3  6   two\n",
      "2013-01-06  5  2  7  7  four\n"
     ]
    }
   ],
   "source": [
    "#Using the isin() method for filtering:\n",
    "df2 = df.copy()\n",
    "df2['E'] = ['one','two','two','three','one','four']\n",
    "# print df2[df2.E.isin(['two','four'])]\n",
    "print df2[df2['E'].isin(['two','four'])]"
   ]
  },
  {
   "cell_type": "code",
   "execution_count": 29,
   "metadata": {
    "collapsed": false
   },
   "outputs": [
    {
     "name": "stdout",
     "output_type": "stream",
     "text": [
      "2013-01-01    0\n",
      "2013-01-02    1\n",
      "2013-01-03    2\n",
      "2013-01-04    3\n",
      "2013-01-05    4\n",
      "2013-01-06    5\n",
      "Freq: D, dtype: int64\n",
      "            A  B  C  D  F\n",
      "2013-01-01  0  0  0  6  0\n",
      "2013-01-02  6  5  4  5  1\n",
      "2013-01-03  2  7  3  6  2\n",
      "2013-01-04  6  1  7  6  3\n",
      "2013-01-05  4  3  1  8  4\n",
      "2013-01-06  5  2  7  7  5\n"
     ]
    }
   ],
   "source": [
    "#Setting with .at() and .iat()\n",
    "s1 = pd.Series(range(6),index = pd.date_range('20130101',periods = 6))\n",
    "print s1\n",
    "df['F'] = s1\n",
    "df.at[dates[0],'A'] = 0\n",
    "df.iat[0,1] = 0\n",
    "df.iloc[0,2] = 0\n",
    "print df\n",
    "# df.iat[[3,5], [0,3]] = 0 #not ok, must use interger to index"
   ]
  },
  {
   "cell_type": "code",
   "execution_count": 34,
   "metadata": {
    "collapsed": false
   },
   "outputs": [
    {
     "name": "stdout",
     "output_type": "stream",
     "text": [
      "2013-01-01     5\n",
      "2013-01-02    20\n",
      "2013-01-03     5\n",
      "2013-01-04     5\n",
      "2013-01-05    40\n",
      "2013-01-06    45\n",
      "Freq: D, Name: D, dtype: int64\n",
      "            a  b  c  d\n",
      "2013-01-01  1  6  5  1\n",
      "2013-01-02  2  8  6  4\n",
      "2013-01-03  1  2  9  1\n",
      "2013-01-04  2  9  4  1\n",
      "2013-01-05  4  9  8  8\n",
      "2013-01-06  9  8  1  9\n"
     ]
    }
   ],
   "source": [
    "df = pd.DataFrame(np.random.randint(1,10,[6,4]), index = dates, columns = list('ABCD'))\n",
    "f = lambda x: x*5\n",
    "# df.loc[:,'D'] = np.array([5]*len(df))\n",
    "print df['D'].map(lambda x: x*5) #must save back, otherwise will not save results\n",
    "df.columns = [x.lower() for x in df.columns] #operation on columns\n",
    "print df"
   ]
  },
  {
   "cell_type": "code",
   "execution_count": 39,
   "metadata": {
    "collapsed": false
   },
   "outputs": [
    {
     "data": {
      "text/html": [
       "<div>\n",
       "<table border=\"1\" class=\"dataframe\">\n",
       "  <thead>\n",
       "    <tr style=\"text-align: right;\">\n",
       "      <th></th>\n",
       "      <th>A</th>\n",
       "      <th>B</th>\n",
       "      <th>C</th>\n",
       "      <th>D</th>\n",
       "    </tr>\n",
       "  </thead>\n",
       "  <tbody>\n",
       "    <tr>\n",
       "      <th>0</th>\n",
       "      <td>16.0</td>\n",
       "      <td>10.0</td>\n",
       "      <td>14.0</td>\n",
       "      <td>8.0</td>\n",
       "    </tr>\n",
       "    <tr>\n",
       "      <th>1</th>\n",
       "      <td>4.0</td>\n",
       "      <td>16.0</td>\n",
       "      <td>16.0</td>\n",
       "      <td>14.0</td>\n",
       "    </tr>\n",
       "    <tr>\n",
       "      <th>2</th>\n",
       "      <td>6.0</td>\n",
       "      <td>2.0</td>\n",
       "      <td>2.0</td>\n",
       "      <td>4.0</td>\n",
       "    </tr>\n",
       "    <tr>\n",
       "      <th>3</th>\n",
       "      <td>14.0</td>\n",
       "      <td>4.0</td>\n",
       "      <td>8.0</td>\n",
       "      <td>10.0</td>\n",
       "    </tr>\n",
       "    <tr>\n",
       "      <th>4</th>\n",
       "      <td>14.0</td>\n",
       "      <td>18.0</td>\n",
       "      <td>6.0</td>\n",
       "      <td>4.0</td>\n",
       "    </tr>\n",
       "    <tr>\n",
       "      <th>5</th>\n",
       "      <td>6.0</td>\n",
       "      <td>16.0</td>\n",
       "      <td>8.0</td>\n",
       "      <td>16.0</td>\n",
       "    </tr>\n",
       "  </tbody>\n",
       "</table>\n",
       "</div>"
      ],
      "text/plain": [
       "      A     B     C     D\n",
       "0  16.0  10.0  14.0   8.0\n",
       "1   4.0  16.0  16.0  14.0\n",
       "2   6.0   2.0   2.0   4.0\n",
       "3  14.0   4.0   8.0  10.0\n",
       "4  14.0  18.0   6.0   4.0\n",
       "5   6.0  16.0   8.0  16.0"
      ]
     },
     "execution_count": 39,
     "metadata": {},
     "output_type": "execute_result"
    }
   ],
   "source": [
    "df = pd.DataFrame(np.random.randint(1,10,[6,4]), index = dates, columns = list('ABCD'))\n",
    "df1 = df.applymap(lambda x: float(x) *2)\n",
    "df1"
   ]
  },
  {
   "cell_type": "code",
   "execution_count": 42,
   "metadata": {
    "collapsed": false
   },
   "outputs": [
    {
     "data": {
      "text/html": [
       "<div>\n",
       "<table border=\"1\" class=\"dataframe\">\n",
       "  <thead>\n",
       "    <tr style=\"text-align: right;\">\n",
       "      <th></th>\n",
       "      <th>A</th>\n",
       "      <th>B</th>\n",
       "      <th>C</th>\n",
       "      <th>D</th>\n",
       "    </tr>\n",
       "  </thead>\n",
       "  <tbody>\n",
       "    <tr>\n",
       "      <th>0</th>\n",
       "      <td>-100.0</td>\n",
       "      <td>-10.0</td>\n",
       "      <td>-14.0</td>\n",
       "      <td>-100.0</td>\n",
       "    </tr>\n",
       "    <tr>\n",
       "      <th>1</th>\n",
       "      <td>-4.0</td>\n",
       "      <td>-16.0</td>\n",
       "      <td>-16.0</td>\n",
       "      <td>-14.0</td>\n",
       "    </tr>\n",
       "    <tr>\n",
       "      <th>2</th>\n",
       "      <td>-6.0</td>\n",
       "      <td>-2.0</td>\n",
       "      <td>-2.0</td>\n",
       "      <td>-4.0</td>\n",
       "    </tr>\n",
       "    <tr>\n",
       "      <th>3</th>\n",
       "      <td>-14.0</td>\n",
       "      <td>-4.0</td>\n",
       "      <td>-8.0</td>\n",
       "      <td>-10.0</td>\n",
       "    </tr>\n",
       "    <tr>\n",
       "      <th>4</th>\n",
       "      <td>-14.0</td>\n",
       "      <td>-18.0</td>\n",
       "      <td>-6.0</td>\n",
       "      <td>-4.0</td>\n",
       "    </tr>\n",
       "    <tr>\n",
       "      <th>5</th>\n",
       "      <td>-6.0</td>\n",
       "      <td>-16.0</td>\n",
       "      <td>-8.0</td>\n",
       "      <td>-16.0</td>\n",
       "    </tr>\n",
       "  </tbody>\n",
       "</table>\n",
       "</div>"
      ],
      "text/plain": [
       "       A     B     C      D\n",
       "0 -100.0 -10.0 -14.0 -100.0\n",
       "1   -4.0 -16.0 -16.0  -14.0\n",
       "2   -6.0  -2.0  -2.0   -4.0\n",
       "3  -14.0  -4.0  -8.0  -10.0\n",
       "4  -14.0 -18.0  -6.0   -4.0\n",
       "5   -6.0 -16.0  -8.0  -16.0"
      ]
     },
     "execution_count": 42,
     "metadata": {},
     "output_type": "execute_result"
    }
   ],
   "source": [
    "df2 = df1.copy()\n",
    "df2[df2>0] = -df3\n",
    "df2"
   ]
  },
  {
   "cell_type": "code",
   "execution_count": 43,
   "metadata": {
    "collapsed": false
   },
   "outputs": [
    {
     "data": {
      "text/html": [
       "<div>\n",
       "<table border=\"1\" class=\"dataframe\">\n",
       "  <thead>\n",
       "    <tr style=\"text-align: right;\">\n",
       "      <th></th>\n",
       "      <th>A</th>\n",
       "      <th>B</th>\n",
       "      <th>C</th>\n",
       "      <th>D</th>\n",
       "    </tr>\n",
       "  </thead>\n",
       "  <tbody>\n",
       "    <tr>\n",
       "      <th>0</th>\n",
       "      <td>100.0</td>\n",
       "      <td>10.0</td>\n",
       "      <td>14.0</td>\n",
       "      <td>100.0</td>\n",
       "    </tr>\n",
       "    <tr>\n",
       "      <th>1</th>\n",
       "      <td>4.0</td>\n",
       "      <td>16.0</td>\n",
       "      <td>16.0</td>\n",
       "      <td>14.0</td>\n",
       "    </tr>\n",
       "    <tr>\n",
       "      <th>2</th>\n",
       "      <td>6.0</td>\n",
       "      <td>2.0</td>\n",
       "      <td>2.0</td>\n",
       "      <td>4.0</td>\n",
       "    </tr>\n",
       "    <tr>\n",
       "      <th>3</th>\n",
       "      <td>14.0</td>\n",
       "      <td>4.0</td>\n",
       "      <td>8.0</td>\n",
       "      <td>10.0</td>\n",
       "    </tr>\n",
       "    <tr>\n",
       "      <th>4</th>\n",
       "      <td>14.0</td>\n",
       "      <td>18.0</td>\n",
       "      <td>6.0</td>\n",
       "      <td>4.0</td>\n",
       "    </tr>\n",
       "    <tr>\n",
       "      <th>5</th>\n",
       "      <td>6.0</td>\n",
       "      <td>16.0</td>\n",
       "      <td>8.0</td>\n",
       "      <td>16.0</td>\n",
       "    </tr>\n",
       "  </tbody>\n",
       "</table>\n",
       "</div>"
      ],
      "text/plain": [
       "       A     B     C      D\n",
       "0  100.0  10.0  14.0  100.0\n",
       "1    4.0  16.0  16.0   14.0\n",
       "2    6.0   2.0   2.0    4.0\n",
       "3   14.0   4.0   8.0   10.0\n",
       "4   14.0  18.0   6.0    4.0\n",
       "5    6.0  16.0   8.0   16.0"
      ]
     },
     "execution_count": 43,
     "metadata": {},
     "output_type": "execute_result"
    }
   ],
   "source": [
    "df3 = df1.copy()\n",
    "df3.iloc[0,0] = 100\n",
    "df3.iloc[0,3] = 100\n",
    "df3"
   ]
  },
  {
   "cell_type": "code",
   "execution_count": 52,
   "metadata": {
    "collapsed": false
   },
   "outputs": [
    {
     "name": "stdout",
     "output_type": "stream",
     "text": [
      "(6, 4) (6,)\n",
      "------\n",
      "       A     B     C      D\n",
      "0 -100.0 -10.0 -14.0 -100.0\n",
      "1   -4.0 -16.0 -16.0  -14.0\n",
      "2   -6.0  -2.0  -2.0   -4.0\n",
      "3  -14.0  -4.0  -8.0  -10.0\n",
      "4  -14.0 -18.0  -6.0   -4.0\n",
      "5   -6.0 -16.0  -8.0  -16.0\n"
     ]
    }
   ],
   "source": [
    "B = np.arange(6)\n",
    "print df2.shape, B.shape #shape is tuple\n",
    "print '------\\n', df2"
   ]
  },
  {
   "cell_type": "code",
   "execution_count": 54,
   "metadata": {
    "collapsed": false
   },
   "outputs": [
    {
     "name": "stdout",
     "output_type": "stream",
     "text": [
      "      B     C\n",
      "0  -0.0  -0.0\n",
      "1 -16.0 -16.0\n",
      "2  -4.0  -4.0\n",
      "3 -12.0 -24.0\n",
      "4 -72.0 -24.0\n",
      "5 -80.0 -40.0\n"
     ]
    }
   ],
   "source": [
    "print df2[['B','C']].apply(lambda x: x*B) #column to column multiplication by apply()"
   ]
  },
  {
   "cell_type": "code",
   "execution_count": 56,
   "metadata": {
    "collapsed": false
   },
   "outputs": [
    {
     "name": "stdout",
     "output_type": "stream",
     "text": [
      "      A     B     C     D\n",
      "0  -0.0  -0.0  -0.0  -0.0\n",
      "1  -4.0 -16.0 -16.0 -14.0\n",
      "2 -12.0  -4.0  -4.0  -8.0\n",
      "3 -42.0 -12.0 -24.0 -30.0\n",
      "4 -56.0 -72.0 -24.0 -16.0\n",
      "5 -30.0 -80.0 -40.0 -80.0\n"
     ]
    }
   ],
   "source": [
    "print (df2.T*B).T #transpose first, then use * to row*row, then transpose back"
   ]
  },
  {
   "cell_type": "code",
   "execution_count": 58,
   "metadata": {
    "collapsed": false
   },
   "outputs": [
    {
     "name": "stdout",
     "output_type": "stream",
     "text": [
      "     A     B     C      D\n",
      "0 -0.0 -10.0 -28.0 -300.0\n",
      "1 -0.0 -16.0 -32.0  -42.0\n",
      "2 -0.0  -2.0  -4.0  -12.0\n",
      "3 -0.0  -4.0 -16.0  -30.0\n",
      "4 -0.0 -18.0 -12.0  -12.0\n",
      "5 -0.0 -16.0 -16.0  -48.0\n",
      "       A     B     C      D\n",
      "0 -100.0 -10.0 -14.0 -100.0\n",
      "1   -4.0 -16.0 -16.0  -14.0\n",
      "2   -6.0  -2.0  -2.0   -4.0\n",
      "3  -14.0  -4.0  -8.0  -10.0\n",
      "4  -14.0 -18.0  -6.0   -4.0\n",
      "5   -6.0 -16.0  -8.0  -16.0\n"
     ]
    }
   ],
   "source": [
    "C = np.arange(4)\n",
    "print df2*C\n",
    "print df2"
   ]
  },
  {
   "cell_type": "code",
   "execution_count": 65,
   "metadata": {
    "collapsed": false
   },
   "outputs": [
    {
     "name": "stdout",
     "output_type": "stream",
     "text": [
      "     A    B    C    D    E\n",
      "0  8.0  5.0  7.0  4.0  1.0\n",
      "1  2.0  8.0  8.0  7.0  1.0\n",
      "2  3.0  1.0  1.0  2.0  NaN\n",
      "3  7.0  2.0  4.0  5.0  NaN\n",
      "--------\n",
      "     A    B    C    D    E\n",
      "0  8.0  5.0  7.0  4.0  1.0\n",
      "1  2.0  8.0  8.0  7.0  1.0\n"
     ]
    }
   ],
   "source": [
    "# Missing data\n",
    "df1 = df.reindex(index = dates[0:4], columns = list(df.columns) + ['E'])\n",
    "df1.loc[dates[0]:dates[1],'E'] = 1\n",
    "# df1.loc[dates[0], 'F'] = np.nan\n",
    "print df1.dropna(how='all')\n",
    "print '--------'\n",
    "print df1.dropna(how='any')\n"
   ]
  },
  {
   "cell_type": "code",
   "execution_count": 66,
   "metadata": {
    "collapsed": false
   },
   "outputs": [
    {
     "name": "stdout",
     "output_type": "stream",
     "text": [
      "     A    B    C    D    E\n",
      "0  8.0  5.0  7.0  4.0  1.0\n",
      "1  2.0  8.0  8.0  7.0  1.0\n",
      "2  3.0  1.0  1.0  2.0  5.0\n",
      "3  7.0  2.0  4.0  5.0  5.0\n",
      "     A    B    C    D    E\n",
      "0  8.0  5.0  7.0  4.0  1.0\n",
      "1  2.0  8.0  8.0  7.0  1.0\n",
      "2  3.0  1.0  1.0  2.0  5.0\n",
      "3  7.0  2.0  4.0  5.0  5.0\n"
     ]
    }
   ],
   "source": [
    "print df1.fillna(value = 5)\n",
    "print df1.fillna(5)"
   ]
  },
  {
   "cell_type": "code",
   "execution_count": 70,
   "metadata": {
    "collapsed": false
   },
   "outputs": [
    {
     "name": "stdout",
     "output_type": "stream",
     "text": [
      "       A      B      C      D      E\n",
      "0  False  False  False  False  False\n",
      "1  False  False  False  False  False\n",
      "2  False  False  False  False   True\n",
      "3  False  False  False  False   True\n",
      "A    4\n",
      "B    4\n",
      "C    4\n",
      "D    4\n",
      "E    4\n",
      "dtype: int64\n",
      "A    0\n",
      "B    0\n",
      "C    0\n",
      "D    0\n",
      "E    2\n",
      "dtype: int64\n"
     ]
    }
   ],
   "source": [
    "print df1.isnull()\n",
    "print df1.isnull().count()\n",
    "print df1.isnull().sum()"
   ]
  },
  {
   "cell_type": "code",
   "execution_count": 72,
   "metadata": {
    "collapsed": false
   },
   "outputs": [
    {
     "name": "stdout",
     "output_type": "stream",
     "text": [
      "0    5.00\n",
      "1    5.20\n",
      "2    1.75\n",
      "3    4.50\n",
      "dtype: float64\n",
      "A    5.0\n",
      "B    4.0\n",
      "C    5.0\n",
      "D    4.5\n",
      "E    1.0\n",
      "dtype: float64\n"
     ]
    }
   ],
   "source": [
    "#Operations -stats\n",
    "print df1.mean(1) #horizontal, add each column\n",
    "print df1.mean() #vertical,default = 0, add each row"
   ]
  },
  {
   "cell_type": "code",
   "execution_count": 158,
   "metadata": {
    "collapsed": false
   },
   "outputs": [
    {
     "name": "stdout",
     "output_type": "stream",
     "text": [
      "2013-01-01    5.0\n",
      "2013-01-02    NaN\n",
      "2013-01-03    6.0\n",
      "2013-01-04    8.0\n",
      "2013-01-05    NaN\n",
      "2013-01-06    NaN\n",
      "Freq: D, dtype: float64\n",
      "2013-01-01    NaN\n",
      "2013-01-02    NaN\n",
      "2013-01-03    1.0\n",
      "2013-01-04    3.0\n",
      "2013-01-05    5.0\n",
      "2013-01-06    NaN\n",
      "Freq: D, dtype: float64\n"
     ]
    }
   ],
   "source": [
    "s = pd.Series([1,3,5,np.nan,6,8], index=dates).shift(-2)\n",
    "print s\n",
    "s = pd.Series([1,3,5,np.nan,6,8], index=dates).shift(2)\n",
    "print s"
   ]
  },
  {
   "cell_type": "markdown",
   "metadata": {},
   "source": [
    "## pd.Series Vs np.array : same kind of computation"
   ]
  },
  {
   "cell_type": "code",
   "execution_count": 159,
   "metadata": {
    "collapsed": false
   },
   "outputs": [
    {
     "data": {
      "text/plain": [
       "0    1.0\n",
       "1    3.0\n",
       "2    5.0\n",
       "3    NaN\n",
       "4    6.0\n",
       "5    8.0\n",
       "dtype: float64"
      ]
     },
     "execution_count": 159,
     "metadata": {},
     "output_type": "execute_result"
    }
   ],
   "source": [
    "s = pd.Series([1,3,5,np.nan,6,8], index=range(6))\n",
    "s"
   ]
  },
  {
   "cell_type": "code",
   "execution_count": 160,
   "metadata": {
    "collapsed": false
   },
   "outputs": [
    {
     "data": {
      "text/plain": [
       "array([  1.,   3.,   5.,  nan,   6.,   8.])"
      ]
     },
     "execution_count": 160,
     "metadata": {},
     "output_type": "execute_result"
    }
   ],
   "source": [
    "sa = np.array([1,3,5,np.nan,6,8])\n",
    "sa"
   ]
  },
  {
   "cell_type": "code",
   "execution_count": 161,
   "metadata": {
    "collapsed": false
   },
   "outputs": [
    {
     "name": "stdout",
     "output_type": "stream",
     "text": [
      "   A  B  C  D\n",
      "0  8  5  7  4\n",
      "1  2  8  8  7\n",
      "2  3  1  1  2\n",
      "3  7  2  4  5\n",
      "4  7  9  3  2\n",
      "5  3  8  4  8\n",
      "     A    B    C    D\n",
      "0  7.0  4.0  6.0  3.0\n",
      "1 -1.0  5.0  5.0  4.0\n",
      "2 -2.0 -4.0 -4.0 -3.0\n",
      "3  NaN  NaN  NaN  NaN\n",
      "4  1.0  3.0 -3.0 -4.0\n",
      "5 -5.0  0.0 -4.0  0.0\n"
     ]
    }
   ],
   "source": [
    "print df\n",
    "print df.apply(lambda x: x-s) #if np.nan True --> np.nan or NaN."
   ]
  },
  {
   "cell_type": "code",
   "execution_count": 162,
   "metadata": {
    "collapsed": false
   },
   "outputs": [
    {
     "name": "stdout",
     "output_type": "stream",
     "text": [
      "   A  B  C  D\n",
      "0  8  5  7  4\n",
      "1  2  8  8  7\n",
      "2  3  1  1  2\n",
      "3  7  2  4  5\n",
      "4  7  9  3  2\n",
      "5  3  8  4  8\n",
      "     A    B    C    D\n",
      "0  7.0  4.0  6.0  3.0\n",
      "1 -1.0  5.0  5.0  4.0\n",
      "2 -2.0 -4.0 -4.0 -3.0\n",
      "3  NaN  NaN  NaN  NaN\n",
      "4  1.0  3.0 -3.0 -4.0\n",
      "5 -5.0  0.0 -4.0  0.0\n"
     ]
    }
   ],
   "source": [
    "print df\n",
    "print df.apply(lambda x: x-sa) #if np.nan True --> np.nan or NaN."
   ]
  },
  {
   "cell_type": "code",
   "execution_count": 127,
   "metadata": {
    "collapsed": false
   },
   "outputs": [
    {
     "name": "stdout",
     "output_type": "stream",
     "text": [
      "   A  B  C  D\n",
      "0 -2 -5 -3 -6\n",
      "1 -8 -2 -2 -3\n",
      "2 -7 -9 -9 -8\n",
      "3 -3 -8 -6 -5\n",
      "4 -3 -1 -7 -8\n",
      "5 -7 -2 -6 -2\n"
     ]
    }
   ],
   "source": [
    "print df.applymap(lambda x: x - 10)"
   ]
  },
  {
   "cell_type": "code",
   "execution_count": 133,
   "metadata": {
    "collapsed": false
   },
   "outputs": [
    {
     "name": "stdout",
     "output_type": "stream",
     "text": [
      "   A  B  C  D\n",
      "0  8  5  7  4\n",
      "1  2  8  8  7\n",
      "2  3  1  1  2\n",
      "3  7  2  4  5\n",
      "4  7  9  3  2\n",
      "5  3  8  4  8\n",
      "    0   1    2    3    4   5\n",
      "0 NaN NaN  7.0  5.0  3.0 NaN\n",
      "1 NaN NaN  1.0 -1.0 -3.0 NaN\n",
      "2 NaN NaN  2.0  0.0 -2.0 NaN\n",
      "3 NaN NaN  6.0  4.0  2.0 NaN\n",
      "4 NaN NaN  6.0  4.0  2.0 NaN\n",
      "5 NaN NaN  2.0  0.0 -2.0 NaN\n"
     ]
    }
   ],
   "source": [
    "print df\n",
    "print df['A'].apply(lambda x: x-s)"
   ]
  },
  {
   "cell_type": "code",
   "execution_count": 164,
   "metadata": {
    "collapsed": false
   },
   "outputs": [
    {
     "name": "stdout",
     "output_type": "stream",
     "text": [
      "0    49.0\n",
      "1     1.0\n",
      "2     4.0\n",
      "3     NaN\n",
      "4     1.0\n",
      "5    25.0\n",
      "dtype: float64\n",
      "0    49.0\n",
      "1     1.0\n",
      "2     4.0\n",
      "3     NaN\n",
      "4     1.0\n",
      "5    25.0\n",
      "dtype: float64\n",
      "0    49.0\n",
      "1     1.0\n",
      "2     4.0\n",
      "3     NaN\n",
      "4     1.0\n",
      "5    25.0\n",
      "dtype: float64\n",
      "0    49.0\n",
      "1     1.0\n",
      "2     4.0\n",
      "3     NaN\n",
      "4     1.0\n",
      "5    25.0\n",
      "dtype: float64\n"
     ]
    }
   ],
   "source": [
    "f = lambda x: x**2\n",
    "print (df['A']-s)**2\n",
    "print (df['A']-s).map(f)\n",
    "print (df['A'].sub(s))**2\n",
    "print (df['A'].sub(s)).map(f)"
   ]
  },
  {
   "cell_type": "code",
   "execution_count": 138,
   "metadata": {
    "collapsed": false
   },
   "outputs": [
    {
     "name": "stdout",
     "output_type": "stream",
     "text": [
      "<class 'pandas.core.series.Series'>\n"
     ]
    }
   ],
   "source": [
    "print type(df['A']-s)"
   ]
  },
  {
   "cell_type": "code",
   "execution_count": 143,
   "metadata": {
    "collapsed": false
   },
   "outputs": [
    {
     "name": "stdout",
     "output_type": "stream",
     "text": [
      "0     4.0\n",
      "1    16.0\n",
      "2     4.0\n",
      "3     NaN\n",
      "4     NaN\n",
      "5     NaN\n",
      "dtype: float64\n"
     ]
    }
   ],
   "source": [
    "print ((df['A']-s)**2).shift(-2) #negative == upward"
   ]
  },
  {
   "cell_type": "code",
   "execution_count": 144,
   "metadata": {
    "collapsed": false
   },
   "outputs": [
    {
     "name": "stdout",
     "output_type": "stream",
     "text": [
      "0     NaN\n",
      "1     NaN\n",
      "2     NaN\n",
      "3     NaN\n",
      "4     4.0\n",
      "5    16.0\n",
      "dtype: float64\n"
     ]
    }
   ],
   "source": [
    "print ((df['A']-s)**2).shift(2) #positive == downward"
   ]
  },
  {
   "cell_type": "markdown",
   "metadata": {},
   "source": [
    "## Apply"
   ]
  },
  {
   "cell_type": "code",
   "execution_count": 168,
   "metadata": {
    "collapsed": false
   },
   "outputs": [
    {
     "data": {
      "text/html": [
       "<div>\n",
       "<table border=\"1\" class=\"dataframe\">\n",
       "  <thead>\n",
       "    <tr style=\"text-align: right;\">\n",
       "      <th></th>\n",
       "      <th>A</th>\n",
       "      <th>B</th>\n",
       "      <th>C</th>\n",
       "      <th>D</th>\n",
       "    </tr>\n",
       "  </thead>\n",
       "  <tbody>\n",
       "    <tr>\n",
       "      <th>0</th>\n",
       "      <td>8</td>\n",
       "      <td>13</td>\n",
       "      <td>20</td>\n",
       "      <td>24</td>\n",
       "    </tr>\n",
       "    <tr>\n",
       "      <th>1</th>\n",
       "      <td>2</td>\n",
       "      <td>10</td>\n",
       "      <td>18</td>\n",
       "      <td>25</td>\n",
       "    </tr>\n",
       "    <tr>\n",
       "      <th>2</th>\n",
       "      <td>3</td>\n",
       "      <td>4</td>\n",
       "      <td>5</td>\n",
       "      <td>7</td>\n",
       "    </tr>\n",
       "    <tr>\n",
       "      <th>3</th>\n",
       "      <td>7</td>\n",
       "      <td>9</td>\n",
       "      <td>13</td>\n",
       "      <td>18</td>\n",
       "    </tr>\n",
       "    <tr>\n",
       "      <th>4</th>\n",
       "      <td>7</td>\n",
       "      <td>16</td>\n",
       "      <td>19</td>\n",
       "      <td>21</td>\n",
       "    </tr>\n",
       "    <tr>\n",
       "      <th>5</th>\n",
       "      <td>3</td>\n",
       "      <td>11</td>\n",
       "      <td>15</td>\n",
       "      <td>23</td>\n",
       "    </tr>\n",
       "  </tbody>\n",
       "</table>\n",
       "</div>"
      ],
      "text/plain": [
       "   A   B   C   D\n",
       "0  8  13  20  24\n",
       "1  2  10  18  25\n",
       "2  3   4   5   7\n",
       "3  7   9  13  18\n",
       "4  7  16  19  21\n",
       "5  3  11  15  23"
      ]
     },
     "execution_count": 168,
     "metadata": {},
     "output_type": "execute_result"
    }
   ],
   "source": [
    "df.apply(np.cumsum,axis = 1)"
   ]
  },
  {
   "cell_type": "code",
   "execution_count": 169,
   "metadata": {
    "collapsed": false
   },
   "outputs": [
    {
     "data": {
      "text/html": [
       "<div>\n",
       "<table border=\"1\" class=\"dataframe\">\n",
       "  <thead>\n",
       "    <tr style=\"text-align: right;\">\n",
       "      <th></th>\n",
       "      <th>A</th>\n",
       "      <th>B</th>\n",
       "      <th>C</th>\n",
       "      <th>D</th>\n",
       "    </tr>\n",
       "  </thead>\n",
       "  <tbody>\n",
       "    <tr>\n",
       "      <th>0</th>\n",
       "      <td>8</td>\n",
       "      <td>5</td>\n",
       "      <td>7</td>\n",
       "      <td>4</td>\n",
       "    </tr>\n",
       "    <tr>\n",
       "      <th>1</th>\n",
       "      <td>10</td>\n",
       "      <td>13</td>\n",
       "      <td>15</td>\n",
       "      <td>11</td>\n",
       "    </tr>\n",
       "    <tr>\n",
       "      <th>2</th>\n",
       "      <td>13</td>\n",
       "      <td>14</td>\n",
       "      <td>16</td>\n",
       "      <td>13</td>\n",
       "    </tr>\n",
       "    <tr>\n",
       "      <th>3</th>\n",
       "      <td>20</td>\n",
       "      <td>16</td>\n",
       "      <td>20</td>\n",
       "      <td>18</td>\n",
       "    </tr>\n",
       "    <tr>\n",
       "      <th>4</th>\n",
       "      <td>27</td>\n",
       "      <td>25</td>\n",
       "      <td>23</td>\n",
       "      <td>20</td>\n",
       "    </tr>\n",
       "    <tr>\n",
       "      <th>5</th>\n",
       "      <td>30</td>\n",
       "      <td>33</td>\n",
       "      <td>27</td>\n",
       "      <td>28</td>\n",
       "    </tr>\n",
       "  </tbody>\n",
       "</table>\n",
       "</div>"
      ],
      "text/plain": [
       "    A   B   C   D\n",
       "0   8   5   7   4\n",
       "1  10  13  15  11\n",
       "2  13  14  16  13\n",
       "3  20  16  20  18\n",
       "4  27  25  23  20\n",
       "5  30  33  27  28"
      ]
     },
     "execution_count": 169,
     "metadata": {},
     "output_type": "execute_result"
    }
   ],
   "source": [
    "df.apply(np.cumsum)"
   ]
  },
  {
   "cell_type": "code",
   "execution_count": 170,
   "metadata": {
    "collapsed": false
   },
   "outputs": [
    {
     "data": {
      "text/plain": [
       "A    6\n",
       "B    8\n",
       "C    7\n",
       "D    6\n",
       "dtype: int64"
      ]
     },
     "execution_count": 170,
     "metadata": {},
     "output_type": "execute_result"
    }
   ],
   "source": [
    "df.apply(lambda x: x.max() - x.min())"
   ]
  },
  {
   "cell_type": "code",
   "execution_count": 175,
   "metadata": {
    "collapsed": false
   },
   "outputs": [
    {
     "data": {
      "text/html": [
       "<div>\n",
       "<table border=\"1\" class=\"dataframe\">\n",
       "  <thead>\n",
       "    <tr style=\"text-align: right;\">\n",
       "      <th></th>\n",
       "      <th>A</th>\n",
       "      <th>B</th>\n",
       "      <th>C</th>\n",
       "      <th>D</th>\n",
       "    </tr>\n",
       "  </thead>\n",
       "  <tbody>\n",
       "    <tr>\n",
       "      <th>count</th>\n",
       "      <td>6.000000</td>\n",
       "      <td>6.000000</td>\n",
       "      <td>6.000000</td>\n",
       "      <td>6.000000</td>\n",
       "    </tr>\n",
       "    <tr>\n",
       "      <th>mean</th>\n",
       "      <td>5.000000</td>\n",
       "      <td>5.500000</td>\n",
       "      <td>4.500000</td>\n",
       "      <td>4.666667</td>\n",
       "    </tr>\n",
       "    <tr>\n",
       "      <th>std</th>\n",
       "      <td>2.607681</td>\n",
       "      <td>3.391165</td>\n",
       "      <td>2.588436</td>\n",
       "      <td>2.503331</td>\n",
       "    </tr>\n",
       "    <tr>\n",
       "      <th>min</th>\n",
       "      <td>2.000000</td>\n",
       "      <td>1.000000</td>\n",
       "      <td>1.000000</td>\n",
       "      <td>2.000000</td>\n",
       "    </tr>\n",
       "    <tr>\n",
       "      <th>25%</th>\n",
       "      <td>3.000000</td>\n",
       "      <td>2.750000</td>\n",
       "      <td>3.250000</td>\n",
       "      <td>2.500000</td>\n",
       "    </tr>\n",
       "    <tr>\n",
       "      <th>50%</th>\n",
       "      <td>5.000000</td>\n",
       "      <td>6.500000</td>\n",
       "      <td>4.000000</td>\n",
       "      <td>4.500000</td>\n",
       "    </tr>\n",
       "    <tr>\n",
       "      <th>75%</th>\n",
       "      <td>7.000000</td>\n",
       "      <td>8.000000</td>\n",
       "      <td>6.250000</td>\n",
       "      <td>6.500000</td>\n",
       "    </tr>\n",
       "    <tr>\n",
       "      <th>max</th>\n",
       "      <td>8.000000</td>\n",
       "      <td>9.000000</td>\n",
       "      <td>8.000000</td>\n",
       "      <td>8.000000</td>\n",
       "    </tr>\n",
       "  </tbody>\n",
       "</table>\n",
       "</div>"
      ],
      "text/plain": [
       "              A         B         C         D\n",
       "count  6.000000  6.000000  6.000000  6.000000\n",
       "mean   5.000000  5.500000  4.500000  4.666667\n",
       "std    2.607681  3.391165  2.588436  2.503331\n",
       "min    2.000000  1.000000  1.000000  2.000000\n",
       "25%    3.000000  2.750000  3.250000  2.500000\n",
       "50%    5.000000  6.500000  4.000000  4.500000\n",
       "75%    7.000000  8.000000  6.250000  6.500000\n",
       "max    8.000000  9.000000  8.000000  8.000000"
      ]
     },
     "execution_count": 175,
     "metadata": {},
     "output_type": "execute_result"
    }
   ],
   "source": [
    "df.describe()"
   ]
  },
  {
   "cell_type": "markdown",
   "metadata": {},
   "source": [
    "## Histogramming"
   ]
  },
  {
   "cell_type": "code",
   "execution_count": 178,
   "metadata": {
    "collapsed": false
   },
   "outputs": [
    {
     "data": {
      "text/plain": [
       "0    0\n",
       "1    3\n",
       "2    6\n",
       "3    4\n",
       "4    0\n",
       "5    4\n",
       "6    6\n",
       "7    1\n",
       "8    4\n",
       "9    1\n",
       "dtype: int64"
      ]
     },
     "execution_count": 178,
     "metadata": {},
     "output_type": "execute_result"
    }
   ],
   "source": [
    "s = pd.Series(np.random.randint(0,7,10))\n",
    "s"
   ]
  },
  {
   "cell_type": "code",
   "execution_count": 191,
   "metadata": {
    "collapsed": false
   },
   "outputs": [
    {
     "data": {
      "text/plain": [
       "4    3\n",
       "6    2\n",
       "1    2\n",
       "0    2\n",
       "3    1\n",
       "dtype: int64"
      ]
     },
     "execution_count": 191,
     "metadata": {},
     "output_type": "execute_result"
    }
   ],
   "source": [
    "s.value_counts()"
   ]
  },
  {
   "cell_type": "code",
   "execution_count": 206,
   "metadata": {
    "collapsed": false
   },
   "outputs": [
    {
     "data": {
      "text/plain": [
       "5"
      ]
     },
     "execution_count": 206,
     "metadata": {},
     "output_type": "execute_result"
    }
   ],
   "source": [
    "s.unique().size"
   ]
  },
  {
   "cell_type": "code",
   "execution_count": 209,
   "metadata": {
    "collapsed": false
   },
   "outputs": [
    {
     "name": "stdout",
     "output_type": "stream",
     "text": [
      "<class 'pandas.core.series.Series'>\n",
      "5\n"
     ]
    }
   ],
   "source": [
    "print type(s.value_counts())\n",
    "print len(s.value_counts())"
   ]
  },
  {
   "cell_type": "code",
   "execution_count": 222,
   "metadata": {
    "collapsed": false
   },
   "outputs": [
    {
     "name": "stdout",
     "output_type": "stream",
     "text": [
      "0    8\n",
      "1    2\n",
      "2    3\n",
      "3    7\n",
      "4    7\n",
      "5    3\n",
      "Name: A, dtype: int64\n",
      "0    5\n",
      "1    8\n",
      "2    1\n",
      "3    2\n",
      "4    9\n",
      "5    8\n",
      "Name: B, dtype: int64\n",
      "0    7\n",
      "1    8\n",
      "2    1\n",
      "3    4\n",
      "4    3\n",
      "5    4\n",
      "Name: C, dtype: int64\n",
      "0    4\n",
      "1    7\n",
      "2    2\n",
      "3    5\n",
      "4    2\n",
      "5    8\n",
      "Name: D, dtype: int64\n"
     ]
    }
   ],
   "source": [
    "for col in df:\n",
    "    if df[col].dtype == 'int64':\n",
    "        print df[col]"
   ]
  },
  {
   "cell_type": "code",
   "execution_count": 224,
   "metadata": {
    "collapsed": false
   },
   "outputs": [
    {
     "name": "stdout",
     "output_type": "stream",
     "text": [
      "['A', 'B', 'C', 'D']\n"
     ]
    }
   ],
   "source": [
    "print [x for x in df if df[x].dtype == 'int64']"
   ]
  },
  {
   "cell_type": "code",
   "execution_count": 225,
   "metadata": {
    "collapsed": false
   },
   "outputs": [
    {
     "name": "stdout",
     "output_type": "stream",
     "text": [
      "A\n",
      "0    8\n",
      "1    2\n",
      "2    3\n",
      "3    7\n",
      "4    7\n",
      "5    3\n",
      "Name: A, dtype: int64\n",
      "B\n",
      "0    5\n",
      "1    8\n",
      "2    1\n",
      "3    2\n",
      "4    9\n",
      "5    8\n",
      "Name: B, dtype: int64\n",
      "C\n",
      "0    7\n",
      "1    8\n",
      "2    1\n",
      "3    4\n",
      "4    3\n",
      "5    4\n",
      "Name: C, dtype: int64\n",
      "D\n",
      "0    4\n",
      "1    7\n",
      "2    2\n",
      "3    5\n",
      "4    2\n",
      "5    8\n",
      "Name: D, dtype: int64\n"
     ]
    }
   ],
   "source": [
    "for item, frame in df.iteritems():\n",
    "    print item\n",
    "    print frame"
   ]
  },
  {
   "cell_type": "code",
   "execution_count": 227,
   "metadata": {
    "collapsed": false
   },
   "outputs": [],
   "source": [
    "ls1 =  [df[x] for x in df]"
   ]
  },
  {
   "cell_type": "code",
   "execution_count": 231,
   "metadata": {
    "collapsed": false
   },
   "outputs": [
    {
     "data": {
      "text/plain": [
       "pandas.core.series.Series"
      ]
     },
     "execution_count": 231,
     "metadata": {},
     "output_type": "execute_result"
    }
   ],
   "source": [
    "type(ls1[2])"
   ]
  },
  {
   "cell_type": "code",
   "execution_count": 251,
   "metadata": {
    "collapsed": false
   },
   "outputs": [
    {
     "data": {
      "text/html": [
       "<div>\n",
       "<table border=\"1\" class=\"dataframe\">\n",
       "  <thead>\n",
       "    <tr style=\"text-align: right;\">\n",
       "      <th></th>\n",
       "      <th>A</th>\n",
       "      <th>B</th>\n",
       "      <th>C</th>\n",
       "      <th>D</th>\n",
       "    </tr>\n",
       "  </thead>\n",
       "  <tbody>\n",
       "    <tr>\n",
       "      <th>0</th>\n",
       "      <td>16</td>\n",
       "      <td>10</td>\n",
       "      <td>14</td>\n",
       "      <td>8</td>\n",
       "    </tr>\n",
       "    <tr>\n",
       "      <th>1</th>\n",
       "      <td>4</td>\n",
       "      <td>16</td>\n",
       "      <td>16</td>\n",
       "      <td>14</td>\n",
       "    </tr>\n",
       "    <tr>\n",
       "      <th>2</th>\n",
       "      <td>6</td>\n",
       "      <td>2</td>\n",
       "      <td>2</td>\n",
       "      <td>4</td>\n",
       "    </tr>\n",
       "    <tr>\n",
       "      <th>3</th>\n",
       "      <td>14</td>\n",
       "      <td>4</td>\n",
       "      <td>8</td>\n",
       "      <td>10</td>\n",
       "    </tr>\n",
       "    <tr>\n",
       "      <th>4</th>\n",
       "      <td>14</td>\n",
       "      <td>18</td>\n",
       "      <td>6</td>\n",
       "      <td>4</td>\n",
       "    </tr>\n",
       "    <tr>\n",
       "      <th>5</th>\n",
       "      <td>6</td>\n",
       "      <td>16</td>\n",
       "      <td>8</td>\n",
       "      <td>16</td>\n",
       "    </tr>\n",
       "  </tbody>\n",
       "</table>\n",
       "</div>"
      ],
      "text/plain": [
       "    A   B   C   D\n",
       "0  16  10  14   8\n",
       "1   4  16  16  14\n",
       "2   6   2   2   4\n",
       "3  14   4   8  10\n",
       "4  14  18   6   4\n",
       "5   6  16   8  16"
      ]
     },
     "execution_count": 251,
     "metadata": {},
     "output_type": "execute_result"
    }
   ],
   "source": [
    "df.applymap(lambda x: x*2)"
   ]
  },
  {
   "cell_type": "code",
   "execution_count": 256,
   "metadata": {
    "collapsed": false
   },
   "outputs": [
    {
     "data": {
      "text/html": [
       "<div>\n",
       "<table border=\"1\" class=\"dataframe\">\n",
       "  <thead>\n",
       "    <tr style=\"text-align: right;\">\n",
       "      <th></th>\n",
       "      <th>A</th>\n",
       "      <th>B</th>\n",
       "      <th>C</th>\n",
       "      <th>D</th>\n",
       "    </tr>\n",
       "  </thead>\n",
       "  <tbody>\n",
       "    <tr>\n",
       "      <th>0</th>\n",
       "      <td>0</td>\n",
       "      <td>0</td>\n",
       "      <td>0</td>\n",
       "      <td>0</td>\n",
       "    </tr>\n",
       "    <tr>\n",
       "      <th>1</th>\n",
       "      <td>2</td>\n",
       "      <td>8</td>\n",
       "      <td>8</td>\n",
       "      <td>7</td>\n",
       "    </tr>\n",
       "    <tr>\n",
       "      <th>2</th>\n",
       "      <td>6</td>\n",
       "      <td>2</td>\n",
       "      <td>2</td>\n",
       "      <td>4</td>\n",
       "    </tr>\n",
       "    <tr>\n",
       "      <th>3</th>\n",
       "      <td>21</td>\n",
       "      <td>6</td>\n",
       "      <td>12</td>\n",
       "      <td>15</td>\n",
       "    </tr>\n",
       "    <tr>\n",
       "      <th>4</th>\n",
       "      <td>28</td>\n",
       "      <td>36</td>\n",
       "      <td>12</td>\n",
       "      <td>8</td>\n",
       "    </tr>\n",
       "    <tr>\n",
       "      <th>5</th>\n",
       "      <td>15</td>\n",
       "      <td>40</td>\n",
       "      <td>20</td>\n",
       "      <td>40</td>\n",
       "    </tr>\n",
       "  </tbody>\n",
       "</table>\n",
       "</div>"
      ],
      "text/plain": [
       "    A   B   C   D\n",
       "0   0   0   0   0\n",
       "1   2   8   8   7\n",
       "2   6   2   2   4\n",
       "3  21   6  12  15\n",
       "4  28  36  12   8\n",
       "5  15  40  20  40"
      ]
     },
     "execution_count": 256,
     "metadata": {},
     "output_type": "execute_result"
    }
   ],
   "source": [
    "df.apply(lambda x: x*np.arange(len(df)), axis=0)"
   ]
  },
  {
   "cell_type": "code",
   "execution_count": 260,
   "metadata": {
    "collapsed": false
   },
   "outputs": [
    {
     "data": {
      "text/html": [
       "<div>\n",
       "<table border=\"1\" class=\"dataframe\">\n",
       "  <thead>\n",
       "    <tr style=\"text-align: right;\">\n",
       "      <th></th>\n",
       "      <th>A</th>\n",
       "      <th>B</th>\n",
       "      <th>C</th>\n",
       "      <th>D</th>\n",
       "    </tr>\n",
       "  </thead>\n",
       "  <tbody>\n",
       "    <tr>\n",
       "      <th>0</th>\n",
       "      <td>0</td>\n",
       "      <td>5</td>\n",
       "      <td>14</td>\n",
       "      <td>12</td>\n",
       "    </tr>\n",
       "    <tr>\n",
       "      <th>1</th>\n",
       "      <td>0</td>\n",
       "      <td>8</td>\n",
       "      <td>16</td>\n",
       "      <td>21</td>\n",
       "    </tr>\n",
       "    <tr>\n",
       "      <th>2</th>\n",
       "      <td>0</td>\n",
       "      <td>1</td>\n",
       "      <td>2</td>\n",
       "      <td>6</td>\n",
       "    </tr>\n",
       "    <tr>\n",
       "      <th>3</th>\n",
       "      <td>0</td>\n",
       "      <td>2</td>\n",
       "      <td>8</td>\n",
       "      <td>15</td>\n",
       "    </tr>\n",
       "    <tr>\n",
       "      <th>4</th>\n",
       "      <td>0</td>\n",
       "      <td>9</td>\n",
       "      <td>6</td>\n",
       "      <td>6</td>\n",
       "    </tr>\n",
       "    <tr>\n",
       "      <th>5</th>\n",
       "      <td>0</td>\n",
       "      <td>8</td>\n",
       "      <td>8</td>\n",
       "      <td>24</td>\n",
       "    </tr>\n",
       "  </tbody>\n",
       "</table>\n",
       "</div>"
      ],
      "text/plain": [
       "   A  B   C   D\n",
       "0  0  5  14  12\n",
       "1  0  8  16  21\n",
       "2  0  1   2   6\n",
       "3  0  2   8  15\n",
       "4  0  9   6   6\n",
       "5  0  8   8  24"
      ]
     },
     "execution_count": 260,
     "metadata": {},
     "output_type": "execute_result"
    }
   ],
   "source": [
    "df.apply(lambda x: x*np.arange(4), axis=1)"
   ]
  },
  {
   "cell_type": "code",
   "execution_count": 261,
   "metadata": {
    "collapsed": false
   },
   "outputs": [
    {
     "data": {
      "text/plain": [
       "Int64Index([0, 1, 2, 3, 4, 5], dtype='int64')"
      ]
     },
     "execution_count": 261,
     "metadata": {},
     "output_type": "execute_result"
    }
   ],
   "source": [
    "df.index"
   ]
  },
  {
   "cell_type": "code",
   "execution_count": 271,
   "metadata": {
    "collapsed": false
   },
   "outputs": [
    {
     "ename": "TypeError",
     "evalue": "'columns' is an invalid keyword argument for this function",
     "output_type": "error",
     "traceback": [
      "\u001b[0;31m---------------------------------------------------------------------------\u001b[0m",
      "\u001b[0;31mTypeError\u001b[0m                                 Traceback (most recent call last)",
      "\u001b[0;32m<ipython-input-271-2495882cf17e>\u001b[0m in \u001b[0;36m<module>\u001b[0;34m()\u001b[0m\n\u001b[0;32m----> 1\u001b[0;31m \u001b[0mdft\u001b[0m \u001b[0;34m=\u001b[0m \u001b[0mpd\u001b[0m\u001b[0;34m.\u001b[0m\u001b[0mDataFrame\u001b[0m\u001b[0;34m(\u001b[0m\u001b[0mnp\u001b[0m\u001b[0;34m.\u001b[0m\u001b[0marray\u001b[0m\u001b[0;34m(\u001b[0m\u001b[0mrange\u001b[0m\u001b[0;34m(\u001b[0m\u001b[0;36m6\u001b[0m\u001b[0;34m)\u001b[0m\u001b[0;34m*\u001b[0m\u001b[0;36m4\u001b[0m\u001b[0;34m,\u001b[0m\u001b[0mcolumns\u001b[0m\u001b[0;34m=\u001b[0m\u001b[0mlist\u001b[0m\u001b[0;34m(\u001b[0m\u001b[0;34m'ABCD'\u001b[0m\u001b[0;34m)\u001b[0m\u001b[0;34m)\u001b[0m\u001b[0;34m)\u001b[0m\u001b[0;34m\u001b[0m\u001b[0m\n\u001b[0m\u001b[1;32m      2\u001b[0m \u001b[0mdft\u001b[0m\u001b[0;34m\u001b[0m\u001b[0m\n",
      "\u001b[0;31mTypeError\u001b[0m: 'columns' is an invalid keyword argument for this function"
     ]
    }
   ],
   "source": [
    "dft = pd.DataFrame(np.array(range(6)*4, ))\n",
    "dft"
   ]
  },
  {
   "cell_type": "code",
   "execution_count": 267,
   "metadata": {
    "collapsed": false
   },
   "outputs": [
    {
     "data": {
      "text/plain": [
       "RangeIndex(start=0, stop=6, step=1)"
      ]
     },
     "execution_count": 267,
     "metadata": {},
     "output_type": "execute_result"
    }
   ],
   "source": [
    "dft.index"
   ]
  },
  {
   "cell_type": "markdown",
   "metadata": {},
   "source": [
    "## sorted() can take list, array, series, and data frame"
   ]
  },
  {
   "cell_type": "code",
   "execution_count": 311,
   "metadata": {
    "collapsed": false
   },
   "outputs": [
    {
     "name": "stdout",
     "output_type": "stream",
     "text": [
      "4\n",
      "4\n"
     ]
    }
   ],
   "source": [
    "print sorted(list(dft[0].unique()))[-2]\n",
    "print sorted(dft[0].unique())[-2] "
   ]
  },
  {
   "cell_type": "code",
   "execution_count": 344,
   "metadata": {
    "collapsed": false
   },
   "outputs": [
    {
     "name": "stdout",
     "output_type": "stream",
     "text": [
      "<class 'pandas.core.series.Series'>\n",
      "1\n",
      "4\n"
     ]
    }
   ],
   "source": [
    "print type(dft[0].value_counts())\n",
    "print dft[0].value_counts().unique()[-1]\n",
    "print sorted(dft[0].values)[-2]"
   ]
  },
  {
   "cell_type": "code",
   "execution_count": 318,
   "metadata": {
    "collapsed": false
   },
   "outputs": [
    {
     "data": {
      "text/plain": [
       "0"
      ]
     },
     "execution_count": 318,
     "metadata": {},
     "output_type": "execute_result"
    }
   ],
   "source": [
    "dft[0].argmin()"
   ]
  },
  {
   "cell_type": "code",
   "execution_count": 353,
   "metadata": {
    "collapsed": false
   },
   "outputs": [
    {
     "name": "stdout",
     "output_type": "stream",
     "text": [
      "4\n"
     ]
    }
   ],
   "source": [
    "print dft[0].unique()[-2]"
   ]
  },
  {
   "cell_type": "code",
   "execution_count": 341,
   "metadata": {
    "collapsed": false
   },
   "outputs": [
    {
     "name": "stdout",
     "output_type": "stream",
     "text": [
      "<class 'pandas.core.series.Series'>\n"
     ]
    }
   ],
   "source": [
    "print type(dft[0])"
   ]
  },
  {
   "cell_type": "code",
   "execution_count": 350,
   "metadata": {
    "collapsed": false
   },
   "outputs": [
    {
     "name": "stdout",
     "output_type": "stream",
     "text": [
      "['A', 'B', 'C', 'D', 'E']\n"
     ]
    }
   ],
   "source": [
    "print sorted(df)"
   ]
  },
  {
   "cell_type": "code",
   "execution_count": 358,
   "metadata": {
    "collapsed": false
   },
   "outputs": [
    {
     "data": {
      "text/plain": [
       "array([0, 1, 2, 3, 4, 5])"
      ]
     },
     "execution_count": 358,
     "metadata": {},
     "output_type": "execute_result"
    }
   ],
   "source": [
    "pd.Series(np.arange(6)).unique()"
   ]
  },
  {
   "cell_type": "code",
   "execution_count": 359,
   "metadata": {
    "collapsed": false
   },
   "outputs": [
    {
     "data": {
      "text/plain": [
       "{0, 1, 2, 3, 4, 5}"
      ]
     },
     "execution_count": 359,
     "metadata": {},
     "output_type": "execute_result"
    }
   ],
   "source": [
    "sorted(set(np.arange(6))"
   ]
  },
  {
   "cell_type": "code",
   "execution_count": null,
   "metadata": {
    "collapsed": true
   },
   "outputs": [],
   "source": []
  }
 ],
 "metadata": {
  "kernelspec": {
   "display_name": "Python 2",
   "language": "python",
   "name": "python2"
  },
  "language_info": {
   "codemirror_mode": {
    "name": "ipython",
    "version": 2
   },
   "file_extension": ".py",
   "mimetype": "text/x-python",
   "name": "python",
   "nbconvert_exporter": "python",
   "pygments_lexer": "ipython2",
   "version": "2.7.12"
  }
 },
 "nbformat": 4,
 "nbformat_minor": 0
}
