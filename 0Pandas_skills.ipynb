{
 "cells": [
  {
   "cell_type": "code",
   "execution_count": 1,
   "metadata": {
    "collapsed": true
   },
   "outputs": [],
   "source": [
    "import pandas as pd\n",
    "import numpy as np\n",
    "import matplotlib.pyplot as plt"
   ]
  },
  {
   "cell_type": "code",
   "execution_count": 8,
   "metadata": {
    "collapsed": false
   },
   "outputs": [
    {
     "name": "stdout",
     "output_type": "stream",
     "text": [
      "0    1.0\n",
      "1    2.0\n",
      "2    5.0\n",
      "3    NaN\n",
      "4    6.0\n",
      "5    8.0\n",
      "dtype: float64\n"
     ]
    },
    {
     "data": {
      "text/html": [
       "<div>\n",
       "<table border=\"1\" class=\"dataframe\">\n",
       "  <thead>\n",
       "    <tr style=\"text-align: right;\">\n",
       "      <th></th>\n",
       "      <th>A</th>\n",
       "      <th>B</th>\n",
       "      <th>C</th>\n",
       "      <th>D</th>\n",
       "    </tr>\n",
       "  </thead>\n",
       "  <tbody>\n",
       "    <tr>\n",
       "      <th>2013-01-01</th>\n",
       "      <td>3</td>\n",
       "      <td>2</td>\n",
       "      <td>4</td>\n",
       "      <td>6</td>\n",
       "    </tr>\n",
       "    <tr>\n",
       "      <th>2013-01-02</th>\n",
       "      <td>6</td>\n",
       "      <td>5</td>\n",
       "      <td>4</td>\n",
       "      <td>5</td>\n",
       "    </tr>\n",
       "    <tr>\n",
       "      <th>2013-01-03</th>\n",
       "      <td>2</td>\n",
       "      <td>7</td>\n",
       "      <td>3</td>\n",
       "      <td>6</td>\n",
       "    </tr>\n",
       "    <tr>\n",
       "      <th>2013-01-04</th>\n",
       "      <td>6</td>\n",
       "      <td>1</td>\n",
       "      <td>7</td>\n",
       "      <td>6</td>\n",
       "    </tr>\n",
       "    <tr>\n",
       "      <th>2013-01-05</th>\n",
       "      <td>4</td>\n",
       "      <td>3</td>\n",
       "      <td>1</td>\n",
       "      <td>8</td>\n",
       "    </tr>\n",
       "    <tr>\n",
       "      <th>2013-01-06</th>\n",
       "      <td>5</td>\n",
       "      <td>2</td>\n",
       "      <td>7</td>\n",
       "      <td>7</td>\n",
       "    </tr>\n",
       "  </tbody>\n",
       "</table>\n",
       "</div>"
      ],
      "text/plain": [
       "            A  B  C  D\n",
       "2013-01-01  3  2  4  6\n",
       "2013-01-02  6  5  4  5\n",
       "2013-01-03  2  7  3  6\n",
       "2013-01-04  6  1  7  6\n",
       "2013-01-05  4  3  1  8\n",
       "2013-01-06  5  2  7  7"
      ]
     },
     "execution_count": 8,
     "metadata": {},
     "output_type": "execute_result"
    }
   ],
   "source": [
    "s = pd.Series([1,2,5,np.nan, 6, 8])\n",
    "print s\n",
    "dates = pd.date_range('20130101', periods = 6)\n",
    "df = pd.DataFrame(np.random.randint(1,10,[6,4]), index = dates, columns = list('ABCD'))\n",
    "df"
   ]
  },
  {
   "cell_type": "code",
   "execution_count": 6,
   "metadata": {
    "collapsed": false,
    "scrolled": true
   },
   "outputs": [
    {
     "data": {
      "text/html": [
       "<div>\n",
       "<table border=\"1\" class=\"dataframe\">\n",
       "  <thead>\n",
       "    <tr style=\"text-align: right;\">\n",
       "      <th></th>\n",
       "      <th>A</th>\n",
       "      <th>B</th>\n",
       "      <th>C</th>\n",
       "      <th>D</th>\n",
       "      <th>E</th>\n",
       "      <th>F</th>\n",
       "    </tr>\n",
       "  </thead>\n",
       "  <tbody>\n",
       "    <tr>\n",
       "      <th>0</th>\n",
       "      <td>1.0</td>\n",
       "      <td>6</td>\n",
       "      <td>1.0</td>\n",
       "      <td>3</td>\n",
       "      <td>test</td>\n",
       "      <td>foo</td>\n",
       "    </tr>\n",
       "    <tr>\n",
       "      <th>1</th>\n",
       "      <td>1.0</td>\n",
       "      <td>6</td>\n",
       "      <td>1.0</td>\n",
       "      <td>3</td>\n",
       "      <td>train</td>\n",
       "      <td>foo</td>\n",
       "    </tr>\n",
       "    <tr>\n",
       "      <th>2</th>\n",
       "      <td>1.0</td>\n",
       "      <td>6</td>\n",
       "      <td>1.0</td>\n",
       "      <td>3</td>\n",
       "      <td>test</td>\n",
       "      <td>foo</td>\n",
       "    </tr>\n",
       "    <tr>\n",
       "      <th>3</th>\n",
       "      <td>1.0</td>\n",
       "      <td>6</td>\n",
       "      <td>1.0</td>\n",
       "      <td>3</td>\n",
       "      <td>train</td>\n",
       "      <td>foo</td>\n",
       "    </tr>\n",
       "  </tbody>\n",
       "</table>\n",
       "</div>"
      ],
      "text/plain": [
       "     A  B    C  D      E    F\n",
       "0  1.0  6  1.0  3   test  foo\n",
       "1  1.0  6  1.0  3  train  foo\n",
       "2  1.0  6  1.0  3   test  foo\n",
       "3  1.0  6  1.0  3  train  foo"
      ]
     },
     "execution_count": 6,
     "metadata": {},
     "output_type": "execute_result"
    }
   ],
   "source": [
    "df2 = pd.DataFrame({'A' : 1.,\n",
    "                    'B' : pd.Timestamp('02/10/2013').dayofweek,\n",
    "                    'C' : pd.Series(1, index=range(4), dtype = 'float32'),\n",
    "                    'D' : np.array([3]*4, dtype = 'int32'),\n",
    "                    'E' : pd.Categorical([\"test\", \"train\", \"test\", \"train\"]),\n",
    "                    'F' : 'foo'})\n",
    "df2"
   ]
  },
  {
   "cell_type": "code",
   "execution_count": 9,
   "metadata": {
    "collapsed": false
   },
   "outputs": [
    {
     "name": "stdout",
     "output_type": "stream",
     "text": [
      "     A  B    C  D      E    F\n",
      "2  1.0  6  1.0  3   test  foo\n",
      "3  1.0  6  1.0  3  train  foo\n",
      "DatetimeIndex(['2013-01-01', '2013-01-02', '2013-01-03', '2013-01-04',\n",
      "               '2013-01-05', '2013-01-06'],\n",
      "              dtype='datetime64[ns]', freq='D')\n",
      "Index([u'A', u'B', u'C', u'D', u'E', u'F'], dtype='object')\n",
      "[[1.0 6 1.0 3 'test' 'foo']\n",
      " [1.0 6 1.0 3 'train' 'foo']\n",
      " [1.0 6 1.0 3 'test' 'foo']\n",
      " [1.0 6 1.0 3 'train' 'foo']]\n"
     ]
    }
   ],
   "source": [
    "print df2.tail(2)\n",
    "print df.index\n",
    "print df2.columns\n",
    "print df2.values"
   ]
  },
  {
   "cell_type": "code",
   "execution_count": 10,
   "metadata": {
    "collapsed": false
   },
   "outputs": [
    {
     "data": {
      "text/html": [
       "<div>\n",
       "<table border=\"1\" class=\"dataframe\">\n",
       "  <thead>\n",
       "    <tr style=\"text-align: right;\">\n",
       "      <th></th>\n",
       "      <th>A</th>\n",
       "      <th>B</th>\n",
       "      <th>C</th>\n",
       "      <th>D</th>\n",
       "    </tr>\n",
       "  </thead>\n",
       "  <tbody>\n",
       "    <tr>\n",
       "      <th>count</th>\n",
       "      <td>6.000000</td>\n",
       "      <td>6.000000</td>\n",
       "      <td>6.000000</td>\n",
       "      <td>6.000000</td>\n",
       "    </tr>\n",
       "    <tr>\n",
       "      <th>mean</th>\n",
       "      <td>4.333333</td>\n",
       "      <td>3.333333</td>\n",
       "      <td>4.333333</td>\n",
       "      <td>6.333333</td>\n",
       "    </tr>\n",
       "    <tr>\n",
       "      <th>std</th>\n",
       "      <td>1.632993</td>\n",
       "      <td>2.250926</td>\n",
       "      <td>2.338090</td>\n",
       "      <td>1.032796</td>\n",
       "    </tr>\n",
       "    <tr>\n",
       "      <th>min</th>\n",
       "      <td>2.000000</td>\n",
       "      <td>1.000000</td>\n",
       "      <td>1.000000</td>\n",
       "      <td>5.000000</td>\n",
       "    </tr>\n",
       "    <tr>\n",
       "      <th>25%</th>\n",
       "      <td>3.250000</td>\n",
       "      <td>2.000000</td>\n",
       "      <td>3.250000</td>\n",
       "      <td>6.000000</td>\n",
       "    </tr>\n",
       "    <tr>\n",
       "      <th>50%</th>\n",
       "      <td>4.500000</td>\n",
       "      <td>2.500000</td>\n",
       "      <td>4.000000</td>\n",
       "      <td>6.000000</td>\n",
       "    </tr>\n",
       "    <tr>\n",
       "      <th>75%</th>\n",
       "      <td>5.750000</td>\n",
       "      <td>4.500000</td>\n",
       "      <td>6.250000</td>\n",
       "      <td>6.750000</td>\n",
       "    </tr>\n",
       "    <tr>\n",
       "      <th>max</th>\n",
       "      <td>6.000000</td>\n",
       "      <td>7.000000</td>\n",
       "      <td>7.000000</td>\n",
       "      <td>8.000000</td>\n",
       "    </tr>\n",
       "  </tbody>\n",
       "</table>\n",
       "</div>"
      ],
      "text/plain": [
       "              A         B         C         D\n",
       "count  6.000000  6.000000  6.000000  6.000000\n",
       "mean   4.333333  3.333333  4.333333  6.333333\n",
       "std    1.632993  2.250926  2.338090  1.032796\n",
       "min    2.000000  1.000000  1.000000  5.000000\n",
       "25%    3.250000  2.000000  3.250000  6.000000\n",
       "50%    4.500000  2.500000  4.000000  6.000000\n",
       "75%    5.750000  4.500000  6.250000  6.750000\n",
       "max    6.000000  7.000000  7.000000  8.000000"
      ]
     },
     "execution_count": 10,
     "metadata": {},
     "output_type": "execute_result"
    }
   ],
   "source": [
    "df.describe()"
   ]
  },
  {
   "cell_type": "code",
   "execution_count": 12,
   "metadata": {
    "collapsed": false
   },
   "outputs": [
    {
     "name": "stdout",
     "output_type": "stream",
     "text": [
      "   2013-01-01  2013-01-02  2013-01-03  2013-01-04  2013-01-05  2013-01-06\n",
      "A           3           6           2           6           4           5\n",
      "B           2           5           7           1           3           2\n",
      "C           4           4           3           7           1           7\n",
      "D           6           5           6           6           8           7\n",
      "            A  B  C  D\n",
      "2013-01-06  5  2  7  7\n",
      "2013-01-05  4  3  1  8\n",
      "2013-01-04  6  1  7  6\n",
      "2013-01-03  2  7  3  6\n",
      "2013-01-02  6  5  4  5\n",
      "2013-01-01  3  2  4  6\n",
      "            A  B  C  D\n",
      "2013-01-01  3  2  4  6\n",
      "2013-01-02  6  5  4  5\n",
      "2013-01-03  2  7  3  6\n",
      "2013-01-04  6  1  7  6\n",
      "2013-01-05  4  3  1  8\n",
      "2013-01-06  5  2  7  7\n"
     ]
    }
   ],
   "source": [
    "print df.T\n",
    "print df.sort_index(axis = 0, ascending = False)\n",
    "print df.sort_index(axis = 0)"
   ]
  },
  {
   "cell_type": "code",
   "execution_count": 13,
   "metadata": {
    "collapsed": false
   },
   "outputs": [
    {
     "name": "stdout",
     "output_type": "stream",
     "text": [
      "            A  B  C  D\n",
      "2013-01-04  6  1  7  6\n",
      "2013-01-01  3  2  4  6\n",
      "2013-01-06  5  2  7  7\n",
      "2013-01-05  4  3  1  8\n",
      "2013-01-02  6  5  4  5\n",
      "2013-01-03  2  7  3  6\n",
      "---\n",
      "[7 5 3 2 1]\n",
      "[7 5]\n",
      "5\n"
     ]
    }
   ],
   "source": [
    "print df.sort_values(by='B')\n",
    "print '---'\n",
    "print df.sort_values(by='B',ascending = False)['B'].unique()\n",
    "print df.sort_values(by='B',ascending = False)['B'].unique()[:2] #find the 2nd largest\n",
    "print df.sort_values(by='B',ascending = False)['B'].unique()[1] #find the 2nd largest"
   ]
  },
  {
   "cell_type": "code",
   "execution_count": 14,
   "metadata": {
    "collapsed": false
   },
   "outputs": [
    {
     "name": "stdout",
     "output_type": "stream",
     "text": [
      "2013-01-01    3\n",
      "2013-01-02    6\n",
      "2013-01-03    2\n",
      "2013-01-04    6\n",
      "2013-01-05    4\n",
      "2013-01-06    5\n",
      "Freq: D, Name: A, dtype: int64\n",
      "            A  B  C  D\n",
      "2013-01-01  3  2  4  6\n",
      "2013-01-02  6  5  4  5\n",
      "2013-01-03  2  7  3  6\n",
      "            A  B  C  D\n",
      "2013-01-01  3  2  4  6\n",
      "2013-01-02  6  5  4  5\n",
      "2013-01-03  2  7  3  6\n"
     ]
    }
   ],
   "source": [
    "#Selection\n",
    "print df['A']\n",
    "print df[0:3]\n",
    "print df['20130101':'20130103']"
   ]
  },
  {
   "cell_type": "code",
   "execution_count": 15,
   "metadata": {
    "collapsed": false
   },
   "outputs": [
    {
     "name": "stdout",
     "output_type": "stream",
     "text": [
      "A    3\n",
      "B    2\n",
      "C    4\n",
      "D    6\n",
      "Name: 2013-01-01 00:00:00, dtype: int64\n",
      "            A  B\n",
      "2013-01-01  3  2\n",
      "2013-01-02  6  5\n",
      "2013-01-03  2  7\n",
      "2013-01-04  6  1\n",
      "2013-01-05  4  3\n",
      "2013-01-06  5  2\n",
      "            A  B\n",
      "2013-01-01  3  2\n",
      "2013-01-02  6  5\n",
      "2013-01-03  2  7\n",
      "A    2\n",
      "B    7\n",
      "Name: 2013-01-03 00:00:00, dtype: int64\n"
     ]
    }
   ],
   "source": [
    "#Selection by Label\n",
    "print df.loc[dates[0]]\n",
    "print df.loc[:, ['A','B']]\n",
    "print df.loc['20130101':'20130103', ['A','B']]\n",
    "print df.loc['20130103', ['A','B']]"
   ]
  },
  {
   "cell_type": "code",
   "execution_count": 16,
   "metadata": {
    "collapsed": false
   },
   "outputs": [
    {
     "name": "stdout",
     "output_type": "stream",
     "text": [
      "3\n",
      "3\n"
     ]
    }
   ],
   "source": [
    "#For getting a scalar value\n",
    "print df.loc['20130101','A']\n",
    "print df.loc[dates[0],'A']"
   ]
  },
  {
   "cell_type": "code",
   "execution_count": 17,
   "metadata": {
    "collapsed": false
   },
   "outputs": [
    {
     "name": "stdout",
     "output_type": "stream",
     "text": [
      "A    6\n",
      "B    1\n",
      "C    7\n",
      "D    6\n",
      "Name: 2013-01-04 00:00:00, dtype: int64\n",
      "            A  B\n",
      "2013-01-04  6  1\n",
      "2013-01-05  4  3\n",
      "            A  D\n",
      "2013-01-04  6  6\n",
      "2013-01-06  5  7\n",
      "            A  B  C  D\n",
      "2013-01-02  6  5  4  5\n",
      "2013-01-03  2  7  3  6\n",
      "5\n"
     ]
    }
   ],
   "source": [
    "#Selection by Position\n",
    "print df.iloc[3]\n",
    "print df.iloc[3:5,0:2]\n",
    "print df.iloc[[3,5], [0,3]]\n",
    "print df.iloc[1:3,:]\n",
    "print df.iat[1,1]"
   ]
  },
  {
   "cell_type": "code",
   "execution_count": 23,
   "metadata": {
    "collapsed": false
   },
   "outputs": [
    {
     "name": "stdout",
     "output_type": "stream",
     "text": [
      "              A    B   C   D\n",
      "2013-01-01  NaN  NaN NaN NaN\n",
      "2013-01-02  6.0  5.0 NaN NaN\n",
      "2013-01-03  NaN  7.0 NaN NaN\n",
      "2013-01-04  6.0  NaN NaN NaN\n",
      "2013-01-05  4.0  NaN NaN NaN\n",
      "2013-01-06  5.0  NaN NaN NaN\n",
      "2013-01-01    0\n",
      "2013-01-02    2\n",
      "2013-01-03    1\n",
      "2013-01-04    1\n",
      "2013-01-05    1\n",
      "2013-01-06    1\n",
      "Freq: D, dtype: int64\n",
      "A    4\n",
      "B    2\n",
      "C    0\n",
      "D    0\n",
      "dtype: int64\n",
      "              A    B    C  D\n",
      "2013-01-01  NaN  NaN  4.0  6\n",
      "2013-01-02  6.0  5.0  4.0  5\n",
      "2013-01-03  NaN  7.0  NaN  6\n",
      "2013-01-04  6.0  NaN  7.0  6\n",
      "2013-01-05  4.0  NaN  NaN  8\n",
      "2013-01-06  5.0  NaN  7.0  7\n"
     ]
    }
   ],
   "source": [
    "#Boolean Indexing\n",
    "print df[df[['A','B']] > 3] # Using a single column values to select data.\n",
    "print df[df[['A','B']] > 3].count(axis = 1)  # Using a single column values to select data.\n",
    "print df[df[['A','B']] > 3].count(axis = 0)  # Using a single column values to select data.\n",
    "print df[df>3] # A where operation for getting."
   ]
  },
  {
   "cell_type": "code",
   "execution_count": 24,
   "metadata": {
    "collapsed": false
   },
   "outputs": [
    {
     "name": "stdout",
     "output_type": "stream",
     "text": [
      "            A  B  C  D     E\n",
      "2013-01-02  6  5  4  5   two\n",
      "2013-01-03  2  7  3  6   two\n",
      "2013-01-06  5  2  7  7  four\n"
     ]
    }
   ],
   "source": [
    "#Using the isin() method for filtering:\n",
    "df2 = df.copy()\n",
    "df2['E'] = ['one','two','two','three','one','four']\n",
    "# print df2[df2.E.isin(['two','four'])]\n",
    "print df2[df2['E'].isin(['two','four'])]"
   ]
  },
  {
   "cell_type": "code",
   "execution_count": 29,
   "metadata": {
    "collapsed": false
   },
   "outputs": [
    {
     "name": "stdout",
     "output_type": "stream",
     "text": [
      "2013-01-01    0\n",
      "2013-01-02    1\n",
      "2013-01-03    2\n",
      "2013-01-04    3\n",
      "2013-01-05    4\n",
      "2013-01-06    5\n",
      "Freq: D, dtype: int64\n",
      "            A  B  C  D  F\n",
      "2013-01-01  0  0  0  6  0\n",
      "2013-01-02  6  5  4  5  1\n",
      "2013-01-03  2  7  3  6  2\n",
      "2013-01-04  6  1  7  6  3\n",
      "2013-01-05  4  3  1  8  4\n",
      "2013-01-06  5  2  7  7  5\n"
     ]
    }
   ],
   "source": [
    "#Setting with .at() and .iat()\n",
    "s1 = pd.Series(range(6),index = pd.date_range('20130101',periods = 6))\n",
    "print s1\n",
    "df['F'] = s1\n",
    "df.at[dates[0],'A'] = 0\n",
    "df.iat[0,1] = 0\n",
    "df.iloc[0,2] = 0\n",
    "print df\n",
    "# df.iat[[3,5], [0,3]] = 0 #not ok, must use interger to index"
   ]
  },
  {
   "cell_type": "code",
   "execution_count": 34,
   "metadata": {
    "collapsed": false
   },
   "outputs": [
    {
     "name": "stdout",
     "output_type": "stream",
     "text": [
      "2013-01-01     5\n",
      "2013-01-02    20\n",
      "2013-01-03     5\n",
      "2013-01-04     5\n",
      "2013-01-05    40\n",
      "2013-01-06    45\n",
      "Freq: D, Name: D, dtype: int64\n",
      "            a  b  c  d\n",
      "2013-01-01  1  6  5  1\n",
      "2013-01-02  2  8  6  4\n",
      "2013-01-03  1  2  9  1\n",
      "2013-01-04  2  9  4  1\n",
      "2013-01-05  4  9  8  8\n",
      "2013-01-06  9  8  1  9\n"
     ]
    }
   ],
   "source": [
    "df = pd.DataFrame(np.random.randint(1,10,[6,4]), index = dates, columns = list('ABCD'))\n",
    "f = lambda x: x*5\n",
    "# df.loc[:,'D'] = np.array([5]*len(df))\n",
    "print df['D'].map(lambda x: x*5) #must save back, otherwise will not save results\n",
    "df.columns = [x.lower() for x in df.columns] #operation on columns\n",
    "print df"
   ]
  },
  {
   "cell_type": "code",
   "execution_count": 39,
   "metadata": {
    "collapsed": false
   },
   "outputs": [
    {
     "data": {
      "text/html": [
       "<div>\n",
       "<table border=\"1\" class=\"dataframe\">\n",
       "  <thead>\n",
       "    <tr style=\"text-align: right;\">\n",
       "      <th></th>\n",
       "      <th>A</th>\n",
       "      <th>B</th>\n",
       "      <th>C</th>\n",
       "      <th>D</th>\n",
       "    </tr>\n",
       "  </thead>\n",
       "  <tbody>\n",
       "    <tr>\n",
       "      <th>0</th>\n",
       "      <td>16.0</td>\n",
       "      <td>10.0</td>\n",
       "      <td>14.0</td>\n",
       "      <td>8.0</td>\n",
       "    </tr>\n",
       "    <tr>\n",
       "      <th>1</th>\n",
       "      <td>4.0</td>\n",
       "      <td>16.0</td>\n",
       "      <td>16.0</td>\n",
       "      <td>14.0</td>\n",
       "    </tr>\n",
       "    <tr>\n",
       "      <th>2</th>\n",
       "      <td>6.0</td>\n",
       "      <td>2.0</td>\n",
       "      <td>2.0</td>\n",
       "      <td>4.0</td>\n",
       "    </tr>\n",
       "    <tr>\n",
       "      <th>3</th>\n",
       "      <td>14.0</td>\n",
       "      <td>4.0</td>\n",
       "      <td>8.0</td>\n",
       "      <td>10.0</td>\n",
       "    </tr>\n",
       "    <tr>\n",
       "      <th>4</th>\n",
       "      <td>14.0</td>\n",
       "      <td>18.0</td>\n",
       "      <td>6.0</td>\n",
       "      <td>4.0</td>\n",
       "    </tr>\n",
       "    <tr>\n",
       "      <th>5</th>\n",
       "      <td>6.0</td>\n",
       "      <td>16.0</td>\n",
       "      <td>8.0</td>\n",
       "      <td>16.0</td>\n",
       "    </tr>\n",
       "  </tbody>\n",
       "</table>\n",
       "</div>"
      ],
      "text/plain": [
       "      A     B     C     D\n",
       "0  16.0  10.0  14.0   8.0\n",
       "1   4.0  16.0  16.0  14.0\n",
       "2   6.0   2.0   2.0   4.0\n",
       "3  14.0   4.0   8.0  10.0\n",
       "4  14.0  18.0   6.0   4.0\n",
       "5   6.0  16.0   8.0  16.0"
      ]
     },
     "execution_count": 39,
     "metadata": {},
     "output_type": "execute_result"
    }
   ],
   "source": [
    "df = pd.DataFrame(np.random.randint(1,10,[6,4]), index = dates, columns = list('ABCD'))\n",
    "df1 = df.applymap(lambda x: float(x) *2)\n",
    "df1"
   ]
  },
  {
   "cell_type": "code",
   "execution_count": 42,
   "metadata": {
    "collapsed": false
   },
   "outputs": [
    {
     "data": {
      "text/html": [
       "<div>\n",
       "<table border=\"1\" class=\"dataframe\">\n",
       "  <thead>\n",
       "    <tr style=\"text-align: right;\">\n",
       "      <th></th>\n",
       "      <th>A</th>\n",
       "      <th>B</th>\n",
       "      <th>C</th>\n",
       "      <th>D</th>\n",
       "    </tr>\n",
       "  </thead>\n",
       "  <tbody>\n",
       "    <tr>\n",
       "      <th>0</th>\n",
       "      <td>-100.0</td>\n",
       "      <td>-10.0</td>\n",
       "      <td>-14.0</td>\n",
       "      <td>-100.0</td>\n",
       "    </tr>\n",
       "    <tr>\n",
       "      <th>1</th>\n",
       "      <td>-4.0</td>\n",
       "      <td>-16.0</td>\n",
       "      <td>-16.0</td>\n",
       "      <td>-14.0</td>\n",
       "    </tr>\n",
       "    <tr>\n",
       "      <th>2</th>\n",
       "      <td>-6.0</td>\n",
       "      <td>-2.0</td>\n",
       "      <td>-2.0</td>\n",
       "      <td>-4.0</td>\n",
       "    </tr>\n",
       "    <tr>\n",
       "      <th>3</th>\n",
       "      <td>-14.0</td>\n",
       "      <td>-4.0</td>\n",
       "      <td>-8.0</td>\n",
       "      <td>-10.0</td>\n",
       "    </tr>\n",
       "    <tr>\n",
       "      <th>4</th>\n",
       "      <td>-14.0</td>\n",
       "      <td>-18.0</td>\n",
       "      <td>-6.0</td>\n",
       "      <td>-4.0</td>\n",
       "    </tr>\n",
       "    <tr>\n",
       "      <th>5</th>\n",
       "      <td>-6.0</td>\n",
       "      <td>-16.0</td>\n",
       "      <td>-8.0</td>\n",
       "      <td>-16.0</td>\n",
       "    </tr>\n",
       "  </tbody>\n",
       "</table>\n",
       "</div>"
      ],
      "text/plain": [
       "       A     B     C      D\n",
       "0 -100.0 -10.0 -14.0 -100.0\n",
       "1   -4.0 -16.0 -16.0  -14.0\n",
       "2   -6.0  -2.0  -2.0   -4.0\n",
       "3  -14.0  -4.0  -8.0  -10.0\n",
       "4  -14.0 -18.0  -6.0   -4.0\n",
       "5   -6.0 -16.0  -8.0  -16.0"
      ]
     },
     "execution_count": 42,
     "metadata": {},
     "output_type": "execute_result"
    }
   ],
   "source": [
    "df2 = df1.copy()\n",
    "df2[df2>0] = -df3\n",
    "df2"
   ]
  },
  {
   "cell_type": "code",
   "execution_count": 43,
   "metadata": {
    "collapsed": false
   },
   "outputs": [
    {
     "data": {
      "text/html": [
       "<div>\n",
       "<table border=\"1\" class=\"dataframe\">\n",
       "  <thead>\n",
       "    <tr style=\"text-align: right;\">\n",
       "      <th></th>\n",
       "      <th>A</th>\n",
       "      <th>B</th>\n",
       "      <th>C</th>\n",
       "      <th>D</th>\n",
       "    </tr>\n",
       "  </thead>\n",
       "  <tbody>\n",
       "    <tr>\n",
       "      <th>0</th>\n",
       "      <td>100.0</td>\n",
       "      <td>10.0</td>\n",
       "      <td>14.0</td>\n",
       "      <td>100.0</td>\n",
       "    </tr>\n",
       "    <tr>\n",
       "      <th>1</th>\n",
       "      <td>4.0</td>\n",
       "      <td>16.0</td>\n",
       "      <td>16.0</td>\n",
       "      <td>14.0</td>\n",
       "    </tr>\n",
       "    <tr>\n",
       "      <th>2</th>\n",
       "      <td>6.0</td>\n",
       "      <td>2.0</td>\n",
       "      <td>2.0</td>\n",
       "      <td>4.0</td>\n",
       "    </tr>\n",
       "    <tr>\n",
       "      <th>3</th>\n",
       "      <td>14.0</td>\n",
       "      <td>4.0</td>\n",
       "      <td>8.0</td>\n",
       "      <td>10.0</td>\n",
       "    </tr>\n",
       "    <tr>\n",
       "      <th>4</th>\n",
       "      <td>14.0</td>\n",
       "      <td>18.0</td>\n",
       "      <td>6.0</td>\n",
       "      <td>4.0</td>\n",
       "    </tr>\n",
       "    <tr>\n",
       "      <th>5</th>\n",
       "      <td>6.0</td>\n",
       "      <td>16.0</td>\n",
       "      <td>8.0</td>\n",
       "      <td>16.0</td>\n",
       "    </tr>\n",
       "  </tbody>\n",
       "</table>\n",
       "</div>"
      ],
      "text/plain": [
       "       A     B     C      D\n",
       "0  100.0  10.0  14.0  100.0\n",
       "1    4.0  16.0  16.0   14.0\n",
       "2    6.0   2.0   2.0    4.0\n",
       "3   14.0   4.0   8.0   10.0\n",
       "4   14.0  18.0   6.0    4.0\n",
       "5    6.0  16.0   8.0   16.0"
      ]
     },
     "execution_count": 43,
     "metadata": {},
     "output_type": "execute_result"
    }
   ],
   "source": [
    "df3 = df1.copy()\n",
    "df3.iloc[0,0] = 100\n",
    "df3.iloc[0,3] = 100\n",
    "df3"
   ]
  },
  {
   "cell_type": "code",
   "execution_count": 52,
   "metadata": {
    "collapsed": false
   },
   "outputs": [
    {
     "name": "stdout",
     "output_type": "stream",
     "text": [
      "(6, 4) (6,)\n",
      "------\n",
      "       A     B     C      D\n",
      "0 -100.0 -10.0 -14.0 -100.0\n",
      "1   -4.0 -16.0 -16.0  -14.0\n",
      "2   -6.0  -2.0  -2.0   -4.0\n",
      "3  -14.0  -4.0  -8.0  -10.0\n",
      "4  -14.0 -18.0  -6.0   -4.0\n",
      "5   -6.0 -16.0  -8.0  -16.0\n"
     ]
    }
   ],
   "source": [
    "B = np.arange(6)\n",
    "print df2.shape, B.shape #shape is tuple\n",
    "print '------\\n', df2"
   ]
  },
  {
   "cell_type": "code",
   "execution_count": 54,
   "metadata": {
    "collapsed": false
   },
   "outputs": [
    {
     "name": "stdout",
     "output_type": "stream",
     "text": [
      "      B     C\n",
      "0  -0.0  -0.0\n",
      "1 -16.0 -16.0\n",
      "2  -4.0  -4.0\n",
      "3 -12.0 -24.0\n",
      "4 -72.0 -24.0\n",
      "5 -80.0 -40.0\n"
     ]
    }
   ],
   "source": [
    "print df2[['B','C']].apply(lambda x: x*B) #column to column multiplication by apply()"
   ]
  },
  {
   "cell_type": "code",
   "execution_count": 56,
   "metadata": {
    "collapsed": false
   },
   "outputs": [
    {
     "name": "stdout",
     "output_type": "stream",
     "text": [
      "      A     B     C     D\n",
      "0  -0.0  -0.0  -0.0  -0.0\n",
      "1  -4.0 -16.0 -16.0 -14.0\n",
      "2 -12.0  -4.0  -4.0  -8.0\n",
      "3 -42.0 -12.0 -24.0 -30.0\n",
      "4 -56.0 -72.0 -24.0 -16.0\n",
      "5 -30.0 -80.0 -40.0 -80.0\n"
     ]
    }
   ],
   "source": [
    "print (df2.T*B).T #transpose first, then use * to row*row, then transpose back"
   ]
  },
  {
   "cell_type": "code",
   "execution_count": 58,
   "metadata": {
    "collapsed": false
   },
   "outputs": [
    {
     "name": "stdout",
     "output_type": "stream",
     "text": [
      "     A     B     C      D\n",
      "0 -0.0 -10.0 -28.0 -300.0\n",
      "1 -0.0 -16.0 -32.0  -42.0\n",
      "2 -0.0  -2.0  -4.0  -12.0\n",
      "3 -0.0  -4.0 -16.0  -30.0\n",
      "4 -0.0 -18.0 -12.0  -12.0\n",
      "5 -0.0 -16.0 -16.0  -48.0\n",
      "       A     B     C      D\n",
      "0 -100.0 -10.0 -14.0 -100.0\n",
      "1   -4.0 -16.0 -16.0  -14.0\n",
      "2   -6.0  -2.0  -2.0   -4.0\n",
      "3  -14.0  -4.0  -8.0  -10.0\n",
      "4  -14.0 -18.0  -6.0   -4.0\n",
      "5   -6.0 -16.0  -8.0  -16.0\n"
     ]
    }
   ],
   "source": [
    "C = np.arange(4)\n",
    "print df2*C\n",
    "print df2"
   ]
  },
  {
   "cell_type": "code",
   "execution_count": 65,
   "metadata": {
    "collapsed": false
   },
   "outputs": [
    {
     "name": "stdout",
     "output_type": "stream",
     "text": [
      "     A    B    C    D    E\n",
      "0  8.0  5.0  7.0  4.0  1.0\n",
      "1  2.0  8.0  8.0  7.0  1.0\n",
      "2  3.0  1.0  1.0  2.0  NaN\n",
      "3  7.0  2.0  4.0  5.0  NaN\n",
      "--------\n",
      "     A    B    C    D    E\n",
      "0  8.0  5.0  7.0  4.0  1.0\n",
      "1  2.0  8.0  8.0  7.0  1.0\n"
     ]
    }
   ],
   "source": [
    "# Missing data\n",
    "df1 = df.reindex(index = dates[0:4], columns = list(df.columns) + ['E'])\n",
    "df1.loc[dates[0]:dates[1],'E'] = 1\n",
    "# df1.loc[dates[0], 'F'] = np.nan\n",
    "print df1.dropna(how='all')\n",
    "print '--------'\n",
    "print df1.dropna(how='any')\n"
   ]
  },
  {
   "cell_type": "code",
   "execution_count": 66,
   "metadata": {
    "collapsed": false
   },
   "outputs": [
    {
     "name": "stdout",
     "output_type": "stream",
     "text": [
      "     A    B    C    D    E\n",
      "0  8.0  5.0  7.0  4.0  1.0\n",
      "1  2.0  8.0  8.0  7.0  1.0\n",
      "2  3.0  1.0  1.0  2.0  5.0\n",
      "3  7.0  2.0  4.0  5.0  5.0\n",
      "     A    B    C    D    E\n",
      "0  8.0  5.0  7.0  4.0  1.0\n",
      "1  2.0  8.0  8.0  7.0  1.0\n",
      "2  3.0  1.0  1.0  2.0  5.0\n",
      "3  7.0  2.0  4.0  5.0  5.0\n"
     ]
    }
   ],
   "source": [
    "print df1.fillna(value = 5)\n",
    "print df1.fillna(5)"
   ]
  },
  {
   "cell_type": "code",
   "execution_count": 70,
   "metadata": {
    "collapsed": false
   },
   "outputs": [
    {
     "name": "stdout",
     "output_type": "stream",
     "text": [
      "       A      B      C      D      E\n",
      "0  False  False  False  False  False\n",
      "1  False  False  False  False  False\n",
      "2  False  False  False  False   True\n",
      "3  False  False  False  False   True\n",
      "A    4\n",
      "B    4\n",
      "C    4\n",
      "D    4\n",
      "E    4\n",
      "dtype: int64\n",
      "A    0\n",
      "B    0\n",
      "C    0\n",
      "D    0\n",
      "E    2\n",
      "dtype: int64\n"
     ]
    }
   ],
   "source": [
    "print df1.isnull()\n",
    "print df1.isnull().count()\n",
    "print df1.isnull().sum()"
   ]
  },
  {
   "cell_type": "code",
   "execution_count": 72,
   "metadata": {
    "collapsed": false
   },
   "outputs": [
    {
     "name": "stdout",
     "output_type": "stream",
     "text": [
      "0    5.00\n",
      "1    5.20\n",
      "2    1.75\n",
      "3    4.50\n",
      "dtype: float64\n",
      "A    5.0\n",
      "B    4.0\n",
      "C    5.0\n",
      "D    4.5\n",
      "E    1.0\n",
      "dtype: float64\n"
     ]
    }
   ],
   "source": [
    "#Operations -stats\n",
    "print df1.mean(1) #horizontal, add each column\n",
    "print df1.mean() #vertical,default = 0, add each row"
   ]
  },
  {
   "cell_type": "code",
   "execution_count": 73,
   "metadata": {
    "collapsed": false
   },
   "outputs": [
    {
     "data": {
      "text/plain": [
       "0    NaN\n",
       "1    NaN\n",
       "2    1.0\n",
       "3    3.0\n",
       "4    5.0\n",
       "5    NaN\n",
       "dtype: float64"
      ]
     },
     "execution_count": 73,
     "metadata": {},
     "output_type": "execute_result"
    }
   ],
   "source": [
    "s = pd.Series([1,3,5,np.nan,6,8], index=dates).shift(2)\n",
    "s"
   ]
  },
  {
   "cell_type": "code",
   "execution_count": null,
   "metadata": {
    "collapsed": true
   },
   "outputs": [],
   "source": []
  }
 ],
 "metadata": {
  "kernelspec": {
   "display_name": "Python 2",
   "language": "python",
   "name": "python2"
  },
  "language_info": {
   "codemirror_mode": {
    "name": "ipython",
    "version": 2
   },
   "file_extension": ".py",
   "mimetype": "text/x-python",
   "name": "python",
   "nbconvert_exporter": "python",
   "pygments_lexer": "ipython2",
   "version": "2.7.12"
  }
 },
 "nbformat": 4,
 "nbformat_minor": 0
}
