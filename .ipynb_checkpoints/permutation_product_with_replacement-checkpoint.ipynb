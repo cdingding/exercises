{
 "cells": [
  {
   "cell_type": "markdown",
   "metadata": {},
   "source": [
    "## Below is for manual permutation without replacement"
   ]
  },
  {
   "cell_type": "code",
   "execution_count": 62,
   "metadata": {
    "collapsed": false
   },
   "outputs": [
    {
     "name": "stdout",
     "output_type": "stream",
     "text": [
      "['BC']\n",
      "['BC', 'CB']\n",
      "['ABC', 'ACB']\n",
      "['AC']\n",
      "['AC', 'CA']\n",
      "['ABC', 'ACB', 'BAC', 'BCA']\n",
      "['AB']\n",
      "['AB', 'BA']\n",
      "['ABC', 'ACB', 'BAC', 'BCA', 'CAB', 'CBA']\n",
      "['ABC', 'ACB', 'BAC', 'BCA', 'CAB', 'CBA']\n"
     ]
    }
   ],
   "source": [
    "def perms(s):\n",
    "    result = []\n",
    "    if len(s) == 1: return s\n",
    "    for i, v in enumerate(s):\n",
    "        result += [v+p for p in perms(s[:i]+s[i+1:])]\n",
    "        print result\n",
    "    return result\n",
    "\n",
    "s = 'ABC'\n",
    "print product(s)"
   ]
  },
  {
   "cell_type": "markdown",
   "metadata": {},
   "source": [
    "## Below is permtation with replacement"
   ]
  },
  {
   "cell_type": "code",
   "execution_count": 64,
   "metadata": {
    "collapsed": false
   },
   "outputs": [
    {
     "name": "stdout",
     "output_type": "stream",
     "text": [
      "8\n",
      "['111', '110', '101', '100', '011', '010', '001', '000']\n"
     ]
    }
   ],
   "source": [
    "# To use itertools.product with replacement\n",
    "import itertools\n",
    "def perms(seq, n):\n",
    "    result = []\n",
    "    for p in itertools.product(seq, repeat = n):\n",
    "        result += [''.join(p)]\n",
    "    return result\n",
    "\n",
    "s = '10'\n",
    "n = 3\n",
    "print len(set(perms(list(s),n)))\n",
    "print perms(list(s),n)"
   ]
  },
  {
   "cell_type": "markdown",
   "metadata": {},
   "source": [
    "## Permutation with replacment"
   ]
  },
  {
   "cell_type": "code",
   "execution_count": 27,
   "metadata": {
    "collapsed": false
   },
   "outputs": [
    {
     "name": "stdout",
     "output_type": "stream",
     "text": [
      "Overwriting permutation_product_with_replacement.py\n"
     ]
    }
   ],
   "source": [
    "%%writefile permutation_product_with_replacement.py\n",
    "\n",
    "s = 'abc'\n",
    "result = []\n",
    "for x in s:\n",
    "    for y in s:\n",
    "        result.append((x,y))\n",
    "print result\n",
    "\n",
    "s = '10'\n",
    "result = []\n",
    "for x in s:\n",
    "    for y in s:\n",
    "        for z in s:\n",
    "            result.append((x,y,z))\n",
    "print len(result)\n",
    "print [''.join(x) for x in result]"
   ]
  },
  {
   "cell_type": "code",
   "execution_count": 69,
   "metadata": {
    "collapsed": false,
    "scrolled": true
   },
   "outputs": [
    {
     "name": "stdout",
     "output_type": "stream",
     "text": [
      "[('a', 'a'), ('a', 'b'), ('a', 'c'), ('b', 'a'), ('b', 'b'), ('b', 'c'), ('c', 'a'), ('c', 'b'), ('c', 'c')]\n",
      "8\n",
      "['111', '110', '101', '100', '011', '010', '001', '000']\n"
     ]
    }
   ],
   "source": [
    "# %load permutation_product_with_replacement.py\n",
    "\n",
    "s = 'abc'\n",
    "result = []\n",
    "for x in s:\n",
    "    for y in s:\n",
    "        result.append((x,y))\n",
    "print result\n",
    "\n",
    "s = '10'\n",
    "result = []\n",
    "for x in s:\n",
    "    for y in s:\n",
    "        for z in s:\n",
    "            result.append((x,y,z))\n",
    "print len(result)\n",
    "print [''.join(x) for x in result]"
   ]
  },
  {
   "cell_type": "code",
   "execution_count": 63,
   "metadata": {
    "collapsed": false
   },
   "outputs": [
    {
     "name": "stdout",
     "output_type": "stream",
     "text": [
      "['111', '110', '101', '100', '011', '010', '001', '000']\n"
     ]
    }
   ],
   "source": [
    "# Manual solution\n",
    "s = '10'\n",
    "result = [''.join((x,y,z)) for x in s for y in s for z in s]\n",
    "print result"
   ]
  },
  {
   "cell_type": "code",
   "execution_count": 47,
   "metadata": {
    "collapsed": false
   },
   "outputs": [
    {
     "name": "stdout",
     "output_type": "stream",
     "text": [
      "('John', 'is', 'a', 'great', 'engineer')\n",
      "('John', 'is', 'a', 'great', 'student')\n",
      "('John', 'is', 'a', 'great', 'athelete')\n",
      "('John', 'is', 'a', 'dedicated', 'engineer')\n",
      "('John', 'is', 'a', 'dedicated', 'student')\n",
      "('John', 'is', 'a', 'dedicated', 'athelete')\n",
      "('Matt', 'is', 'a', 'great', 'engineer')\n",
      "('Matt', 'is', 'a', 'great', 'student')\n",
      "('Matt', 'is', 'a', 'great', 'athelete')\n",
      "('Matt', 'is', 'a', 'dedicated', 'engineer')\n",
      "('Matt', 'is', 'a', 'dedicated', 'student')\n",
      "('Matt', 'is', 'a', 'dedicated', 'athelete')\n",
      "('Steve', 'is', 'a', 'great', 'engineer')\n",
      "('Steve', 'is', 'a', 'great', 'student')\n",
      "('Steve', 'is', 'a', 'great', 'athelete')\n",
      "('Steve', 'is', 'a', 'dedicated', 'engineer')\n",
      "('Steve', 'is', 'a', 'dedicated', 'student')\n",
      "('Steve', 'is', 'a', 'dedicated', 'athelete')\n"
     ]
    }
   ],
   "source": [
    "# More about itertools.product\n",
    "import itertools\n",
    "\n",
    "list_input =     [[\"John\",\"Matt\",\"Steve\"],[\"is\"],[\"a\"],[\"great\",\"dedicated\"],[\"engineer\",\"student\",\"athelete\"]]\n",
    "for element in itertools.product(*list_input):\n",
    "    print element"
   ]
  },
  {
   "cell_type": "code",
   "execution_count": null,
   "metadata": {
    "collapsed": true
   },
   "outputs": [],
   "source": []
  }
 ],
 "metadata": {
  "kernelspec": {
   "display_name": "Python 2",
   "language": "python",
   "name": "python2"
  },
  "language_info": {
   "codemirror_mode": {
    "name": "ipython",
    "version": 2
   },
   "file_extension": ".py",
   "mimetype": "text/x-python",
   "name": "python",
   "nbconvert_exporter": "python",
   "pygments_lexer": "ipython2",
   "version": "2.7.12"
  }
 },
 "nbformat": 4,
 "nbformat_minor": 0
}
