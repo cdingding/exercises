{
 "cells": [
  {
   "cell_type": "code",
   "execution_count": 1,
   "metadata": {
    "collapsed": true
   },
   "outputs": [],
   "source": [
    "import pandas as pd\n",
    "import numpy as np\n",
    "import matplotlib.pyplot as plt"
   ]
  },
  {
   "cell_type": "code",
   "execution_count": 8,
   "metadata": {
    "collapsed": false
   },
   "outputs": [
    {
     "name": "stdout",
     "output_type": "stream",
     "text": [
      "0    1.0\n",
      "1    2.0\n",
      "2    5.0\n",
      "3    NaN\n",
      "4    6.0\n",
      "5    8.0\n",
      "dtype: float64\n"
     ]
    },
    {
     "data": {
      "text/html": [
       "<div>\n",
       "<table border=\"1\" class=\"dataframe\">\n",
       "  <thead>\n",
       "    <tr style=\"text-align: right;\">\n",
       "      <th></th>\n",
       "      <th>A</th>\n",
       "      <th>B</th>\n",
       "      <th>C</th>\n",
       "      <th>D</th>\n",
       "    </tr>\n",
       "  </thead>\n",
       "  <tbody>\n",
       "    <tr>\n",
       "      <th>2013-01-01</th>\n",
       "      <td>3</td>\n",
       "      <td>2</td>\n",
       "      <td>4</td>\n",
       "      <td>6</td>\n",
       "    </tr>\n",
       "    <tr>\n",
       "      <th>2013-01-02</th>\n",
       "      <td>6</td>\n",
       "      <td>5</td>\n",
       "      <td>4</td>\n",
       "      <td>5</td>\n",
       "    </tr>\n",
       "    <tr>\n",
       "      <th>2013-01-03</th>\n",
       "      <td>2</td>\n",
       "      <td>7</td>\n",
       "      <td>3</td>\n",
       "      <td>6</td>\n",
       "    </tr>\n",
       "    <tr>\n",
       "      <th>2013-01-04</th>\n",
       "      <td>6</td>\n",
       "      <td>1</td>\n",
       "      <td>7</td>\n",
       "      <td>6</td>\n",
       "    </tr>\n",
       "    <tr>\n",
       "      <th>2013-01-05</th>\n",
       "      <td>4</td>\n",
       "      <td>3</td>\n",
       "      <td>1</td>\n",
       "      <td>8</td>\n",
       "    </tr>\n",
       "    <tr>\n",
       "      <th>2013-01-06</th>\n",
       "      <td>5</td>\n",
       "      <td>2</td>\n",
       "      <td>7</td>\n",
       "      <td>7</td>\n",
       "    </tr>\n",
       "  </tbody>\n",
       "</table>\n",
       "</div>"
      ],
      "text/plain": [
       "            A  B  C  D\n",
       "2013-01-01  3  2  4  6\n",
       "2013-01-02  6  5  4  5\n",
       "2013-01-03  2  7  3  6\n",
       "2013-01-04  6  1  7  6\n",
       "2013-01-05  4  3  1  8\n",
       "2013-01-06  5  2  7  7"
      ]
     },
     "execution_count": 8,
     "metadata": {},
     "output_type": "execute_result"
    }
   ],
   "source": [
    "s = pd.Series([1,2,5,np.nan, 6, 8])\n",
    "print s\n",
    "dates = pd.date_range('20130101', periods = 6)\n",
    "df = pd.DataFrame(np.random.randint(1,10,[6,4]), index = dates, columns = list('ABCD'))\n",
    "df"
   ]
  },
  {
   "cell_type": "code",
   "execution_count": 6,
   "metadata": {
    "collapsed": false,
    "scrolled": true
   },
   "outputs": [
    {
     "data": {
      "text/html": [
       "<div>\n",
       "<table border=\"1\" class=\"dataframe\">\n",
       "  <thead>\n",
       "    <tr style=\"text-align: right;\">\n",
       "      <th></th>\n",
       "      <th>A</th>\n",
       "      <th>B</th>\n",
       "      <th>C</th>\n",
       "      <th>D</th>\n",
       "      <th>E</th>\n",
       "      <th>F</th>\n",
       "    </tr>\n",
       "  </thead>\n",
       "  <tbody>\n",
       "    <tr>\n",
       "      <th>0</th>\n",
       "      <td>1.0</td>\n",
       "      <td>6</td>\n",
       "      <td>1.0</td>\n",
       "      <td>3</td>\n",
       "      <td>test</td>\n",
       "      <td>foo</td>\n",
       "    </tr>\n",
       "    <tr>\n",
       "      <th>1</th>\n",
       "      <td>1.0</td>\n",
       "      <td>6</td>\n",
       "      <td>1.0</td>\n",
       "      <td>3</td>\n",
       "      <td>train</td>\n",
       "      <td>foo</td>\n",
       "    </tr>\n",
       "    <tr>\n",
       "      <th>2</th>\n",
       "      <td>1.0</td>\n",
       "      <td>6</td>\n",
       "      <td>1.0</td>\n",
       "      <td>3</td>\n",
       "      <td>test</td>\n",
       "      <td>foo</td>\n",
       "    </tr>\n",
       "    <tr>\n",
       "      <th>3</th>\n",
       "      <td>1.0</td>\n",
       "      <td>6</td>\n",
       "      <td>1.0</td>\n",
       "      <td>3</td>\n",
       "      <td>train</td>\n",
       "      <td>foo</td>\n",
       "    </tr>\n",
       "  </tbody>\n",
       "</table>\n",
       "</div>"
      ],
      "text/plain": [
       "     A  B    C  D      E    F\n",
       "0  1.0  6  1.0  3   test  foo\n",
       "1  1.0  6  1.0  3  train  foo\n",
       "2  1.0  6  1.0  3   test  foo\n",
       "3  1.0  6  1.0  3  train  foo"
      ]
     },
     "execution_count": 6,
     "metadata": {},
     "output_type": "execute_result"
    }
   ],
   "source": [
    "df2 = pd.DataFrame({'A' : 1.,\n",
    "                    'B' : pd.Timestamp('02/10/2013').dayofweek,\n",
    "                    'C' : pd.Series(1, index=range(4), dtype = 'float32'),\n",
    "                    'D' : np.array([3]*4, dtype = 'int32'),\n",
    "                    'E' : pd.Categorical([\"test\", \"train\", \"test\", \"train\"]),\n",
    "                    'F' : 'foo'})\n",
    "df2"
   ]
  },
  {
   "cell_type": "code",
   "execution_count": 9,
   "metadata": {
    "collapsed": false
   },
   "outputs": [
    {
     "name": "stdout",
     "output_type": "stream",
     "text": [
      "     A  B    C  D      E    F\n",
      "2  1.0  6  1.0  3   test  foo\n",
      "3  1.0  6  1.0  3  train  foo\n",
      "DatetimeIndex(['2013-01-01', '2013-01-02', '2013-01-03', '2013-01-04',\n",
      "               '2013-01-05', '2013-01-06'],\n",
      "              dtype='datetime64[ns]', freq='D')\n",
      "Index([u'A', u'B', u'C', u'D', u'E', u'F'], dtype='object')\n",
      "[[1.0 6 1.0 3 'test' 'foo']\n",
      " [1.0 6 1.0 3 'train' 'foo']\n",
      " [1.0 6 1.0 3 'test' 'foo']\n",
      " [1.0 6 1.0 3 'train' 'foo']]\n"
     ]
    }
   ],
   "source": [
    "print df2.tail(2)\n",
    "print df.index\n",
    "print df2.columns\n",
    "print df2.values"
   ]
  },
  {
   "cell_type": "code",
   "execution_count": 10,
   "metadata": {
    "collapsed": false
   },
   "outputs": [
    {
     "data": {
      "text/html": [
       "<div>\n",
       "<table border=\"1\" class=\"dataframe\">\n",
       "  <thead>\n",
       "    <tr style=\"text-align: right;\">\n",
       "      <th></th>\n",
       "      <th>A</th>\n",
       "      <th>B</th>\n",
       "      <th>C</th>\n",
       "      <th>D</th>\n",
       "    </tr>\n",
       "  </thead>\n",
       "  <tbody>\n",
       "    <tr>\n",
       "      <th>count</th>\n",
       "      <td>6.000000</td>\n",
       "      <td>6.000000</td>\n",
       "      <td>6.000000</td>\n",
       "      <td>6.000000</td>\n",
       "    </tr>\n",
       "    <tr>\n",
       "      <th>mean</th>\n",
       "      <td>4.333333</td>\n",
       "      <td>3.333333</td>\n",
       "      <td>4.333333</td>\n",
       "      <td>6.333333</td>\n",
       "    </tr>\n",
       "    <tr>\n",
       "      <th>std</th>\n",
       "      <td>1.632993</td>\n",
       "      <td>2.250926</td>\n",
       "      <td>2.338090</td>\n",
       "      <td>1.032796</td>\n",
       "    </tr>\n",
       "    <tr>\n",
       "      <th>min</th>\n",
       "      <td>2.000000</td>\n",
       "      <td>1.000000</td>\n",
       "      <td>1.000000</td>\n",
       "      <td>5.000000</td>\n",
       "    </tr>\n",
       "    <tr>\n",
       "      <th>25%</th>\n",
       "      <td>3.250000</td>\n",
       "      <td>2.000000</td>\n",
       "      <td>3.250000</td>\n",
       "      <td>6.000000</td>\n",
       "    </tr>\n",
       "    <tr>\n",
       "      <th>50%</th>\n",
       "      <td>4.500000</td>\n",
       "      <td>2.500000</td>\n",
       "      <td>4.000000</td>\n",
       "      <td>6.000000</td>\n",
       "    </tr>\n",
       "    <tr>\n",
       "      <th>75%</th>\n",
       "      <td>5.750000</td>\n",
       "      <td>4.500000</td>\n",
       "      <td>6.250000</td>\n",
       "      <td>6.750000</td>\n",
       "    </tr>\n",
       "    <tr>\n",
       "      <th>max</th>\n",
       "      <td>6.000000</td>\n",
       "      <td>7.000000</td>\n",
       "      <td>7.000000</td>\n",
       "      <td>8.000000</td>\n",
       "    </tr>\n",
       "  </tbody>\n",
       "</table>\n",
       "</div>"
      ],
      "text/plain": [
       "              A         B         C         D\n",
       "count  6.000000  6.000000  6.000000  6.000000\n",
       "mean   4.333333  3.333333  4.333333  6.333333\n",
       "std    1.632993  2.250926  2.338090  1.032796\n",
       "min    2.000000  1.000000  1.000000  5.000000\n",
       "25%    3.250000  2.000000  3.250000  6.000000\n",
       "50%    4.500000  2.500000  4.000000  6.000000\n",
       "75%    5.750000  4.500000  6.250000  6.750000\n",
       "max    6.000000  7.000000  7.000000  8.000000"
      ]
     },
     "execution_count": 10,
     "metadata": {},
     "output_type": "execute_result"
    }
   ],
   "source": [
    "df.describe()"
   ]
  },
  {
   "cell_type": "code",
   "execution_count": 12,
   "metadata": {
    "collapsed": false
   },
   "outputs": [
    {
     "name": "stdout",
     "output_type": "stream",
     "text": [
      "   2013-01-01  2013-01-02  2013-01-03  2013-01-04  2013-01-05  2013-01-06\n",
      "A           3           6           2           6           4           5\n",
      "B           2           5           7           1           3           2\n",
      "C           4           4           3           7           1           7\n",
      "D           6           5           6           6           8           7\n",
      "            A  B  C  D\n",
      "2013-01-06  5  2  7  7\n",
      "2013-01-05  4  3  1  8\n",
      "2013-01-04  6  1  7  6\n",
      "2013-01-03  2  7  3  6\n",
      "2013-01-02  6  5  4  5\n",
      "2013-01-01  3  2  4  6\n",
      "            A  B  C  D\n",
      "2013-01-01  3  2  4  6\n",
      "2013-01-02  6  5  4  5\n",
      "2013-01-03  2  7  3  6\n",
      "2013-01-04  6  1  7  6\n",
      "2013-01-05  4  3  1  8\n",
      "2013-01-06  5  2  7  7\n"
     ]
    }
   ],
   "source": [
    "print df.T\n",
    "print df.sort_index(axis = 0, ascending = False)\n",
    "print df.sort_index(axis = 0)"
   ]
  },
  {
   "cell_type": "code",
   "execution_count": 13,
   "metadata": {
    "collapsed": false
   },
   "outputs": [
    {
     "name": "stdout",
     "output_type": "stream",
     "text": [
      "            A  B  C  D\n",
      "2013-01-04  6  1  7  6\n",
      "2013-01-01  3  2  4  6\n",
      "2013-01-06  5  2  7  7\n",
      "2013-01-05  4  3  1  8\n",
      "2013-01-02  6  5  4  5\n",
      "2013-01-03  2  7  3  6\n",
      "---\n",
      "[7 5 3 2 1]\n",
      "[7 5]\n",
      "5\n"
     ]
    }
   ],
   "source": [
    "print df.sort_values(by='B')\n",
    "print '---'\n",
    "print df.sort_values(by='B',ascending = False)['B'].unique()\n",
    "print df.sort_values(by='B',ascending = False)['B'].unique()[:2] #find the 2nd largest\n",
    "print df.sort_values(by='B',ascending = False)['B'].unique()[1] #find the 2nd largest"
   ]
  },
  {
   "cell_type": "code",
   "execution_count": 14,
   "metadata": {
    "collapsed": false
   },
   "outputs": [
    {
     "name": "stdout",
     "output_type": "stream",
     "text": [
      "2013-01-01    3\n",
      "2013-01-02    6\n",
      "2013-01-03    2\n",
      "2013-01-04    6\n",
      "2013-01-05    4\n",
      "2013-01-06    5\n",
      "Freq: D, Name: A, dtype: int64\n",
      "            A  B  C  D\n",
      "2013-01-01  3  2  4  6\n",
      "2013-01-02  6  5  4  5\n",
      "2013-01-03  2  7  3  6\n",
      "            A  B  C  D\n",
      "2013-01-01  3  2  4  6\n",
      "2013-01-02  6  5  4  5\n",
      "2013-01-03  2  7  3  6\n"
     ]
    }
   ],
   "source": [
    "#Selection\n",
    "print df['A']\n",
    "print df[0:3]\n",
    "print df['20130101':'20130103']"
   ]
  },
  {
   "cell_type": "code",
   "execution_count": 15,
   "metadata": {
    "collapsed": false
   },
   "outputs": [
    {
     "name": "stdout",
     "output_type": "stream",
     "text": [
      "A    3\n",
      "B    2\n",
      "C    4\n",
      "D    6\n",
      "Name: 2013-01-01 00:00:00, dtype: int64\n",
      "            A  B\n",
      "2013-01-01  3  2\n",
      "2013-01-02  6  5\n",
      "2013-01-03  2  7\n",
      "2013-01-04  6  1\n",
      "2013-01-05  4  3\n",
      "2013-01-06  5  2\n",
      "            A  B\n",
      "2013-01-01  3  2\n",
      "2013-01-02  6  5\n",
      "2013-01-03  2  7\n",
      "A    2\n",
      "B    7\n",
      "Name: 2013-01-03 00:00:00, dtype: int64\n"
     ]
    }
   ],
   "source": [
    "#Selection by Label\n",
    "print df.loc[dates[0]]\n",
    "print df.loc[:, ['A','B']]\n",
    "print df.loc['20130101':'20130103', ['A','B']]\n",
    "print df.loc['20130103', ['A','B']]"
   ]
  },
  {
   "cell_type": "code",
   "execution_count": 16,
   "metadata": {
    "collapsed": false
   },
   "outputs": [
    {
     "name": "stdout",
     "output_type": "stream",
     "text": [
      "3\n",
      "3\n"
     ]
    }
   ],
   "source": [
    "#For getting a scalar value\n",
    "print df.loc['20130101','A']\n",
    "print df.loc[dates[0],'A']"
   ]
  },
  {
   "cell_type": "code",
   "execution_count": 17,
   "metadata": {
    "collapsed": false
   },
   "outputs": [
    {
     "name": "stdout",
     "output_type": "stream",
     "text": [
      "A    6\n",
      "B    1\n",
      "C    7\n",
      "D    6\n",
      "Name: 2013-01-04 00:00:00, dtype: int64\n",
      "            A  B\n",
      "2013-01-04  6  1\n",
      "2013-01-05  4  3\n",
      "            A  D\n",
      "2013-01-04  6  6\n",
      "2013-01-06  5  7\n",
      "            A  B  C  D\n",
      "2013-01-02  6  5  4  5\n",
      "2013-01-03  2  7  3  6\n",
      "5\n"
     ]
    }
   ],
   "source": [
    "#Selection by Position\n",
    "print df.iloc[3]\n",
    "print df.iloc[3:5,0:2]\n",
    "print df.iloc[[3,5], [0,3]]\n",
    "print df.iloc[1:3,:]\n",
    "print df.iat[1,1]"
   ]
  },
  {
   "cell_type": "code",
   "execution_count": 23,
   "metadata": {
    "collapsed": false
   },
   "outputs": [
    {
     "name": "stdout",
     "output_type": "stream",
     "text": [
      "              A    B   C   D\n",
      "2013-01-01  NaN  NaN NaN NaN\n",
      "2013-01-02  6.0  5.0 NaN NaN\n",
      "2013-01-03  NaN  7.0 NaN NaN\n",
      "2013-01-04  6.0  NaN NaN NaN\n",
      "2013-01-05  4.0  NaN NaN NaN\n",
      "2013-01-06  5.0  NaN NaN NaN\n",
      "2013-01-01    0\n",
      "2013-01-02    2\n",
      "2013-01-03    1\n",
      "2013-01-04    1\n",
      "2013-01-05    1\n",
      "2013-01-06    1\n",
      "Freq: D, dtype: int64\n",
      "A    4\n",
      "B    2\n",
      "C    0\n",
      "D    0\n",
      "dtype: int64\n",
      "              A    B    C  D\n",
      "2013-01-01  NaN  NaN  4.0  6\n",
      "2013-01-02  6.0  5.0  4.0  5\n",
      "2013-01-03  NaN  7.0  NaN  6\n",
      "2013-01-04  6.0  NaN  7.0  6\n",
      "2013-01-05  4.0  NaN  NaN  8\n",
      "2013-01-06  5.0  NaN  7.0  7\n"
     ]
    }
   ],
   "source": [
    "#Boolean Indexing\n",
    "print df[df[['A','B']] > 3] # Using a single column values to select data.\n",
    "print df[df[['A','B']] > 3].count(axis = 1)  # Using a single column values to select data.\n",
    "print df[df[['A','B']] > 3].count(axis = 0)  # Using a single column values to select data.\n",
    "print df[df>3] # A where operation for getting."
   ]
  },
  {
   "cell_type": "code",
   "execution_count": 24,
   "metadata": {
    "collapsed": false
   },
   "outputs": [
    {
     "name": "stdout",
     "output_type": "stream",
     "text": [
      "            A  B  C  D     E\n",
      "2013-01-02  6  5  4  5   two\n",
      "2013-01-03  2  7  3  6   two\n",
      "2013-01-06  5  2  7  7  four\n"
     ]
    }
   ],
   "source": [
    "#Using the isin() method for filtering:\n",
    "df2 = df.copy()\n",
    "df2['E'] = ['one','two','two','three','one','four']\n",
    "# print df2[df2.E.isin(['two','four'])]\n",
    "print df2[df2['E'].isin(['two','four'])]"
   ]
  },
  {
   "cell_type": "code",
   "execution_count": 29,
   "metadata": {
    "collapsed": false
   },
   "outputs": [
    {
     "name": "stdout",
     "output_type": "stream",
     "text": [
      "2013-01-01    0\n",
      "2013-01-02    1\n",
      "2013-01-03    2\n",
      "2013-01-04    3\n",
      "2013-01-05    4\n",
      "2013-01-06    5\n",
      "Freq: D, dtype: int64\n",
      "            A  B  C  D  F\n",
      "2013-01-01  0  0  0  6  0\n",
      "2013-01-02  6  5  4  5  1\n",
      "2013-01-03  2  7  3  6  2\n",
      "2013-01-04  6  1  7  6  3\n",
      "2013-01-05  4  3  1  8  4\n",
      "2013-01-06  5  2  7  7  5\n"
     ]
    }
   ],
   "source": [
    "#Setting with .at() and .iat()\n",
    "s1 = pd.Series(range(6),index = pd.date_range('20130101',periods = 6))\n",
    "print s1\n",
    "df['F'] = s1\n",
    "df.at[dates[0],'A'] = 0\n",
    "df.iat[0,1] = 0\n",
    "df.iloc[0,2] = 0\n",
    "print df\n",
    "# df.iat[[3,5], [0,3]] = 0 #not ok, must use interger to index"
   ]
  },
  {
   "cell_type": "code",
   "execution_count": 34,
   "metadata": {
    "collapsed": false
   },
   "outputs": [
    {
     "name": "stdout",
     "output_type": "stream",
     "text": [
      "2013-01-01     5\n",
      "2013-01-02    20\n",
      "2013-01-03     5\n",
      "2013-01-04     5\n",
      "2013-01-05    40\n",
      "2013-01-06    45\n",
      "Freq: D, Name: D, dtype: int64\n",
      "            a  b  c  d\n",
      "2013-01-01  1  6  5  1\n",
      "2013-01-02  2  8  6  4\n",
      "2013-01-03  1  2  9  1\n",
      "2013-01-04  2  9  4  1\n",
      "2013-01-05  4  9  8  8\n",
      "2013-01-06  9  8  1  9\n"
     ]
    }
   ],
   "source": [
    "df = pd.DataFrame(np.random.randint(1,10,[6,4]), index = dates, columns = list('ABCD'))\n",
    "f = lambda x: x*5\n",
    "# df.loc[:,'D'] = np.array([5]*len(df))\n",
    "print df['D'].map(lambda x: x*5) #must save back, otherwise will not save results\n",
    "df.columns = [x.lower() for x in df.columns] #operation on columns\n",
    "print df"
   ]
  },
  {
   "cell_type": "code",
   "execution_count": 39,
   "metadata": {
    "collapsed": false
   },
   "outputs": [
    {
     "data": {
      "text/html": [
       "<div>\n",
       "<table border=\"1\" class=\"dataframe\">\n",
       "  <thead>\n",
       "    <tr style=\"text-align: right;\">\n",
       "      <th></th>\n",
       "      <th>A</th>\n",
       "      <th>B</th>\n",
       "      <th>C</th>\n",
       "      <th>D</th>\n",
       "    </tr>\n",
       "  </thead>\n",
       "  <tbody>\n",
       "    <tr>\n",
       "      <th>0</th>\n",
       "      <td>16.0</td>\n",
       "      <td>10.0</td>\n",
       "      <td>14.0</td>\n",
       "      <td>8.0</td>\n",
       "    </tr>\n",
       "    <tr>\n",
       "      <th>1</th>\n",
       "      <td>4.0</td>\n",
       "      <td>16.0</td>\n",
       "      <td>16.0</td>\n",
       "      <td>14.0</td>\n",
       "    </tr>\n",
       "    <tr>\n",
       "      <th>2</th>\n",
       "      <td>6.0</td>\n",
       "      <td>2.0</td>\n",
       "      <td>2.0</td>\n",
       "      <td>4.0</td>\n",
       "    </tr>\n",
       "    <tr>\n",
       "      <th>3</th>\n",
       "      <td>14.0</td>\n",
       "      <td>4.0</td>\n",
       "      <td>8.0</td>\n",
       "      <td>10.0</td>\n",
       "    </tr>\n",
       "    <tr>\n",
       "      <th>4</th>\n",
       "      <td>14.0</td>\n",
       "      <td>18.0</td>\n",
       "      <td>6.0</td>\n",
       "      <td>4.0</td>\n",
       "    </tr>\n",
       "    <tr>\n",
       "      <th>5</th>\n",
       "      <td>6.0</td>\n",
       "      <td>16.0</td>\n",
       "      <td>8.0</td>\n",
       "      <td>16.0</td>\n",
       "    </tr>\n",
       "  </tbody>\n",
       "</table>\n",
       "</div>"
      ],
      "text/plain": [
       "      A     B     C     D\n",
       "0  16.0  10.0  14.0   8.0\n",
       "1   4.0  16.0  16.0  14.0\n",
       "2   6.0   2.0   2.0   4.0\n",
       "3  14.0   4.0   8.0  10.0\n",
       "4  14.0  18.0   6.0   4.0\n",
       "5   6.0  16.0   8.0  16.0"
      ]
     },
     "execution_count": 39,
     "metadata": {},
     "output_type": "execute_result"
    }
   ],
   "source": [
    "df = pd.DataFrame(np.random.randint(1,10,[6,4]), index = dates, columns = list('ABCD'))\n",
    "df1 = df.applymap(lambda x: float(x) *2)\n",
    "df1"
   ]
  },
  {
   "cell_type": "code",
   "execution_count": 42,
   "metadata": {
    "collapsed": false
   },
   "outputs": [
    {
     "data": {
      "text/html": [
       "<div>\n",
       "<table border=\"1\" class=\"dataframe\">\n",
       "  <thead>\n",
       "    <tr style=\"text-align: right;\">\n",
       "      <th></th>\n",
       "      <th>A</th>\n",
       "      <th>B</th>\n",
       "      <th>C</th>\n",
       "      <th>D</th>\n",
       "    </tr>\n",
       "  </thead>\n",
       "  <tbody>\n",
       "    <tr>\n",
       "      <th>0</th>\n",
       "      <td>-100.0</td>\n",
       "      <td>-10.0</td>\n",
       "      <td>-14.0</td>\n",
       "      <td>-100.0</td>\n",
       "    </tr>\n",
       "    <tr>\n",
       "      <th>1</th>\n",
       "      <td>-4.0</td>\n",
       "      <td>-16.0</td>\n",
       "      <td>-16.0</td>\n",
       "      <td>-14.0</td>\n",
       "    </tr>\n",
       "    <tr>\n",
       "      <th>2</th>\n",
       "      <td>-6.0</td>\n",
       "      <td>-2.0</td>\n",
       "      <td>-2.0</td>\n",
       "      <td>-4.0</td>\n",
       "    </tr>\n",
       "    <tr>\n",
       "      <th>3</th>\n",
       "      <td>-14.0</td>\n",
       "      <td>-4.0</td>\n",
       "      <td>-8.0</td>\n",
       "      <td>-10.0</td>\n",
       "    </tr>\n",
       "    <tr>\n",
       "      <th>4</th>\n",
       "      <td>-14.0</td>\n",
       "      <td>-18.0</td>\n",
       "      <td>-6.0</td>\n",
       "      <td>-4.0</td>\n",
       "    </tr>\n",
       "    <tr>\n",
       "      <th>5</th>\n",
       "      <td>-6.0</td>\n",
       "      <td>-16.0</td>\n",
       "      <td>-8.0</td>\n",
       "      <td>-16.0</td>\n",
       "    </tr>\n",
       "  </tbody>\n",
       "</table>\n",
       "</div>"
      ],
      "text/plain": [
       "       A     B     C      D\n",
       "0 -100.0 -10.0 -14.0 -100.0\n",
       "1   -4.0 -16.0 -16.0  -14.0\n",
       "2   -6.0  -2.0  -2.0   -4.0\n",
       "3  -14.0  -4.0  -8.0  -10.0\n",
       "4  -14.0 -18.0  -6.0   -4.0\n",
       "5   -6.0 -16.0  -8.0  -16.0"
      ]
     },
     "execution_count": 42,
     "metadata": {},
     "output_type": "execute_result"
    }
   ],
   "source": [
    "df2 = df1.copy()\n",
    "df2[df2>0] = -df3\n",
    "df2"
   ]
  },
  {
   "cell_type": "code",
   "execution_count": 43,
   "metadata": {
    "collapsed": false
   },
   "outputs": [
    {
     "data": {
      "text/html": [
       "<div>\n",
       "<table border=\"1\" class=\"dataframe\">\n",
       "  <thead>\n",
       "    <tr style=\"text-align: right;\">\n",
       "      <th></th>\n",
       "      <th>A</th>\n",
       "      <th>B</th>\n",
       "      <th>C</th>\n",
       "      <th>D</th>\n",
       "    </tr>\n",
       "  </thead>\n",
       "  <tbody>\n",
       "    <tr>\n",
       "      <th>0</th>\n",
       "      <td>100.0</td>\n",
       "      <td>10.0</td>\n",
       "      <td>14.0</td>\n",
       "      <td>100.0</td>\n",
       "    </tr>\n",
       "    <tr>\n",
       "      <th>1</th>\n",
       "      <td>4.0</td>\n",
       "      <td>16.0</td>\n",
       "      <td>16.0</td>\n",
       "      <td>14.0</td>\n",
       "    </tr>\n",
       "    <tr>\n",
       "      <th>2</th>\n",
       "      <td>6.0</td>\n",
       "      <td>2.0</td>\n",
       "      <td>2.0</td>\n",
       "      <td>4.0</td>\n",
       "    </tr>\n",
       "    <tr>\n",
       "      <th>3</th>\n",
       "      <td>14.0</td>\n",
       "      <td>4.0</td>\n",
       "      <td>8.0</td>\n",
       "      <td>10.0</td>\n",
       "    </tr>\n",
       "    <tr>\n",
       "      <th>4</th>\n",
       "      <td>14.0</td>\n",
       "      <td>18.0</td>\n",
       "      <td>6.0</td>\n",
       "      <td>4.0</td>\n",
       "    </tr>\n",
       "    <tr>\n",
       "      <th>5</th>\n",
       "      <td>6.0</td>\n",
       "      <td>16.0</td>\n",
       "      <td>8.0</td>\n",
       "      <td>16.0</td>\n",
       "    </tr>\n",
       "  </tbody>\n",
       "</table>\n",
       "</div>"
      ],
      "text/plain": [
       "       A     B     C      D\n",
       "0  100.0  10.0  14.0  100.0\n",
       "1    4.0  16.0  16.0   14.0\n",
       "2    6.0   2.0   2.0    4.0\n",
       "3   14.0   4.0   8.0   10.0\n",
       "4   14.0  18.0   6.0    4.0\n",
       "5    6.0  16.0   8.0   16.0"
      ]
     },
     "execution_count": 43,
     "metadata": {},
     "output_type": "execute_result"
    }
   ],
   "source": [
    "df3 = df1.copy()\n",
    "df3.iloc[0,0] = 100\n",
    "df3.iloc[0,3] = 100\n",
    "df3"
   ]
  },
  {
   "cell_type": "code",
   "execution_count": 52,
   "metadata": {
    "collapsed": false
   },
   "outputs": [
    {
     "name": "stdout",
     "output_type": "stream",
     "text": [
      "(6, 4) (6,)\n",
      "------\n",
      "       A     B     C      D\n",
      "0 -100.0 -10.0 -14.0 -100.0\n",
      "1   -4.0 -16.0 -16.0  -14.0\n",
      "2   -6.0  -2.0  -2.0   -4.0\n",
      "3  -14.0  -4.0  -8.0  -10.0\n",
      "4  -14.0 -18.0  -6.0   -4.0\n",
      "5   -6.0 -16.0  -8.0  -16.0\n"
     ]
    }
   ],
   "source": [
    "B = np.arange(6)\n",
    "print df2.shape, B.shape #shape is tuple\n",
    "print '------\\n', df2"
   ]
  },
  {
   "cell_type": "code",
   "execution_count": 54,
   "metadata": {
    "collapsed": false
   },
   "outputs": [
    {
     "name": "stdout",
     "output_type": "stream",
     "text": [
      "      B     C\n",
      "0  -0.0  -0.0\n",
      "1 -16.0 -16.0\n",
      "2  -4.0  -4.0\n",
      "3 -12.0 -24.0\n",
      "4 -72.0 -24.0\n",
      "5 -80.0 -40.0\n"
     ]
    }
   ],
   "source": [
    "print df2[['B','C']].apply(lambda x: x*B) #column to column multiplication by apply()"
   ]
  },
  {
   "cell_type": "code",
   "execution_count": 56,
   "metadata": {
    "collapsed": false
   },
   "outputs": [
    {
     "name": "stdout",
     "output_type": "stream",
     "text": [
      "      A     B     C     D\n",
      "0  -0.0  -0.0  -0.0  -0.0\n",
      "1  -4.0 -16.0 -16.0 -14.0\n",
      "2 -12.0  -4.0  -4.0  -8.0\n",
      "3 -42.0 -12.0 -24.0 -30.0\n",
      "4 -56.0 -72.0 -24.0 -16.0\n",
      "5 -30.0 -80.0 -40.0 -80.0\n"
     ]
    }
   ],
   "source": [
    "print (df2.T*B).T #transpose first, then use * to row*row, then transpose back"
   ]
  },
  {
   "cell_type": "code",
   "execution_count": 58,
   "metadata": {
    "collapsed": false
   },
   "outputs": [
    {
     "name": "stdout",
     "output_type": "stream",
     "text": [
      "     A     B     C      D\n",
      "0 -0.0 -10.0 -28.0 -300.0\n",
      "1 -0.0 -16.0 -32.0  -42.0\n",
      "2 -0.0  -2.0  -4.0  -12.0\n",
      "3 -0.0  -4.0 -16.0  -30.0\n",
      "4 -0.0 -18.0 -12.0  -12.0\n",
      "5 -0.0 -16.0 -16.0  -48.0\n",
      "       A     B     C      D\n",
      "0 -100.0 -10.0 -14.0 -100.0\n",
      "1   -4.0 -16.0 -16.0  -14.0\n",
      "2   -6.0  -2.0  -2.0   -4.0\n",
      "3  -14.0  -4.0  -8.0  -10.0\n",
      "4  -14.0 -18.0  -6.0   -4.0\n",
      "5   -6.0 -16.0  -8.0  -16.0\n"
     ]
    }
   ],
   "source": [
    "C = np.arange(4)\n",
    "print df2*C\n",
    "print df2"
   ]
  },
  {
   "cell_type": "code",
   "execution_count": 65,
   "metadata": {
    "collapsed": false
   },
   "outputs": [
    {
     "name": "stdout",
     "output_type": "stream",
     "text": [
      "     A    B    C    D    E\n",
      "0  8.0  5.0  7.0  4.0  1.0\n",
      "1  2.0  8.0  8.0  7.0  1.0\n",
      "2  3.0  1.0  1.0  2.0  NaN\n",
      "3  7.0  2.0  4.0  5.0  NaN\n",
      "--------\n",
      "     A    B    C    D    E\n",
      "0  8.0  5.0  7.0  4.0  1.0\n",
      "1  2.0  8.0  8.0  7.0  1.0\n"
     ]
    }
   ],
   "source": [
    "# Missing data\n",
    "df1 = df.reindex(index = dates[0:4], columns = list(df.columns) + ['E'])\n",
    "df1.loc[dates[0]:dates[1],'E'] = 1\n",
    "# df1.loc[dates[0], 'F'] = np.nan\n",
    "print df1.dropna(how='all')\n",
    "print '--------'\n",
    "print df1.dropna(how='any')\n"
   ]
  },
  {
   "cell_type": "code",
   "execution_count": 66,
   "metadata": {
    "collapsed": false
   },
   "outputs": [
    {
     "name": "stdout",
     "output_type": "stream",
     "text": [
      "     A    B    C    D    E\n",
      "0  8.0  5.0  7.0  4.0  1.0\n",
      "1  2.0  8.0  8.0  7.0  1.0\n",
      "2  3.0  1.0  1.0  2.0  5.0\n",
      "3  7.0  2.0  4.0  5.0  5.0\n",
      "     A    B    C    D    E\n",
      "0  8.0  5.0  7.0  4.0  1.0\n",
      "1  2.0  8.0  8.0  7.0  1.0\n",
      "2  3.0  1.0  1.0  2.0  5.0\n",
      "3  7.0  2.0  4.0  5.0  5.0\n"
     ]
    }
   ],
   "source": [
    "print df1.fillna(value = 5)\n",
    "print df1.fillna(5)"
   ]
  },
  {
   "cell_type": "code",
   "execution_count": 70,
   "metadata": {
    "collapsed": false
   },
   "outputs": [
    {
     "name": "stdout",
     "output_type": "stream",
     "text": [
      "       A      B      C      D      E\n",
      "0  False  False  False  False  False\n",
      "1  False  False  False  False  False\n",
      "2  False  False  False  False   True\n",
      "3  False  False  False  False   True\n",
      "A    4\n",
      "B    4\n",
      "C    4\n",
      "D    4\n",
      "E    4\n",
      "dtype: int64\n",
      "A    0\n",
      "B    0\n",
      "C    0\n",
      "D    0\n",
      "E    2\n",
      "dtype: int64\n"
     ]
    }
   ],
   "source": [
    "print df1.isnull()\n",
    "print df1.isnull().count()\n",
    "print df1.isnull().sum()"
   ]
  },
  {
   "cell_type": "code",
   "execution_count": 72,
   "metadata": {
    "collapsed": false
   },
   "outputs": [
    {
     "name": "stdout",
     "output_type": "stream",
     "text": [
      "0    5.00\n",
      "1    5.20\n",
      "2    1.75\n",
      "3    4.50\n",
      "dtype: float64\n",
      "A    5.0\n",
      "B    4.0\n",
      "C    5.0\n",
      "D    4.5\n",
      "E    1.0\n",
      "dtype: float64\n"
     ]
    }
   ],
   "source": [
    "#Operations -stats\n",
    "print df1.mean(1) #horizontal, add each column\n",
    "print df1.mean() #vertical,default = 0, add each row"
   ]
  },
  {
   "cell_type": "code",
   "execution_count": 158,
   "metadata": {
    "collapsed": false
   },
   "outputs": [
    {
     "name": "stdout",
     "output_type": "stream",
     "text": [
      "2013-01-01    5.0\n",
      "2013-01-02    NaN\n",
      "2013-01-03    6.0\n",
      "2013-01-04    8.0\n",
      "2013-01-05    NaN\n",
      "2013-01-06    NaN\n",
      "Freq: D, dtype: float64\n",
      "2013-01-01    NaN\n",
      "2013-01-02    NaN\n",
      "2013-01-03    1.0\n",
      "2013-01-04    3.0\n",
      "2013-01-05    5.0\n",
      "2013-01-06    NaN\n",
      "Freq: D, dtype: float64\n"
     ]
    }
   ],
   "source": [
    "s = pd.Series([1,3,5,np.nan,6,8], index=dates).shift(-2)\n",
    "print s\n",
    "s = pd.Series([1,3,5,np.nan,6,8], index=dates).shift(2)\n",
    "print s"
   ]
  },
  {
   "cell_type": "markdown",
   "metadata": {},
   "source": [
    "## pd.Series Vs np.array : same kind of computation"
   ]
  },
  {
   "cell_type": "code",
   "execution_count": 159,
   "metadata": {
    "collapsed": false
   },
   "outputs": [
    {
     "data": {
      "text/plain": [
       "0    1.0\n",
       "1    3.0\n",
       "2    5.0\n",
       "3    NaN\n",
       "4    6.0\n",
       "5    8.0\n",
       "dtype: float64"
      ]
     },
     "execution_count": 159,
     "metadata": {},
     "output_type": "execute_result"
    }
   ],
   "source": [
    "s = pd.Series([1,3,5,np.nan,6,8], index=range(6))\n",
    "s"
   ]
  },
  {
   "cell_type": "code",
   "execution_count": 160,
   "metadata": {
    "collapsed": false
   },
   "outputs": [
    {
     "data": {
      "text/plain": [
       "array([  1.,   3.,   5.,  nan,   6.,   8.])"
      ]
     },
     "execution_count": 160,
     "metadata": {},
     "output_type": "execute_result"
    }
   ],
   "source": [
    "sa = np.array([1,3,5,np.nan,6,8])\n",
    "sa"
   ]
  },
  {
   "cell_type": "code",
   "execution_count": 161,
   "metadata": {
    "collapsed": false
   },
   "outputs": [
    {
     "name": "stdout",
     "output_type": "stream",
     "text": [
      "   A  B  C  D\n",
      "0  8  5  7  4\n",
      "1  2  8  8  7\n",
      "2  3  1  1  2\n",
      "3  7  2  4  5\n",
      "4  7  9  3  2\n",
      "5  3  8  4  8\n",
      "     A    B    C    D\n",
      "0  7.0  4.0  6.0  3.0\n",
      "1 -1.0  5.0  5.0  4.0\n",
      "2 -2.0 -4.0 -4.0 -3.0\n",
      "3  NaN  NaN  NaN  NaN\n",
      "4  1.0  3.0 -3.0 -4.0\n",
      "5 -5.0  0.0 -4.0  0.0\n"
     ]
    }
   ],
   "source": [
    "print df\n",
    "print df.apply(lambda x: x-s) #if np.nan True --> np.nan or NaN."
   ]
  },
  {
   "cell_type": "code",
   "execution_count": 162,
   "metadata": {
    "collapsed": false
   },
   "outputs": [
    {
     "name": "stdout",
     "output_type": "stream",
     "text": [
      "   A  B  C  D\n",
      "0  8  5  7  4\n",
      "1  2  8  8  7\n",
      "2  3  1  1  2\n",
      "3  7  2  4  5\n",
      "4  7  9  3  2\n",
      "5  3  8  4  8\n",
      "     A    B    C    D\n",
      "0  7.0  4.0  6.0  3.0\n",
      "1 -1.0  5.0  5.0  4.0\n",
      "2 -2.0 -4.0 -4.0 -3.0\n",
      "3  NaN  NaN  NaN  NaN\n",
      "4  1.0  3.0 -3.0 -4.0\n",
      "5 -5.0  0.0 -4.0  0.0\n"
     ]
    }
   ],
   "source": [
    "print df\n",
    "print df.apply(lambda x: x-sa) #if np.nan True --> np.nan or NaN."
   ]
  },
  {
   "cell_type": "code",
   "execution_count": 127,
   "metadata": {
    "collapsed": false
   },
   "outputs": [
    {
     "name": "stdout",
     "output_type": "stream",
     "text": [
      "   A  B  C  D\n",
      "0 -2 -5 -3 -6\n",
      "1 -8 -2 -2 -3\n",
      "2 -7 -9 -9 -8\n",
      "3 -3 -8 -6 -5\n",
      "4 -3 -1 -7 -8\n",
      "5 -7 -2 -6 -2\n"
     ]
    }
   ],
   "source": [
    "print df.applymap(lambda x: x - 10)"
   ]
  },
  {
   "cell_type": "code",
   "execution_count": 133,
   "metadata": {
    "collapsed": false
   },
   "outputs": [
    {
     "name": "stdout",
     "output_type": "stream",
     "text": [
      "   A  B  C  D\n",
      "0  8  5  7  4\n",
      "1  2  8  8  7\n",
      "2  3  1  1  2\n",
      "3  7  2  4  5\n",
      "4  7  9  3  2\n",
      "5  3  8  4  8\n",
      "    0   1    2    3    4   5\n",
      "0 NaN NaN  7.0  5.0  3.0 NaN\n",
      "1 NaN NaN  1.0 -1.0 -3.0 NaN\n",
      "2 NaN NaN  2.0  0.0 -2.0 NaN\n",
      "3 NaN NaN  6.0  4.0  2.0 NaN\n",
      "4 NaN NaN  6.0  4.0  2.0 NaN\n",
      "5 NaN NaN  2.0  0.0 -2.0 NaN\n"
     ]
    }
   ],
   "source": [
    "print df\n",
    "print df['A'].apply(lambda x: x-s)"
   ]
  },
  {
   "cell_type": "code",
   "execution_count": 164,
   "metadata": {
    "collapsed": false
   },
   "outputs": [
    {
     "name": "stdout",
     "output_type": "stream",
     "text": [
      "0    49.0\n",
      "1     1.0\n",
      "2     4.0\n",
      "3     NaN\n",
      "4     1.0\n",
      "5    25.0\n",
      "dtype: float64\n",
      "0    49.0\n",
      "1     1.0\n",
      "2     4.0\n",
      "3     NaN\n",
      "4     1.0\n",
      "5    25.0\n",
      "dtype: float64\n",
      "0    49.0\n",
      "1     1.0\n",
      "2     4.0\n",
      "3     NaN\n",
      "4     1.0\n",
      "5    25.0\n",
      "dtype: float64\n",
      "0    49.0\n",
      "1     1.0\n",
      "2     4.0\n",
      "3     NaN\n",
      "4     1.0\n",
      "5    25.0\n",
      "dtype: float64\n"
     ]
    }
   ],
   "source": [
    "f = lambda x: x**2\n",
    "print (df['A']-s)**2\n",
    "print (df['A']-s).map(f)\n",
    "print (df['A'].sub(s))**2\n",
    "print (df['A'].sub(s)).map(f)"
   ]
  },
  {
   "cell_type": "code",
   "execution_count": 138,
   "metadata": {
    "collapsed": false
   },
   "outputs": [
    {
     "name": "stdout",
     "output_type": "stream",
     "text": [
      "<class 'pandas.core.series.Series'>\n"
     ]
    }
   ],
   "source": [
    "print type(df['A']-s)"
   ]
  },
  {
   "cell_type": "code",
   "execution_count": 143,
   "metadata": {
    "collapsed": false
   },
   "outputs": [
    {
     "name": "stdout",
     "output_type": "stream",
     "text": [
      "0     4.0\n",
      "1    16.0\n",
      "2     4.0\n",
      "3     NaN\n",
      "4     NaN\n",
      "5     NaN\n",
      "dtype: float64\n"
     ]
    }
   ],
   "source": [
    "print ((df['A']-s)**2).shift(-2) #negative == upward"
   ]
  },
  {
   "cell_type": "code",
   "execution_count": 144,
   "metadata": {
    "collapsed": false
   },
   "outputs": [
    {
     "name": "stdout",
     "output_type": "stream",
     "text": [
      "0     NaN\n",
      "1     NaN\n",
      "2     NaN\n",
      "3     NaN\n",
      "4     4.0\n",
      "5    16.0\n",
      "dtype: float64\n"
     ]
    }
   ],
   "source": [
    "print ((df['A']-s)**2).shift(2) #positive == downward"
   ]
  },
  {
   "cell_type": "markdown",
   "metadata": {},
   "source": [
    "## Apply"
   ]
  },
  {
   "cell_type": "code",
   "execution_count": 168,
   "metadata": {
    "collapsed": false
   },
   "outputs": [
    {
     "data": {
      "text/html": [
       "<div>\n",
       "<table border=\"1\" class=\"dataframe\">\n",
       "  <thead>\n",
       "    <tr style=\"text-align: right;\">\n",
       "      <th></th>\n",
       "      <th>A</th>\n",
       "      <th>B</th>\n",
       "      <th>C</th>\n",
       "      <th>D</th>\n",
       "    </tr>\n",
       "  </thead>\n",
       "  <tbody>\n",
       "    <tr>\n",
       "      <th>0</th>\n",
       "      <td>8</td>\n",
       "      <td>13</td>\n",
       "      <td>20</td>\n",
       "      <td>24</td>\n",
       "    </tr>\n",
       "    <tr>\n",
       "      <th>1</th>\n",
       "      <td>2</td>\n",
       "      <td>10</td>\n",
       "      <td>18</td>\n",
       "      <td>25</td>\n",
       "    </tr>\n",
       "    <tr>\n",
       "      <th>2</th>\n",
       "      <td>3</td>\n",
       "      <td>4</td>\n",
       "      <td>5</td>\n",
       "      <td>7</td>\n",
       "    </tr>\n",
       "    <tr>\n",
       "      <th>3</th>\n",
       "      <td>7</td>\n",
       "      <td>9</td>\n",
       "      <td>13</td>\n",
       "      <td>18</td>\n",
       "    </tr>\n",
       "    <tr>\n",
       "      <th>4</th>\n",
       "      <td>7</td>\n",
       "      <td>16</td>\n",
       "      <td>19</td>\n",
       "      <td>21</td>\n",
       "    </tr>\n",
       "    <tr>\n",
       "      <th>5</th>\n",
       "      <td>3</td>\n",
       "      <td>11</td>\n",
       "      <td>15</td>\n",
       "      <td>23</td>\n",
       "    </tr>\n",
       "  </tbody>\n",
       "</table>\n",
       "</div>"
      ],
      "text/plain": [
       "   A   B   C   D\n",
       "0  8  13  20  24\n",
       "1  2  10  18  25\n",
       "2  3   4   5   7\n",
       "3  7   9  13  18\n",
       "4  7  16  19  21\n",
       "5  3  11  15  23"
      ]
     },
     "execution_count": 168,
     "metadata": {},
     "output_type": "execute_result"
    }
   ],
   "source": [
    "df.apply(np.cumsum,axis = 1)"
   ]
  },
  {
   "cell_type": "code",
   "execution_count": 169,
   "metadata": {
    "collapsed": false
   },
   "outputs": [
    {
     "data": {
      "text/html": [
       "<div>\n",
       "<table border=\"1\" class=\"dataframe\">\n",
       "  <thead>\n",
       "    <tr style=\"text-align: right;\">\n",
       "      <th></th>\n",
       "      <th>A</th>\n",
       "      <th>B</th>\n",
       "      <th>C</th>\n",
       "      <th>D</th>\n",
       "    </tr>\n",
       "  </thead>\n",
       "  <tbody>\n",
       "    <tr>\n",
       "      <th>0</th>\n",
       "      <td>8</td>\n",
       "      <td>5</td>\n",
       "      <td>7</td>\n",
       "      <td>4</td>\n",
       "    </tr>\n",
       "    <tr>\n",
       "      <th>1</th>\n",
       "      <td>10</td>\n",
       "      <td>13</td>\n",
       "      <td>15</td>\n",
       "      <td>11</td>\n",
       "    </tr>\n",
       "    <tr>\n",
       "      <th>2</th>\n",
       "      <td>13</td>\n",
       "      <td>14</td>\n",
       "      <td>16</td>\n",
       "      <td>13</td>\n",
       "    </tr>\n",
       "    <tr>\n",
       "      <th>3</th>\n",
       "      <td>20</td>\n",
       "      <td>16</td>\n",
       "      <td>20</td>\n",
       "      <td>18</td>\n",
       "    </tr>\n",
       "    <tr>\n",
       "      <th>4</th>\n",
       "      <td>27</td>\n",
       "      <td>25</td>\n",
       "      <td>23</td>\n",
       "      <td>20</td>\n",
       "    </tr>\n",
       "    <tr>\n",
       "      <th>5</th>\n",
       "      <td>30</td>\n",
       "      <td>33</td>\n",
       "      <td>27</td>\n",
       "      <td>28</td>\n",
       "    </tr>\n",
       "  </tbody>\n",
       "</table>\n",
       "</div>"
      ],
      "text/plain": [
       "    A   B   C   D\n",
       "0   8   5   7   4\n",
       "1  10  13  15  11\n",
       "2  13  14  16  13\n",
       "3  20  16  20  18\n",
       "4  27  25  23  20\n",
       "5  30  33  27  28"
      ]
     },
     "execution_count": 169,
     "metadata": {},
     "output_type": "execute_result"
    }
   ],
   "source": [
    "df.apply(np.cumsum)"
   ]
  },
  {
   "cell_type": "code",
   "execution_count": 170,
   "metadata": {
    "collapsed": false
   },
   "outputs": [
    {
     "data": {
      "text/plain": [
       "A    6\n",
       "B    8\n",
       "C    7\n",
       "D    6\n",
       "dtype: int64"
      ]
     },
     "execution_count": 170,
     "metadata": {},
     "output_type": "execute_result"
    }
   ],
   "source": [
    "df.apply(lambda x: x.max() - x.min())"
   ]
  },
  {
   "cell_type": "code",
   "execution_count": 175,
   "metadata": {
    "collapsed": false
   },
   "outputs": [
    {
     "data": {
      "text/html": [
       "<div>\n",
       "<table border=\"1\" class=\"dataframe\">\n",
       "  <thead>\n",
       "    <tr style=\"text-align: right;\">\n",
       "      <th></th>\n",
       "      <th>A</th>\n",
       "      <th>B</th>\n",
       "      <th>C</th>\n",
       "      <th>D</th>\n",
       "    </tr>\n",
       "  </thead>\n",
       "  <tbody>\n",
       "    <tr>\n",
       "      <th>count</th>\n",
       "      <td>6.000000</td>\n",
       "      <td>6.000000</td>\n",
       "      <td>6.000000</td>\n",
       "      <td>6.000000</td>\n",
       "    </tr>\n",
       "    <tr>\n",
       "      <th>mean</th>\n",
       "      <td>5.000000</td>\n",
       "      <td>5.500000</td>\n",
       "      <td>4.500000</td>\n",
       "      <td>4.666667</td>\n",
       "    </tr>\n",
       "    <tr>\n",
       "      <th>std</th>\n",
       "      <td>2.607681</td>\n",
       "      <td>3.391165</td>\n",
       "      <td>2.588436</td>\n",
       "      <td>2.503331</td>\n",
       "    </tr>\n",
       "    <tr>\n",
       "      <th>min</th>\n",
       "      <td>2.000000</td>\n",
       "      <td>1.000000</td>\n",
       "      <td>1.000000</td>\n",
       "      <td>2.000000</td>\n",
       "    </tr>\n",
       "    <tr>\n",
       "      <th>25%</th>\n",
       "      <td>3.000000</td>\n",
       "      <td>2.750000</td>\n",
       "      <td>3.250000</td>\n",
       "      <td>2.500000</td>\n",
       "    </tr>\n",
       "    <tr>\n",
       "      <th>50%</th>\n",
       "      <td>5.000000</td>\n",
       "      <td>6.500000</td>\n",
       "      <td>4.000000</td>\n",
       "      <td>4.500000</td>\n",
       "    </tr>\n",
       "    <tr>\n",
       "      <th>75%</th>\n",
       "      <td>7.000000</td>\n",
       "      <td>8.000000</td>\n",
       "      <td>6.250000</td>\n",
       "      <td>6.500000</td>\n",
       "    </tr>\n",
       "    <tr>\n",
       "      <th>max</th>\n",
       "      <td>8.000000</td>\n",
       "      <td>9.000000</td>\n",
       "      <td>8.000000</td>\n",
       "      <td>8.000000</td>\n",
       "    </tr>\n",
       "  </tbody>\n",
       "</table>\n",
       "</div>"
      ],
      "text/plain": [
       "              A         B         C         D\n",
       "count  6.000000  6.000000  6.000000  6.000000\n",
       "mean   5.000000  5.500000  4.500000  4.666667\n",
       "std    2.607681  3.391165  2.588436  2.503331\n",
       "min    2.000000  1.000000  1.000000  2.000000\n",
       "25%    3.000000  2.750000  3.250000  2.500000\n",
       "50%    5.000000  6.500000  4.000000  4.500000\n",
       "75%    7.000000  8.000000  6.250000  6.500000\n",
       "max    8.000000  9.000000  8.000000  8.000000"
      ]
     },
     "execution_count": 175,
     "metadata": {},
     "output_type": "execute_result"
    }
   ],
   "source": [
    "df.describe()"
   ]
  },
  {
   "cell_type": "markdown",
   "metadata": {},
   "source": [
    "## Histogramming"
   ]
  },
  {
   "cell_type": "code",
   "execution_count": 619,
   "metadata": {
    "collapsed": false
   },
   "outputs": [
    {
     "name": "stdout",
     "output_type": "stream",
     "text": [
      "0    4\n",
      "1    5\n",
      "2    1\n",
      "3    5\n",
      "4    4\n",
      "5    4\n",
      "6    3\n",
      "7    5\n",
      "8    4\n",
      "9    6\n",
      "dtype: int64\n",
      "<class 'pandas.core.series.Series'>\n"
     ]
    }
   ],
   "source": [
    "s = pd.Series(np.random.randint(0,7,10))\n",
    "print s\n",
    "print type(s)"
   ]
  },
  {
   "cell_type": "code",
   "execution_count": 626,
   "metadata": {
    "collapsed": false
   },
   "outputs": [
    {
     "name": "stdout",
     "output_type": "stream",
     "text": [
      "4    4\n",
      "5    3\n",
      "6    1\n",
      "3    1\n",
      "1    1\n",
      "dtype: int64\n",
      "<class 'pandas.core.series.Series'>\n"
     ]
    }
   ],
   "source": [
    "print s.value_counts()\n",
    "print type(s.value_counts())"
   ]
  },
  {
   "cell_type": "code",
   "execution_count": 629,
   "metadata": {
    "collapsed": false
   },
   "outputs": [
    {
     "data": {
      "text/plain": [
       "3"
      ]
     },
     "execution_count": 629,
     "metadata": {},
     "output_type": "execute_result"
    }
   ],
   "source": [
    "s.value_counts()[5]"
   ]
  },
  {
   "cell_type": "code",
   "execution_count": 620,
   "metadata": {
    "collapsed": false
   },
   "outputs": [
    {
     "data": {
      "text/plain": [
       "{1, 3, 4, 5, 6}"
      ]
     },
     "execution_count": 620,
     "metadata": {},
     "output_type": "execute_result"
    }
   ],
   "source": [
    "set(s)"
   ]
  },
  {
   "cell_type": "code",
   "execution_count": 630,
   "metadata": {
    "collapsed": false
   },
   "outputs": [
    {
     "data": {
      "text/plain": [
       "array([4, 5, 1, 5, 4, 4, 3, 5, 4, 6])"
      ]
     },
     "execution_count": 630,
     "metadata": {},
     "output_type": "execute_result"
    }
   ],
   "source": [
    "s.values"
   ]
  },
  {
   "cell_type": "code",
   "execution_count": 634,
   "metadata": {
    "collapsed": false
   },
   "outputs": [
    {
     "name": "stdout",
     "output_type": "stream",
     "text": [
      "Counter({4: 4, 5: 3, 1: 1, 3: 1, 6: 1})\n"
     ]
    },
    {
     "data": {
      "text/plain": [
       "1    1\n",
       "3    1\n",
       "4    4\n",
       "5    3\n",
       "6    1\n",
       "dtype: int64"
      ]
     },
     "execution_count": 634,
     "metadata": {},
     "output_type": "execute_result"
    }
   ],
   "source": [
    "from collections import Counter\n",
    "print Counter(s)\n",
    "pd.Series(Counter(s))"
   ]
  },
  {
   "cell_type": "code",
   "execution_count": 635,
   "metadata": {
    "collapsed": false
   },
   "outputs": [
    {
     "data": {
      "text/plain": [
       "5"
      ]
     },
     "execution_count": 635,
     "metadata": {},
     "output_type": "execute_result"
    }
   ],
   "source": [
    "s.unique().size"
   ]
  },
  {
   "cell_type": "code",
   "execution_count": 616,
   "metadata": {
    "collapsed": false
   },
   "outputs": [
    {
     "data": {
      "text/plain": [
       "13"
      ]
     },
     "execution_count": 616,
     "metadata": {},
     "output_type": "execute_result"
    }
   ],
   "source": [
    "s.unique().sum()"
   ]
  },
  {
   "cell_type": "code",
   "execution_count": 209,
   "metadata": {
    "collapsed": false
   },
   "outputs": [
    {
     "name": "stdout",
     "output_type": "stream",
     "text": [
      "<class 'pandas.core.series.Series'>\n",
      "5\n"
     ]
    }
   ],
   "source": [
    "print type(s.value_counts())\n",
    "print len(s.value_counts())"
   ]
  },
  {
   "cell_type": "code",
   "execution_count": 222,
   "metadata": {
    "collapsed": false
   },
   "outputs": [
    {
     "name": "stdout",
     "output_type": "stream",
     "text": [
      "0    8\n",
      "1    2\n",
      "2    3\n",
      "3    7\n",
      "4    7\n",
      "5    3\n",
      "Name: A, dtype: int64\n",
      "0    5\n",
      "1    8\n",
      "2    1\n",
      "3    2\n",
      "4    9\n",
      "5    8\n",
      "Name: B, dtype: int64\n",
      "0    7\n",
      "1    8\n",
      "2    1\n",
      "3    4\n",
      "4    3\n",
      "5    4\n",
      "Name: C, dtype: int64\n",
      "0    4\n",
      "1    7\n",
      "2    2\n",
      "3    5\n",
      "4    2\n",
      "5    8\n",
      "Name: D, dtype: int64\n"
     ]
    }
   ],
   "source": [
    "for col in df:\n",
    "    if df[col].dtype == 'int64':\n",
    "        print df[col]"
   ]
  },
  {
   "cell_type": "code",
   "execution_count": 224,
   "metadata": {
    "collapsed": false
   },
   "outputs": [
    {
     "name": "stdout",
     "output_type": "stream",
     "text": [
      "['A', 'B', 'C', 'D']\n"
     ]
    }
   ],
   "source": [
    "print [x for x in df if df[x].dtype == 'int64']"
   ]
  },
  {
   "cell_type": "code",
   "execution_count": 225,
   "metadata": {
    "collapsed": false
   },
   "outputs": [
    {
     "name": "stdout",
     "output_type": "stream",
     "text": [
      "A\n",
      "0    8\n",
      "1    2\n",
      "2    3\n",
      "3    7\n",
      "4    7\n",
      "5    3\n",
      "Name: A, dtype: int64\n",
      "B\n",
      "0    5\n",
      "1    8\n",
      "2    1\n",
      "3    2\n",
      "4    9\n",
      "5    8\n",
      "Name: B, dtype: int64\n",
      "C\n",
      "0    7\n",
      "1    8\n",
      "2    1\n",
      "3    4\n",
      "4    3\n",
      "5    4\n",
      "Name: C, dtype: int64\n",
      "D\n",
      "0    4\n",
      "1    7\n",
      "2    2\n",
      "3    5\n",
      "4    2\n",
      "5    8\n",
      "Name: D, dtype: int64\n"
     ]
    }
   ],
   "source": [
    "for item, frame in df.iteritems():\n",
    "    print item\n",
    "    print frame"
   ]
  },
  {
   "cell_type": "code",
   "execution_count": 227,
   "metadata": {
    "collapsed": false
   },
   "outputs": [],
   "source": [
    "ls1 =  [df[x] for x in df]"
   ]
  },
  {
   "cell_type": "code",
   "execution_count": 231,
   "metadata": {
    "collapsed": false
   },
   "outputs": [
    {
     "data": {
      "text/plain": [
       "pandas.core.series.Series"
      ]
     },
     "execution_count": 231,
     "metadata": {},
     "output_type": "execute_result"
    }
   ],
   "source": [
    "type(ls1[2])"
   ]
  },
  {
   "cell_type": "code",
   "execution_count": 251,
   "metadata": {
    "collapsed": false
   },
   "outputs": [
    {
     "data": {
      "text/html": [
       "<div>\n",
       "<table border=\"1\" class=\"dataframe\">\n",
       "  <thead>\n",
       "    <tr style=\"text-align: right;\">\n",
       "      <th></th>\n",
       "      <th>A</th>\n",
       "      <th>B</th>\n",
       "      <th>C</th>\n",
       "      <th>D</th>\n",
       "    </tr>\n",
       "  </thead>\n",
       "  <tbody>\n",
       "    <tr>\n",
       "      <th>0</th>\n",
       "      <td>16</td>\n",
       "      <td>10</td>\n",
       "      <td>14</td>\n",
       "      <td>8</td>\n",
       "    </tr>\n",
       "    <tr>\n",
       "      <th>1</th>\n",
       "      <td>4</td>\n",
       "      <td>16</td>\n",
       "      <td>16</td>\n",
       "      <td>14</td>\n",
       "    </tr>\n",
       "    <tr>\n",
       "      <th>2</th>\n",
       "      <td>6</td>\n",
       "      <td>2</td>\n",
       "      <td>2</td>\n",
       "      <td>4</td>\n",
       "    </tr>\n",
       "    <tr>\n",
       "      <th>3</th>\n",
       "      <td>14</td>\n",
       "      <td>4</td>\n",
       "      <td>8</td>\n",
       "      <td>10</td>\n",
       "    </tr>\n",
       "    <tr>\n",
       "      <th>4</th>\n",
       "      <td>14</td>\n",
       "      <td>18</td>\n",
       "      <td>6</td>\n",
       "      <td>4</td>\n",
       "    </tr>\n",
       "    <tr>\n",
       "      <th>5</th>\n",
       "      <td>6</td>\n",
       "      <td>16</td>\n",
       "      <td>8</td>\n",
       "      <td>16</td>\n",
       "    </tr>\n",
       "  </tbody>\n",
       "</table>\n",
       "</div>"
      ],
      "text/plain": [
       "    A   B   C   D\n",
       "0  16  10  14   8\n",
       "1   4  16  16  14\n",
       "2   6   2   2   4\n",
       "3  14   4   8  10\n",
       "4  14  18   6   4\n",
       "5   6  16   8  16"
      ]
     },
     "execution_count": 251,
     "metadata": {},
     "output_type": "execute_result"
    }
   ],
   "source": [
    "df.applymap(lambda x: x*2)"
   ]
  },
  {
   "cell_type": "code",
   "execution_count": 256,
   "metadata": {
    "collapsed": false
   },
   "outputs": [
    {
     "data": {
      "text/html": [
       "<div>\n",
       "<table border=\"1\" class=\"dataframe\">\n",
       "  <thead>\n",
       "    <tr style=\"text-align: right;\">\n",
       "      <th></th>\n",
       "      <th>A</th>\n",
       "      <th>B</th>\n",
       "      <th>C</th>\n",
       "      <th>D</th>\n",
       "    </tr>\n",
       "  </thead>\n",
       "  <tbody>\n",
       "    <tr>\n",
       "      <th>0</th>\n",
       "      <td>0</td>\n",
       "      <td>0</td>\n",
       "      <td>0</td>\n",
       "      <td>0</td>\n",
       "    </tr>\n",
       "    <tr>\n",
       "      <th>1</th>\n",
       "      <td>2</td>\n",
       "      <td>8</td>\n",
       "      <td>8</td>\n",
       "      <td>7</td>\n",
       "    </tr>\n",
       "    <tr>\n",
       "      <th>2</th>\n",
       "      <td>6</td>\n",
       "      <td>2</td>\n",
       "      <td>2</td>\n",
       "      <td>4</td>\n",
       "    </tr>\n",
       "    <tr>\n",
       "      <th>3</th>\n",
       "      <td>21</td>\n",
       "      <td>6</td>\n",
       "      <td>12</td>\n",
       "      <td>15</td>\n",
       "    </tr>\n",
       "    <tr>\n",
       "      <th>4</th>\n",
       "      <td>28</td>\n",
       "      <td>36</td>\n",
       "      <td>12</td>\n",
       "      <td>8</td>\n",
       "    </tr>\n",
       "    <tr>\n",
       "      <th>5</th>\n",
       "      <td>15</td>\n",
       "      <td>40</td>\n",
       "      <td>20</td>\n",
       "      <td>40</td>\n",
       "    </tr>\n",
       "  </tbody>\n",
       "</table>\n",
       "</div>"
      ],
      "text/plain": [
       "    A   B   C   D\n",
       "0   0   0   0   0\n",
       "1   2   8   8   7\n",
       "2   6   2   2   4\n",
       "3  21   6  12  15\n",
       "4  28  36  12   8\n",
       "5  15  40  20  40"
      ]
     },
     "execution_count": 256,
     "metadata": {},
     "output_type": "execute_result"
    }
   ],
   "source": [
    "df.apply(lambda x: x*np.arange(len(df)), axis=0)"
   ]
  },
  {
   "cell_type": "code",
   "execution_count": 260,
   "metadata": {
    "collapsed": false
   },
   "outputs": [
    {
     "data": {
      "text/html": [
       "<div>\n",
       "<table border=\"1\" class=\"dataframe\">\n",
       "  <thead>\n",
       "    <tr style=\"text-align: right;\">\n",
       "      <th></th>\n",
       "      <th>A</th>\n",
       "      <th>B</th>\n",
       "      <th>C</th>\n",
       "      <th>D</th>\n",
       "    </tr>\n",
       "  </thead>\n",
       "  <tbody>\n",
       "    <tr>\n",
       "      <th>0</th>\n",
       "      <td>0</td>\n",
       "      <td>5</td>\n",
       "      <td>14</td>\n",
       "      <td>12</td>\n",
       "    </tr>\n",
       "    <tr>\n",
       "      <th>1</th>\n",
       "      <td>0</td>\n",
       "      <td>8</td>\n",
       "      <td>16</td>\n",
       "      <td>21</td>\n",
       "    </tr>\n",
       "    <tr>\n",
       "      <th>2</th>\n",
       "      <td>0</td>\n",
       "      <td>1</td>\n",
       "      <td>2</td>\n",
       "      <td>6</td>\n",
       "    </tr>\n",
       "    <tr>\n",
       "      <th>3</th>\n",
       "      <td>0</td>\n",
       "      <td>2</td>\n",
       "      <td>8</td>\n",
       "      <td>15</td>\n",
       "    </tr>\n",
       "    <tr>\n",
       "      <th>4</th>\n",
       "      <td>0</td>\n",
       "      <td>9</td>\n",
       "      <td>6</td>\n",
       "      <td>6</td>\n",
       "    </tr>\n",
       "    <tr>\n",
       "      <th>5</th>\n",
       "      <td>0</td>\n",
       "      <td>8</td>\n",
       "      <td>8</td>\n",
       "      <td>24</td>\n",
       "    </tr>\n",
       "  </tbody>\n",
       "</table>\n",
       "</div>"
      ],
      "text/plain": [
       "   A  B   C   D\n",
       "0  0  5  14  12\n",
       "1  0  8  16  21\n",
       "2  0  1   2   6\n",
       "3  0  2   8  15\n",
       "4  0  9   6   6\n",
       "5  0  8   8  24"
      ]
     },
     "execution_count": 260,
     "metadata": {},
     "output_type": "execute_result"
    }
   ],
   "source": [
    "df.apply(lambda x: x*np.arange(4), axis=1)"
   ]
  },
  {
   "cell_type": "code",
   "execution_count": 261,
   "metadata": {
    "collapsed": false
   },
   "outputs": [
    {
     "data": {
      "text/plain": [
       "Int64Index([0, 1, 2, 3, 4, 5], dtype='int64')"
      ]
     },
     "execution_count": 261,
     "metadata": {},
     "output_type": "execute_result"
    }
   ],
   "source": [
    "df.index"
   ]
  },
  {
   "cell_type": "code",
   "execution_count": 382,
   "metadata": {
    "collapsed": false
   },
   "outputs": [
    {
     "data": {
      "text/html": [
       "<div>\n",
       "<table border=\"1\" class=\"dataframe\">\n",
       "  <thead>\n",
       "    <tr style=\"text-align: right;\">\n",
       "      <th></th>\n",
       "      <th>A</th>\n",
       "    </tr>\n",
       "  </thead>\n",
       "  <tbody>\n",
       "    <tr>\n",
       "      <th>0</th>\n",
       "      <td>0</td>\n",
       "    </tr>\n",
       "    <tr>\n",
       "      <th>1</th>\n",
       "      <td>1</td>\n",
       "    </tr>\n",
       "    <tr>\n",
       "      <th>2</th>\n",
       "      <td>0</td>\n",
       "    </tr>\n",
       "    <tr>\n",
       "      <th>3</th>\n",
       "      <td>1</td>\n",
       "    </tr>\n",
       "  </tbody>\n",
       "</table>\n",
       "</div>"
      ],
      "text/plain": [
       "   A\n",
       "0  0\n",
       "1  1\n",
       "2  0\n",
       "3  1"
      ]
     },
     "execution_count": 382,
     "metadata": {},
     "output_type": "execute_result"
    }
   ],
   "source": [
    "dft = pd.DataFrame(np.array(range(2)*2),columns = ['A'])\n",
    "dft"
   ]
  },
  {
   "cell_type": "code",
   "execution_count": 267,
   "metadata": {
    "collapsed": false
   },
   "outputs": [
    {
     "data": {
      "text/plain": [
       "RangeIndex(start=0, stop=6, step=1)"
      ]
     },
     "execution_count": 267,
     "metadata": {},
     "output_type": "execute_result"
    }
   ],
   "source": [
    "dft.index"
   ]
  },
  {
   "cell_type": "markdown",
   "metadata": {},
   "source": [
    "## sorted() can take list, array, series, and data frame\n",
    "* series, dataframe : use unique\n",
    "* list, array : use set()\n",
    "* To sort: use sorted for everything"
   ]
  },
  {
   "cell_type": "code",
   "execution_count": 311,
   "metadata": {
    "collapsed": false
   },
   "outputs": [
    {
     "name": "stdout",
     "output_type": "stream",
     "text": [
      "4\n",
      "4\n"
     ]
    }
   ],
   "source": [
    "print sorted(list(dft[0].unique()))[-2]\n",
    "print sorted(dft[0].unique())[-2] "
   ]
  },
  {
   "cell_type": "code",
   "execution_count": 601,
   "metadata": {
    "collapsed": false
   },
   "outputs": [
    {
     "data": {
      "text/plain": [
       "0"
      ]
     },
     "execution_count": 601,
     "metadata": {},
     "output_type": "execute_result"
    }
   ],
   "source": [
    "sorted(set(dft['A']))[-2]"
   ]
  },
  {
   "cell_type": "code",
   "execution_count": 344,
   "metadata": {
    "collapsed": false
   },
   "outputs": [
    {
     "name": "stdout",
     "output_type": "stream",
     "text": [
      "<class 'pandas.core.series.Series'>\n",
      "1\n",
      "4\n"
     ]
    }
   ],
   "source": [
    "print type(dft[0].value_counts())\n",
    "print dft[0].value_counts().unique()[-1]\n",
    "print sorted(dft[0].values)[-2]"
   ]
  },
  {
   "cell_type": "code",
   "execution_count": 318,
   "metadata": {
    "collapsed": false
   },
   "outputs": [
    {
     "data": {
      "text/plain": [
       "0"
      ]
     },
     "execution_count": 318,
     "metadata": {},
     "output_type": "execute_result"
    }
   ],
   "source": [
    "dft[0].argmin()"
   ]
  },
  {
   "cell_type": "code",
   "execution_count": 353,
   "metadata": {
    "collapsed": false
   },
   "outputs": [
    {
     "name": "stdout",
     "output_type": "stream",
     "text": [
      "4\n"
     ]
    }
   ],
   "source": [
    "print dft[0].unique()[-2]"
   ]
  },
  {
   "cell_type": "code",
   "execution_count": 341,
   "metadata": {
    "collapsed": false
   },
   "outputs": [
    {
     "name": "stdout",
     "output_type": "stream",
     "text": [
      "<class 'pandas.core.series.Series'>\n"
     ]
    }
   ],
   "source": [
    "print type(dft[0])"
   ]
  },
  {
   "cell_type": "code",
   "execution_count": 350,
   "metadata": {
    "collapsed": false
   },
   "outputs": [
    {
     "name": "stdout",
     "output_type": "stream",
     "text": [
      "['A', 'B', 'C', 'D', 'E']\n"
     ]
    }
   ],
   "source": [
    "print sorted(df)"
   ]
  },
  {
   "cell_type": "code",
   "execution_count": 358,
   "metadata": {
    "collapsed": false
   },
   "outputs": [
    {
     "data": {
      "text/plain": [
       "array([0, 1, 2, 3, 4, 5])"
      ]
     },
     "execution_count": 358,
     "metadata": {},
     "output_type": "execute_result"
    }
   ],
   "source": [
    "pd.Series(np.arange(6)).unique()"
   ]
  },
  {
   "cell_type": "code",
   "execution_count": 360,
   "metadata": {
    "collapsed": false
   },
   "outputs": [
    {
     "data": {
      "text/plain": [
       "[0, 1, 2, 3, 4, 5]"
      ]
     },
     "execution_count": 360,
     "metadata": {},
     "output_type": "execute_result"
    }
   ],
   "source": [
    "sorted(set(np.arange(6)))"
   ]
  },
  {
   "cell_type": "code",
   "execution_count": 364,
   "metadata": {
    "collapsed": false
   },
   "outputs": [
    {
     "name": "stdout",
     "output_type": "stream",
     "text": [
      "<class 'pandas.core.series.Series'>\n",
      "<class 'pandas.core.frame.DataFrame'>\n",
      "<type 'numpy.ndarray'>\n"
     ]
    }
   ],
   "source": [
    "print type(df.A)\n",
    "print type(df)\n",
    "print type(np.arange(6))\n",
    "df[]"
   ]
  },
  {
   "cell_type": "markdown",
   "metadata": {},
   "source": [
    "## Array and series are kind of the same"
   ]
  },
  {
   "cell_type": "code",
   "execution_count": 369,
   "metadata": {
    "collapsed": false
   },
   "outputs": [],
   "source": [
    "df['E'] = np.arange(10,16)"
   ]
  },
  {
   "cell_type": "code",
   "execution_count": 370,
   "metadata": {
    "collapsed": false
   },
   "outputs": [
    {
     "name": "stdout",
     "output_type": "stream",
     "text": [
      "<class 'pandas.core.series.Series'>\n"
     ]
    }
   ],
   "source": [
    "print type(df.E)"
   ]
  },
  {
   "cell_type": "code",
   "execution_count": 375,
   "metadata": {
    "collapsed": false
   },
   "outputs": [
    {
     "name": "stdout",
     "output_type": "stream",
     "text": [
      "    0\n",
      "0  20\n",
      "1  21\n",
      "2  22\n",
      "3  23\n",
      "4  24\n",
      "5  25\n",
      "<class 'pandas.core.frame.DataFrame'>\n"
     ]
    }
   ],
   "source": [
    "print pd.DataFrame(np.arange(20,26))\n",
    "print type(pd.DataFrame(np.arange(20,26)))"
   ]
  },
  {
   "cell_type": "code",
   "execution_count": 378,
   "metadata": {
    "collapsed": false
   },
   "outputs": [
    {
     "name": "stdout",
     "output_type": "stream",
     "text": [
      "    A\n",
      "0  10\n",
      "1  11\n",
      "2  12\n",
      "3  13\n",
      "4  14\n",
      "5  15\n",
      "<class 'pandas.core.frame.DataFrame'>\n"
     ]
    }
   ],
   "source": [
    "print pd.DataFrame(pd.Series(np.arange(10,16)),columns=['A'])\n",
    "print type(pd.DataFrame(np.arange(20,26)))"
   ]
  },
  {
   "cell_type": "code",
   "execution_count": 387,
   "metadata": {
    "collapsed": false
   },
   "outputs": [
    {
     "name": "stdout",
     "output_type": "stream",
     "text": [
      "   A  B  C  D   E\n",
      "0  8  5  7  4  10\n",
      "1  8  8  8  7  11\n",
      "2  8  8  8  7  12\n",
      "3  8  8  8  7  13\n",
      "4  8  9  8  7  14\n",
      "5  8  9  8  8  15\n"
     ]
    }
   ],
   "source": [
    "print df.cummax()"
   ]
  },
  {
   "cell_type": "code",
   "execution_count": 388,
   "metadata": {
    "collapsed": false
   },
   "outputs": [
    {
     "name": "stdout",
     "output_type": "stream",
     "text": [
      "   A  B  C  D   E\n",
      "0  8  5  7  4  10\n",
      "1  2  5  7  4  10\n",
      "2  2  1  1  2  10\n",
      "3  2  1  1  2  10\n",
      "4  2  1  1  2  10\n",
      "5  2  1  1  2  10\n"
     ]
    }
   ],
   "source": [
    "print df.cummin()"
   ]
  },
  {
   "cell_type": "code",
   "execution_count": 393,
   "metadata": {
    "collapsed": false
   },
   "outputs": [
    {
     "name": "stdout",
     "output_type": "stream",
     "text": [
      "A     5.0\n",
      "B     6.5\n",
      "C     4.0\n",
      "D     4.5\n",
      "E    12.5\n",
      "Name: 0.5, dtype: float64\n"
     ]
    }
   ],
   "source": [
    "print df.quantile()"
   ]
  },
  {
   "cell_type": "code",
   "execution_count": 394,
   "metadata": {
    "collapsed": false
   },
   "outputs": [
    {
     "name": "stdout",
     "output_type": "stream",
     "text": [
      "A     5.000000\n",
      "B     5.500000\n",
      "C     4.500000\n",
      "D     4.666667\n",
      "E    12.500000\n",
      "dtype: float64\n"
     ]
    }
   ],
   "source": [
    "print df.mean()"
   ]
  },
  {
   "cell_type": "code",
   "execution_count": 423,
   "metadata": {
    "collapsed": false
   },
   "outputs": [
    {
     "data": {
      "text/plain": [
       "1"
      ]
     },
     "execution_count": 423,
     "metadata": {},
     "output_type": "execute_result"
    }
   ],
   "source": [
    "df['A'].idxmin()"
   ]
  },
  {
   "cell_type": "code",
   "execution_count": 426,
   "metadata": {
    "collapsed": false
   },
   "outputs": [
    {
     "data": {
      "text/plain": [
       "A    1\n",
       "B    2\n",
       "C    2\n",
       "D    2\n",
       "E    0\n",
       "dtype: int64"
      ]
     },
     "execution_count": 426,
     "metadata": {},
     "output_type": "execute_result"
    }
   ],
   "source": [
    "df.idxmin()"
   ]
  },
  {
   "cell_type": "code",
   "execution_count": 432,
   "metadata": {
    "collapsed": false
   },
   "outputs": [
    {
     "data": {
      "text/plain": [
       "2"
      ]
     },
     "execution_count": 432,
     "metadata": {},
     "output_type": "execute_result"
    }
   ],
   "source": [
    "df['B'].argmin() #does not work as df.argmin()"
   ]
  },
  {
   "cell_type": "code",
   "execution_count": 433,
   "metadata": {
    "collapsed": false
   },
   "outputs": [
    {
     "data": {
      "text/plain": [
       "A     2\n",
       "B     1\n",
       "C     1\n",
       "D     2\n",
       "E    10\n",
       "dtype: int64"
      ]
     },
     "execution_count": 433,
     "metadata": {},
     "output_type": "execute_result"
    }
   ],
   "source": [
    "df.min()"
   ]
  },
  {
   "cell_type": "code",
   "execution_count": 386,
   "metadata": {
    "collapsed": false
   },
   "outputs": [
    {
     "data": {
      "text/html": [
       "<div>\n",
       "<table border=\"1\" class=\"dataframe\">\n",
       "  <thead>\n",
       "    <tr style=\"text-align: right;\">\n",
       "      <th></th>\n",
       "      <th>A</th>\n",
       "      <th>B</th>\n",
       "      <th>C</th>\n",
       "      <th>D</th>\n",
       "      <th>E</th>\n",
       "    </tr>\n",
       "  </thead>\n",
       "  <tbody>\n",
       "    <tr>\n",
       "      <th>0</th>\n",
       "      <td>8</td>\n",
       "      <td>5</td>\n",
       "      <td>7</td>\n",
       "      <td>4</td>\n",
       "      <td>10</td>\n",
       "    </tr>\n",
       "    <tr>\n",
       "      <th>1</th>\n",
       "      <td>2</td>\n",
       "      <td>8</td>\n",
       "      <td>8</td>\n",
       "      <td>7</td>\n",
       "      <td>11</td>\n",
       "    </tr>\n",
       "    <tr>\n",
       "      <th>2</th>\n",
       "      <td>3</td>\n",
       "      <td>1</td>\n",
       "      <td>1</td>\n",
       "      <td>2</td>\n",
       "      <td>12</td>\n",
       "    </tr>\n",
       "    <tr>\n",
       "      <th>3</th>\n",
       "      <td>7</td>\n",
       "      <td>2</td>\n",
       "      <td>4</td>\n",
       "      <td>5</td>\n",
       "      <td>13</td>\n",
       "    </tr>\n",
       "    <tr>\n",
       "      <th>4</th>\n",
       "      <td>7</td>\n",
       "      <td>9</td>\n",
       "      <td>3</td>\n",
       "      <td>2</td>\n",
       "      <td>14</td>\n",
       "    </tr>\n",
       "    <tr>\n",
       "      <th>5</th>\n",
       "      <td>3</td>\n",
       "      <td>8</td>\n",
       "      <td>4</td>\n",
       "      <td>8</td>\n",
       "      <td>15</td>\n",
       "    </tr>\n",
       "  </tbody>\n",
       "</table>\n",
       "</div>"
      ],
      "text/plain": [
       "   A  B  C  D   E\n",
       "0  8  5  7  4  10\n",
       "1  2  8  8  7  11\n",
       "2  3  1  1  2  12\n",
       "3  7  2  4  5  13\n",
       "4  7  9  3  2  14\n",
       "5  3  8  4  8  15"
      ]
     },
     "execution_count": 386,
     "metadata": {},
     "output_type": "execute_result"
    }
   ],
   "source": [
    "df"
   ]
  },
  {
   "cell_type": "markdown",
   "metadata": {},
   "source": [
    "## numpy.random.randn(d0, d1, ..., dn)\n",
    "Return a sample (or samples) from the **“standard normal” distribution**.\n",
    "\n",
    "If positive, int_like or int-convertible arguments are provided, randn generates an array of shape (d0, d1, ..., dn), filled with random floats sampled from a univariate “normal” (Gaussian) distribution of mean 0 and variance 1 (if any of the d_i are floats, they are first converted to integers by truncation). A single float randomly sampled from the distribution is returned if no argument is provided."
   ]
  },
  {
   "cell_type": "code",
   "execution_count": 403,
   "metadata": {
    "collapsed": false
   },
   "outputs": [
    {
     "data": {
      "text/plain": [
       "array([[ 0.09475166,  1.18566259, -1.31299124,  0.70130547],\n",
       "       [-1.1276469 , -0.2464203 ,  0.22910319,  0.21277774],\n",
       "       [-0.8218435 , -1.36876374, -0.45970197, -0.38387409],\n",
       "       [ 0.54548521, -1.20864588,  1.75275103,  1.49471324],\n",
       "       [-0.97690874,  0.63783919, -0.26599682, -0.97448109],\n",
       "       [-1.69182638, -1.32832838, -0.64451457, -2.20251777]])"
      ]
     },
     "execution_count": 403,
     "metadata": {},
     "output_type": "execute_result"
    }
   ],
   "source": [
    "np.random.randn(6,4)"
   ]
  },
  {
   "cell_type": "markdown",
   "metadata": {},
   "source": [
    "## numpy.random.randint(low, high=None, size=None, dtype='l')\n",
    "Return random integers from low (inclusive) to high (exclusive)."
   ]
  },
  {
   "cell_type": "code",
   "execution_count": 405,
   "metadata": {
    "collapsed": false
   },
   "outputs": [
    {
     "data": {
      "text/plain": [
       "array([[4, 9, 5, 6],\n",
       "       [5, 3, 4, 3],\n",
       "       [6, 1, 1, 4],\n",
       "       [9, 6, 5, 2],\n",
       "       [6, 3, 6, 3],\n",
       "       [4, 7, 9, 4]])"
      ]
     },
     "execution_count": 405,
     "metadata": {},
     "output_type": "execute_result"
    }
   ],
   "source": [
    "np.random.randint(1,10,[6,4])"
   ]
  },
  {
   "cell_type": "markdown",
   "metadata": {},
   "source": [
    "## numpy.random.rand(d0, d1, ..., dn)\n",
    "Random values in a given shape.\n",
    "\n",
    "Create an array of the given shape and populate it with random samples from a uniform distribution over [0, 1)."
   ]
  },
  {
   "cell_type": "code",
   "execution_count": 412,
   "metadata": {
    "collapsed": false
   },
   "outputs": [
    {
     "data": {
      "text/plain": [
       "array([[ 0.00718154,  0.24415433],\n",
       "       [ 0.70456574,  0.3766605 ]])"
      ]
     },
     "execution_count": 412,
     "metadata": {},
     "output_type": "execute_result"
    }
   ],
   "source": [
    "np.random.rand(2,2)"
   ]
  },
  {
   "cell_type": "markdown",
   "metadata": {},
   "source": [
    "## String Methods"
   ]
  },
  {
   "cell_type": "code",
   "execution_count": 453,
   "metadata": {
    "collapsed": true
   },
   "outputs": [],
   "source": [
    "s = pd.Series(['A', 'B', 'C', 'Aaba', 'Baca', 'CABA', 'dog', 'cat'])"
   ]
  },
  {
   "cell_type": "code",
   "execution_count": 460,
   "metadata": {
    "collapsed": false
   },
   "outputs": [
    {
     "data": {
      "text/plain": [
       "['A', 'B', 'C', 'Aaba', 'Baca', 'Caba', 'Dog', 'Cat']"
      ]
     },
     "execution_count": 460,
     "metadata": {},
     "output_type": "execute_result"
    }
   ],
   "source": [
    "map(lambda x: x.capitalize(), s) #does not work for int and NaN."
   ]
  },
  {
   "cell_type": "code",
   "execution_count": 459,
   "metadata": {
    "collapsed": false
   },
   "outputs": [
    {
     "data": {
      "text/plain": [
       "0       a\n",
       "1       b\n",
       "2       c\n",
       "3    aaba\n",
       "4    baca\n",
       "5    caba\n",
       "6     dog\n",
       "7     cat\n",
       "dtype: object"
      ]
     },
     "execution_count": 459,
     "metadata": {},
     "output_type": "execute_result"
    }
   ],
   "source": [
    "s.str.lower()"
   ]
  },
  {
   "cell_type": "markdown",
   "metadata": {},
   "source": [
    "## Merge"
   ]
  },
  {
   "cell_type": "code",
   "execution_count": 461,
   "metadata": {
    "collapsed": true
   },
   "outputs": [],
   "source": [
    "df = pd.DataFrame(np.random.randn(10, 4))"
   ]
  },
  {
   "cell_type": "code",
   "execution_count": 471,
   "metadata": {
    "collapsed": false
   },
   "outputs": [
    {
     "data": {
      "text/html": [
       "<div>\n",
       "<table border=\"1\" class=\"dataframe\">\n",
       "  <thead>\n",
       "    <tr style=\"text-align: right;\">\n",
       "      <th></th>\n",
       "      <th>0</th>\n",
       "      <th>1</th>\n",
       "      <th>2</th>\n",
       "      <th>3</th>\n",
       "    </tr>\n",
       "  </thead>\n",
       "  <tbody>\n",
       "    <tr>\n",
       "      <th>0</th>\n",
       "      <td>0.886093</td>\n",
       "      <td>0.584678</td>\n",
       "      <td>0.065250</td>\n",
       "      <td>-0.089348</td>\n",
       "    </tr>\n",
       "    <tr>\n",
       "      <th>1</th>\n",
       "      <td>-0.746099</td>\n",
       "      <td>-0.130000</td>\n",
       "      <td>0.054592</td>\n",
       "      <td>-0.461797</td>\n",
       "    </tr>\n",
       "    <tr>\n",
       "      <th>2</th>\n",
       "      <td>-0.535655</td>\n",
       "      <td>1.196404</td>\n",
       "      <td>2.788567</td>\n",
       "      <td>-0.302920</td>\n",
       "    </tr>\n",
       "  </tbody>\n",
       "</table>\n",
       "</div>"
      ],
      "text/plain": [
       "          0         1         2         3\n",
       "0  0.886093  0.584678  0.065250 -0.089348\n",
       "1 -0.746099 -0.130000  0.054592 -0.461797\n",
       "2 -0.535655  1.196404  2.788567 -0.302920"
      ]
     },
     "execution_count": 471,
     "metadata": {},
     "output_type": "execute_result"
    }
   ],
   "source": [
    "df.iloc[:3,:]"
   ]
  },
  {
   "cell_type": "code",
   "execution_count": 475,
   "metadata": {
    "collapsed": false
   },
   "outputs": [
    {
     "data": {
      "text/html": [
       "<div>\n",
       "<table border=\"1\" class=\"dataframe\">\n",
       "  <thead>\n",
       "    <tr style=\"text-align: right;\">\n",
       "      <th></th>\n",
       "      <th>0</th>\n",
       "      <th>1</th>\n",
       "      <th>2</th>\n",
       "      <th>3</th>\n",
       "    </tr>\n",
       "  </thead>\n",
       "  <tbody>\n",
       "    <tr>\n",
       "      <th>0</th>\n",
       "      <td>0.886093</td>\n",
       "      <td>0.584678</td>\n",
       "      <td>0.065250</td>\n",
       "      <td>-0.089348</td>\n",
       "    </tr>\n",
       "    <tr>\n",
       "      <th>1</th>\n",
       "      <td>-0.746099</td>\n",
       "      <td>-0.130000</td>\n",
       "      <td>0.054592</td>\n",
       "      <td>-0.461797</td>\n",
       "    </tr>\n",
       "    <tr>\n",
       "      <th>2</th>\n",
       "      <td>-0.535655</td>\n",
       "      <td>1.196404</td>\n",
       "      <td>2.788567</td>\n",
       "      <td>-0.302920</td>\n",
       "    </tr>\n",
       "  </tbody>\n",
       "</table>\n",
       "</div>"
      ],
      "text/plain": [
       "          0         1         2         3\n",
       "0  0.886093  0.584678  0.065250 -0.089348\n",
       "1 -0.746099 -0.130000  0.054592 -0.461797\n",
       "2 -0.535655  1.196404  2.788567 -0.302920"
      ]
     },
     "execution_count": 475,
     "metadata": {},
     "output_type": "execute_result"
    }
   ],
   "source": [
    "df[:3]"
   ]
  },
  {
   "cell_type": "code",
   "execution_count": 476,
   "metadata": {
    "collapsed": false
   },
   "outputs": [
    {
     "data": {
      "text/html": [
       "<div>\n",
       "<table border=\"1\" class=\"dataframe\">\n",
       "  <thead>\n",
       "    <tr style=\"text-align: right;\">\n",
       "      <th></th>\n",
       "      <th>0</th>\n",
       "      <th>1</th>\n",
       "      <th>2</th>\n",
       "      <th>3</th>\n",
       "    </tr>\n",
       "  </thead>\n",
       "  <tbody>\n",
       "    <tr>\n",
       "      <th>0</th>\n",
       "      <td>0.886093</td>\n",
       "      <td>0.584678</td>\n",
       "      <td>0.065250</td>\n",
       "      <td>-0.089348</td>\n",
       "    </tr>\n",
       "    <tr>\n",
       "      <th>1</th>\n",
       "      <td>-0.746099</td>\n",
       "      <td>-0.130000</td>\n",
       "      <td>0.054592</td>\n",
       "      <td>-0.461797</td>\n",
       "    </tr>\n",
       "    <tr>\n",
       "      <th>2</th>\n",
       "      <td>-0.535655</td>\n",
       "      <td>1.196404</td>\n",
       "      <td>2.788567</td>\n",
       "      <td>-0.302920</td>\n",
       "    </tr>\n",
       "    <tr>\n",
       "      <th>3</th>\n",
       "      <td>0.366127</td>\n",
       "      <td>-0.850146</td>\n",
       "      <td>0.839970</td>\n",
       "      <td>-1.115038</td>\n",
       "    </tr>\n",
       "  </tbody>\n",
       "</table>\n",
       "</div>"
      ],
      "text/plain": [
       "          0         1         2         3\n",
       "0  0.886093  0.584678  0.065250 -0.089348\n",
       "1 -0.746099 -0.130000  0.054592 -0.461797\n",
       "2 -0.535655  1.196404  2.788567 -0.302920\n",
       "3  0.366127 -0.850146  0.839970 -1.115038"
      ]
     },
     "execution_count": 476,
     "metadata": {},
     "output_type": "execute_result"
    }
   ],
   "source": [
    "df.loc[0:3, 0:3]"
   ]
  },
  {
   "cell_type": "code",
   "execution_count": 478,
   "metadata": {
    "collapsed": false
   },
   "outputs": [
    {
     "data": {
      "text/plain": [
       "[          0         1         2         3\n",
       " 0  0.886093  0.584678  0.065250 -0.089348\n",
       " 1 -0.746099 -0.130000  0.054592 -0.461797\n",
       " 2 -0.535655  1.196404  2.788567 -0.302920,\n",
       "           0         1         2         3\n",
       " 3  0.366127 -0.850146  0.839970 -1.115038\n",
       " 4 -0.383056 -0.962098 -0.783883  0.977103\n",
       " 5  0.145628  0.035261 -1.253031 -0.142557\n",
       " 6 -1.354708  0.537038 -0.206253  0.420982,\n",
       "           0         1         2         3\n",
       " 7 -0.988033 -1.112512  1.941276  1.719464\n",
       " 8 -0.567940  2.409830  1.453010  0.802476\n",
       " 9  0.842638 -0.662737 -1.958810 -0.609998]"
      ]
     },
     "execution_count": 478,
     "metadata": {},
     "output_type": "execute_result"
    }
   ],
   "source": [
    "pieces = [df[:3], df[3:7],df[7:]]\n",
    "pieces"
   ]
  },
  {
   "cell_type": "code",
   "execution_count": 479,
   "metadata": {
    "collapsed": true
   },
   "outputs": [],
   "source": [
    "df_merge = pd.concat(pieces)"
   ]
  },
  {
   "cell_type": "code",
   "execution_count": 480,
   "metadata": {
    "collapsed": false
   },
   "outputs": [
    {
     "data": {
      "text/html": [
       "<div>\n",
       "<table border=\"1\" class=\"dataframe\">\n",
       "  <thead>\n",
       "    <tr style=\"text-align: right;\">\n",
       "      <th></th>\n",
       "      <th>0</th>\n",
       "      <th>1</th>\n",
       "      <th>2</th>\n",
       "      <th>3</th>\n",
       "    </tr>\n",
       "  </thead>\n",
       "  <tbody>\n",
       "    <tr>\n",
       "      <th>0</th>\n",
       "      <td>0.886093</td>\n",
       "      <td>0.584678</td>\n",
       "      <td>0.065250</td>\n",
       "      <td>-0.089348</td>\n",
       "    </tr>\n",
       "    <tr>\n",
       "      <th>1</th>\n",
       "      <td>-0.746099</td>\n",
       "      <td>-0.130000</td>\n",
       "      <td>0.054592</td>\n",
       "      <td>-0.461797</td>\n",
       "    </tr>\n",
       "    <tr>\n",
       "      <th>2</th>\n",
       "      <td>-0.535655</td>\n",
       "      <td>1.196404</td>\n",
       "      <td>2.788567</td>\n",
       "      <td>-0.302920</td>\n",
       "    </tr>\n",
       "    <tr>\n",
       "      <th>3</th>\n",
       "      <td>0.366127</td>\n",
       "      <td>-0.850146</td>\n",
       "      <td>0.839970</td>\n",
       "      <td>-1.115038</td>\n",
       "    </tr>\n",
       "    <tr>\n",
       "      <th>4</th>\n",
       "      <td>-0.383056</td>\n",
       "      <td>-0.962098</td>\n",
       "      <td>-0.783883</td>\n",
       "      <td>0.977103</td>\n",
       "    </tr>\n",
       "    <tr>\n",
       "      <th>5</th>\n",
       "      <td>0.145628</td>\n",
       "      <td>0.035261</td>\n",
       "      <td>-1.253031</td>\n",
       "      <td>-0.142557</td>\n",
       "    </tr>\n",
       "    <tr>\n",
       "      <th>6</th>\n",
       "      <td>-1.354708</td>\n",
       "      <td>0.537038</td>\n",
       "      <td>-0.206253</td>\n",
       "      <td>0.420982</td>\n",
       "    </tr>\n",
       "    <tr>\n",
       "      <th>7</th>\n",
       "      <td>-0.988033</td>\n",
       "      <td>-1.112512</td>\n",
       "      <td>1.941276</td>\n",
       "      <td>1.719464</td>\n",
       "    </tr>\n",
       "    <tr>\n",
       "      <th>8</th>\n",
       "      <td>-0.567940</td>\n",
       "      <td>2.409830</td>\n",
       "      <td>1.453010</td>\n",
       "      <td>0.802476</td>\n",
       "    </tr>\n",
       "    <tr>\n",
       "      <th>9</th>\n",
       "      <td>0.842638</td>\n",
       "      <td>-0.662737</td>\n",
       "      <td>-1.958810</td>\n",
       "      <td>-0.609998</td>\n",
       "    </tr>\n",
       "  </tbody>\n",
       "</table>\n",
       "</div>"
      ],
      "text/plain": [
       "          0         1         2         3\n",
       "0  0.886093  0.584678  0.065250 -0.089348\n",
       "1 -0.746099 -0.130000  0.054592 -0.461797\n",
       "2 -0.535655  1.196404  2.788567 -0.302920\n",
       "3  0.366127 -0.850146  0.839970 -1.115038\n",
       "4 -0.383056 -0.962098 -0.783883  0.977103\n",
       "5  0.145628  0.035261 -1.253031 -0.142557\n",
       "6 -1.354708  0.537038 -0.206253  0.420982\n",
       "7 -0.988033 -1.112512  1.941276  1.719464\n",
       "8 -0.567940  2.409830  1.453010  0.802476\n",
       "9  0.842638 -0.662737 -1.958810 -0.609998"
      ]
     },
     "execution_count": 480,
     "metadata": {},
     "output_type": "execute_result"
    }
   ],
   "source": [
    "df_merge"
   ]
  },
  {
   "cell_type": "markdown",
   "metadata": {},
   "source": [
    "## Join\n",
    "SQL style merges. See the Database style joining\n",
    "http://pandas.pydata.org/pandas-docs/stable/merging.html#merging-join"
   ]
  },
  {
   "cell_type": "code",
   "execution_count": 493,
   "metadata": {
    "collapsed": false
   },
   "outputs": [],
   "source": [
    "left = pd.DataFrame({'key':['foo'\n",
    "                            ,'foo'], 'lval':[1,2]})\n",
    "right = pd.DataFrame({'key':['foo','foo'], 'rval': [4,5]})"
   ]
  },
  {
   "cell_type": "code",
   "execution_count": 494,
   "metadata": {
    "collapsed": false
   },
   "outputs": [
    {
     "data": {
      "text/html": [
       "<div>\n",
       "<table border=\"1\" class=\"dataframe\">\n",
       "  <thead>\n",
       "    <tr style=\"text-align: right;\">\n",
       "      <th></th>\n",
       "      <th>key</th>\n",
       "      <th>rval</th>\n",
       "    </tr>\n",
       "  </thead>\n",
       "  <tbody>\n",
       "    <tr>\n",
       "      <th>0</th>\n",
       "      <td>foo</td>\n",
       "      <td>4</td>\n",
       "    </tr>\n",
       "    <tr>\n",
       "      <th>1</th>\n",
       "      <td>foo</td>\n",
       "      <td>5</td>\n",
       "    </tr>\n",
       "  </tbody>\n",
       "</table>\n",
       "</div>"
      ],
      "text/plain": [
       "   key  rval\n",
       "0  foo     4\n",
       "1  foo     5"
      ]
     },
     "execution_count": 494,
     "metadata": {},
     "output_type": "execute_result"
    }
   ],
   "source": [
    "right"
   ]
  },
  {
   "cell_type": "code",
   "execution_count": 490,
   "metadata": {
    "collapsed": false
   },
   "outputs": [
    {
     "data": {
      "text/html": [
       "<div>\n",
       "<table border=\"1\" class=\"dataframe\">\n",
       "  <thead>\n",
       "    <tr style=\"text-align: right;\">\n",
       "      <th></th>\n",
       "      <th>key</th>\n",
       "      <th>lval</th>\n",
       "      <th>rval</th>\n",
       "    </tr>\n",
       "  </thead>\n",
       "  <tbody>\n",
       "    <tr>\n",
       "      <th>0</th>\n",
       "      <td>foo</td>\n",
       "      <td>1</td>\n",
       "      <td>4</td>\n",
       "    </tr>\n",
       "    <tr>\n",
       "      <th>1</th>\n",
       "      <td>foo</td>\n",
       "      <td>1</td>\n",
       "      <td>5</td>\n",
       "    </tr>\n",
       "    <tr>\n",
       "      <th>2</th>\n",
       "      <td>foo</td>\n",
       "      <td>2</td>\n",
       "      <td>4</td>\n",
       "    </tr>\n",
       "    <tr>\n",
       "      <th>3</th>\n",
       "      <td>foo</td>\n",
       "      <td>2</td>\n",
       "      <td>5</td>\n",
       "    </tr>\n",
       "  </tbody>\n",
       "</table>\n",
       "</div>"
      ],
      "text/plain": [
       "   key  lval  rval\n",
       "0  foo     1     4\n",
       "1  foo     1     5\n",
       "2  foo     2     4\n",
       "3  foo     2     5"
      ]
     },
     "execution_count": 490,
     "metadata": {},
     "output_type": "execute_result"
    }
   ],
   "source": [
    "pd.merge(left,right)"
   ]
  },
  {
   "cell_type": "code",
   "execution_count": 489,
   "metadata": {
    "collapsed": false
   },
   "outputs": [
    {
     "data": {
      "text/html": [
       "<div>\n",
       "<table border=\"1\" class=\"dataframe\">\n",
       "  <thead>\n",
       "    <tr style=\"text-align: right;\">\n",
       "      <th></th>\n",
       "      <th>key</th>\n",
       "      <th>lval</th>\n",
       "      <th>rval</th>\n",
       "    </tr>\n",
       "  </thead>\n",
       "  <tbody>\n",
       "    <tr>\n",
       "      <th>0</th>\n",
       "      <td>foo</td>\n",
       "      <td>1</td>\n",
       "      <td>4</td>\n",
       "    </tr>\n",
       "    <tr>\n",
       "      <th>1</th>\n",
       "      <td>foo</td>\n",
       "      <td>1</td>\n",
       "      <td>5</td>\n",
       "    </tr>\n",
       "    <tr>\n",
       "      <th>2</th>\n",
       "      <td>foo</td>\n",
       "      <td>2</td>\n",
       "      <td>4</td>\n",
       "    </tr>\n",
       "    <tr>\n",
       "      <th>3</th>\n",
       "      <td>foo</td>\n",
       "      <td>2</td>\n",
       "      <td>5</td>\n",
       "    </tr>\n",
       "  </tbody>\n",
       "</table>\n",
       "</div>"
      ],
      "text/plain": [
       "   key  lval  rval\n",
       "0  foo     1     4\n",
       "1  foo     1     5\n",
       "2  foo     2     4\n",
       "3  foo     2     5"
      ]
     },
     "execution_count": 489,
     "metadata": {},
     "output_type": "execute_result"
    }
   ],
   "source": [
    "pd.merge(left,right, on='key')"
   ]
  },
  {
   "cell_type": "code",
   "execution_count": 492,
   "metadata": {
    "collapsed": false
   },
   "outputs": [
    {
     "data": {
      "text/html": [
       "<div>\n",
       "<table border=\"1\" class=\"dataframe\">\n",
       "  <thead>\n",
       "    <tr style=\"text-align: right;\">\n",
       "      <th></th>\n",
       "      <th>key</th>\n",
       "      <th>lval</th>\n",
       "      <th>rval</th>\n",
       "    </tr>\n",
       "  </thead>\n",
       "  <tbody>\n",
       "    <tr>\n",
       "      <th>0</th>\n",
       "      <td>foo</td>\n",
       "      <td>1</td>\n",
       "      <td>4</td>\n",
       "    </tr>\n",
       "    <tr>\n",
       "      <th>1</th>\n",
       "      <td>bar</td>\n",
       "      <td>2</td>\n",
       "      <td>5</td>\n",
       "    </tr>\n",
       "  </tbody>\n",
       "</table>\n",
       "</div>"
      ],
      "text/plain": [
       "   key  lval  rval\n",
       "0  foo     1     4\n",
       "1  bar     2     5"
      ]
     },
     "execution_count": 492,
     "metadata": {},
     "output_type": "execute_result"
    }
   ],
   "source": [
    "left = pd.DataFrame({'key':['foo','bar'], 'lval':[1,2]})\n",
    "right = pd.DataFrame({'key':['foo','bar'], 'rval': [4,5]})\n",
    "pd.merge(left, right, on= 'key')"
   ]
  },
  {
   "cell_type": "markdown",
   "metadata": {},
   "source": [
    "## DataFrame stack: Append( ) & drop( )\n",
    "* drop( ) work with bothe row and column"
   ]
  },
  {
   "cell_type": "code",
   "execution_count": 495,
   "metadata": {
    "collapsed": true
   },
   "outputs": [],
   "source": [
    "df = pd.DataFrame(np.random.randn(8, 4), columns=['A','B','C','D'])"
   ]
  },
  {
   "cell_type": "code",
   "execution_count": 497,
   "metadata": {
    "collapsed": false
   },
   "outputs": [],
   "source": [
    "s = df.iloc[3]"
   ]
  },
  {
   "cell_type": "code",
   "execution_count": 500,
   "metadata": {
    "collapsed": false
   },
   "outputs": [
    {
     "data": {
      "text/html": [
       "<div>\n",
       "<table border=\"1\" class=\"dataframe\">\n",
       "  <thead>\n",
       "    <tr style=\"text-align: right;\">\n",
       "      <th></th>\n",
       "      <th>A</th>\n",
       "      <th>B</th>\n",
       "      <th>C</th>\n",
       "      <th>D</th>\n",
       "    </tr>\n",
       "  </thead>\n",
       "  <tbody>\n",
       "    <tr>\n",
       "      <th>0</th>\n",
       "      <td>-0.491188</td>\n",
       "      <td>0.283146</td>\n",
       "      <td>1.211822</td>\n",
       "      <td>0.976053</td>\n",
       "    </tr>\n",
       "    <tr>\n",
       "      <th>1</th>\n",
       "      <td>0.613778</td>\n",
       "      <td>0.978969</td>\n",
       "      <td>0.177775</td>\n",
       "      <td>-0.665328</td>\n",
       "    </tr>\n",
       "    <tr>\n",
       "      <th>2</th>\n",
       "      <td>-0.449637</td>\n",
       "      <td>1.107257</td>\n",
       "      <td>-0.553392</td>\n",
       "      <td>-0.130690</td>\n",
       "    </tr>\n",
       "    <tr>\n",
       "      <th>3</th>\n",
       "      <td>-1.157560</td>\n",
       "      <td>-0.303614</td>\n",
       "      <td>-0.381803</td>\n",
       "      <td>-0.316744</td>\n",
       "    </tr>\n",
       "    <tr>\n",
       "      <th>4</th>\n",
       "      <td>1.448795</td>\n",
       "      <td>-1.035121</td>\n",
       "      <td>1.312764</td>\n",
       "      <td>0.052735</td>\n",
       "    </tr>\n",
       "    <tr>\n",
       "      <th>5</th>\n",
       "      <td>1.013412</td>\n",
       "      <td>-1.990764</td>\n",
       "      <td>-0.251323</td>\n",
       "      <td>-1.025483</td>\n",
       "    </tr>\n",
       "    <tr>\n",
       "      <th>6</th>\n",
       "      <td>-0.679459</td>\n",
       "      <td>0.928093</td>\n",
       "      <td>0.029572</td>\n",
       "      <td>0.539979</td>\n",
       "    </tr>\n",
       "    <tr>\n",
       "      <th>7</th>\n",
       "      <td>2.701782</td>\n",
       "      <td>1.179619</td>\n",
       "      <td>-0.713256</td>\n",
       "      <td>-0.885304</td>\n",
       "    </tr>\n",
       "    <tr>\n",
       "      <th>8</th>\n",
       "      <td>-1.157560</td>\n",
       "      <td>-0.303614</td>\n",
       "      <td>-0.381803</td>\n",
       "      <td>-0.316744</td>\n",
       "    </tr>\n",
       "  </tbody>\n",
       "</table>\n",
       "</div>"
      ],
      "text/plain": [
       "          A         B         C         D\n",
       "0 -0.491188  0.283146  1.211822  0.976053\n",
       "1  0.613778  0.978969  0.177775 -0.665328\n",
       "2 -0.449637  1.107257 -0.553392 -0.130690\n",
       "3 -1.157560 -0.303614 -0.381803 -0.316744\n",
       "4  1.448795 -1.035121  1.312764  0.052735\n",
       "5  1.013412 -1.990764 -0.251323 -1.025483\n",
       "6 -0.679459  0.928093  0.029572  0.539979\n",
       "7  2.701782  1.179619 -0.713256 -0.885304\n",
       "8 -1.157560 -0.303614 -0.381803 -0.316744"
      ]
     },
     "execution_count": 500,
     "metadata": {},
     "output_type": "execute_result"
    }
   ],
   "source": [
    "df.append(s, ignore_index=True)"
   ]
  },
  {
   "cell_type": "code",
   "execution_count": 501,
   "metadata": {
    "collapsed": false
   },
   "outputs": [
    {
     "data": {
      "text/html": [
       "<div>\n",
       "<table border=\"1\" class=\"dataframe\">\n",
       "  <thead>\n",
       "    <tr style=\"text-align: right;\">\n",
       "      <th></th>\n",
       "      <th>A</th>\n",
       "      <th>B</th>\n",
       "      <th>C</th>\n",
       "      <th>D</th>\n",
       "    </tr>\n",
       "  </thead>\n",
       "  <tbody>\n",
       "    <tr>\n",
       "      <th>0</th>\n",
       "      <td>-0.491188</td>\n",
       "      <td>0.283146</td>\n",
       "      <td>1.211822</td>\n",
       "      <td>0.976053</td>\n",
       "    </tr>\n",
       "    <tr>\n",
       "      <th>1</th>\n",
       "      <td>0.613778</td>\n",
       "      <td>0.978969</td>\n",
       "      <td>0.177775</td>\n",
       "      <td>-0.665328</td>\n",
       "    </tr>\n",
       "    <tr>\n",
       "      <th>2</th>\n",
       "      <td>-0.449637</td>\n",
       "      <td>1.107257</td>\n",
       "      <td>-0.553392</td>\n",
       "      <td>-0.130690</td>\n",
       "    </tr>\n",
       "    <tr>\n",
       "      <th>3</th>\n",
       "      <td>-1.157560</td>\n",
       "      <td>-0.303614</td>\n",
       "      <td>-0.381803</td>\n",
       "      <td>-0.316744</td>\n",
       "    </tr>\n",
       "    <tr>\n",
       "      <th>4</th>\n",
       "      <td>1.448795</td>\n",
       "      <td>-1.035121</td>\n",
       "      <td>1.312764</td>\n",
       "      <td>0.052735</td>\n",
       "    </tr>\n",
       "    <tr>\n",
       "      <th>5</th>\n",
       "      <td>1.013412</td>\n",
       "      <td>-1.990764</td>\n",
       "      <td>-0.251323</td>\n",
       "      <td>-1.025483</td>\n",
       "    </tr>\n",
       "    <tr>\n",
       "      <th>6</th>\n",
       "      <td>-0.679459</td>\n",
       "      <td>0.928093</td>\n",
       "      <td>0.029572</td>\n",
       "      <td>0.539979</td>\n",
       "    </tr>\n",
       "    <tr>\n",
       "      <th>7</th>\n",
       "      <td>2.701782</td>\n",
       "      <td>1.179619</td>\n",
       "      <td>-0.713256</td>\n",
       "      <td>-0.885304</td>\n",
       "    </tr>\n",
       "    <tr>\n",
       "      <th>3</th>\n",
       "      <td>-1.157560</td>\n",
       "      <td>-0.303614</td>\n",
       "      <td>-0.381803</td>\n",
       "      <td>-0.316744</td>\n",
       "    </tr>\n",
       "  </tbody>\n",
       "</table>\n",
       "</div>"
      ],
      "text/plain": [
       "          A         B         C         D\n",
       "0 -0.491188  0.283146  1.211822  0.976053\n",
       "1  0.613778  0.978969  0.177775 -0.665328\n",
       "2 -0.449637  1.107257 -0.553392 -0.130690\n",
       "3 -1.157560 -0.303614 -0.381803 -0.316744\n",
       "4  1.448795 -1.035121  1.312764  0.052735\n",
       "5  1.013412 -1.990764 -0.251323 -1.025483\n",
       "6 -0.679459  0.928093  0.029572  0.539979\n",
       "7  2.701782  1.179619 -0.713256 -0.885304\n",
       "3 -1.157560 -0.303614 -0.381803 -0.316744"
      ]
     },
     "execution_count": 501,
     "metadata": {},
     "output_type": "execute_result"
    }
   ],
   "source": [
    "df.append(s)"
   ]
  },
  {
   "cell_type": "code",
   "execution_count": 577,
   "metadata": {
    "collapsed": true
   },
   "outputs": [],
   "source": [
    "df[9] = df.iloc[3]"
   ]
  },
  {
   "cell_type": "code",
   "execution_count": 509,
   "metadata": {
    "collapsed": false
   },
   "outputs": [],
   "source": [
    "del df[9]"
   ]
  },
  {
   "cell_type": "code",
   "execution_count": 581,
   "metadata": {
    "collapsed": false
   },
   "outputs": [
    {
     "data": {
      "text/html": [
       "<div>\n",
       "<table border=\"1\" class=\"dataframe\">\n",
       "  <thead>\n",
       "    <tr style=\"text-align: right;\">\n",
       "      <th></th>\n",
       "      <th>A</th>\n",
       "      <th>B</th>\n",
       "      <th>C</th>\n",
       "      <th>D</th>\n",
       "    </tr>\n",
       "  </thead>\n",
       "  <tbody>\n",
       "    <tr>\n",
       "      <th>0</th>\n",
       "      <td>-0.491188</td>\n",
       "      <td>0.283146</td>\n",
       "      <td>1.211822</td>\n",
       "      <td>0.976053</td>\n",
       "    </tr>\n",
       "    <tr>\n",
       "      <th>1</th>\n",
       "      <td>0.613778</td>\n",
       "      <td>0.978969</td>\n",
       "      <td>0.177775</td>\n",
       "      <td>-0.665328</td>\n",
       "    </tr>\n",
       "    <tr>\n",
       "      <th>2</th>\n",
       "      <td>-0.449637</td>\n",
       "      <td>1.107257</td>\n",
       "      <td>-0.553392</td>\n",
       "      <td>-0.130690</td>\n",
       "    </tr>\n",
       "    <tr>\n",
       "      <th>3</th>\n",
       "      <td>-1.157560</td>\n",
       "      <td>-0.303614</td>\n",
       "      <td>-0.381803</td>\n",
       "      <td>-0.316744</td>\n",
       "    </tr>\n",
       "    <tr>\n",
       "      <th>4</th>\n",
       "      <td>1.448795</td>\n",
       "      <td>-1.035121</td>\n",
       "      <td>1.312764</td>\n",
       "      <td>0.052735</td>\n",
       "    </tr>\n",
       "    <tr>\n",
       "      <th>5</th>\n",
       "      <td>1.013412</td>\n",
       "      <td>-1.990764</td>\n",
       "      <td>-0.251323</td>\n",
       "      <td>-1.025483</td>\n",
       "    </tr>\n",
       "    <tr>\n",
       "      <th>6</th>\n",
       "      <td>-0.679459</td>\n",
       "      <td>0.928093</td>\n",
       "      <td>0.029572</td>\n",
       "      <td>0.539979</td>\n",
       "    </tr>\n",
       "    <tr>\n",
       "      <th>7</th>\n",
       "      <td>2.701782</td>\n",
       "      <td>1.179619</td>\n",
       "      <td>-0.713256</td>\n",
       "      <td>-0.885304</td>\n",
       "    </tr>\n",
       "  </tbody>\n",
       "</table>\n",
       "</div>"
      ],
      "text/plain": [
       "          A         B         C         D\n",
       "0 -0.491188  0.283146  1.211822  0.976053\n",
       "1  0.613778  0.978969  0.177775 -0.665328\n",
       "2 -0.449637  1.107257 -0.553392 -0.130690\n",
       "3 -1.157560 -0.303614 -0.381803 -0.316744\n",
       "4  1.448795 -1.035121  1.312764  0.052735\n",
       "5  1.013412 -1.990764 -0.251323 -1.025483\n",
       "6 -0.679459  0.928093  0.029572  0.539979\n",
       "7  2.701782  1.179619 -0.713256 -0.885304"
      ]
     },
     "execution_count": 581,
     "metadata": {},
     "output_type": "execute_result"
    }
   ],
   "source": [
    "df.drop(9,1)"
   ]
  },
  {
   "cell_type": "code",
   "execution_count": 549,
   "metadata": {
    "collapsed": false
   },
   "outputs": [],
   "source": [
    "df.drop(9,axis = 1, inplace = True)"
   ]
  },
  {
   "cell_type": "code",
   "execution_count": 583,
   "metadata": {
    "collapsed": false
   },
   "outputs": [
    {
     "data": {
      "text/plain": [
       "0   NaN\n",
       "1   NaN\n",
       "2   NaN\n",
       "3   NaN\n",
       "4   NaN\n",
       "5   NaN\n",
       "6   NaN\n",
       "7   NaN\n",
       "Name: 9, dtype: float64"
      ]
     },
     "execution_count": 583,
     "metadata": {},
     "output_type": "execute_result"
    }
   ],
   "source": [
    "df.pop(9)"
   ]
  },
  {
   "cell_type": "code",
   "execution_count": 585,
   "metadata": {
    "collapsed": false
   },
   "outputs": [
    {
     "data": {
      "text/plain": [
       "A    2.701782\n",
       "B    1.179619\n",
       "C   -0.713256\n",
       "D   -0.885304\n",
       "Name: 7, dtype: float64"
      ]
     },
     "execution_count": 585,
     "metadata": {},
     "output_type": "execute_result"
    }
   ],
   "source": [
    "df.loc[7]"
   ]
  },
  {
   "cell_type": "code",
   "execution_count": 586,
   "metadata": {
    "collapsed": false
   },
   "outputs": [
    {
     "data": {
      "text/plain": [
       "A    2.701782\n",
       "B    1.179619\n",
       "C   -0.713256\n",
       "D   -0.885304\n",
       "Name: 7, dtype: float64"
      ]
     },
     "execution_count": 586,
     "metadata": {},
     "output_type": "execute_result"
    }
   ],
   "source": [
    "df.iloc[7]"
   ]
  },
  {
   "cell_type": "code",
   "execution_count": 587,
   "metadata": {
    "collapsed": false
   },
   "outputs": [
    {
     "data": {
      "text/html": [
       "<div>\n",
       "<table border=\"1\" class=\"dataframe\">\n",
       "  <thead>\n",
       "    <tr style=\"text-align: right;\">\n",
       "      <th></th>\n",
       "      <th>A</th>\n",
       "      <th>B</th>\n",
       "      <th>C</th>\n",
       "      <th>D</th>\n",
       "    </tr>\n",
       "  </thead>\n",
       "  <tbody>\n",
       "    <tr>\n",
       "      <th>0</th>\n",
       "      <td>-0.491188</td>\n",
       "      <td>0.283146</td>\n",
       "      <td>1.211822</td>\n",
       "      <td>0.976053</td>\n",
       "    </tr>\n",
       "    <tr>\n",
       "      <th>1</th>\n",
       "      <td>0.613778</td>\n",
       "      <td>0.978969</td>\n",
       "      <td>0.177775</td>\n",
       "      <td>-0.665328</td>\n",
       "    </tr>\n",
       "    <tr>\n",
       "      <th>2</th>\n",
       "      <td>-0.449637</td>\n",
       "      <td>1.107257</td>\n",
       "      <td>-0.553392</td>\n",
       "      <td>-0.130690</td>\n",
       "    </tr>\n",
       "    <tr>\n",
       "      <th>3</th>\n",
       "      <td>-1.157560</td>\n",
       "      <td>-0.303614</td>\n",
       "      <td>-0.381803</td>\n",
       "      <td>-0.316744</td>\n",
       "    </tr>\n",
       "    <tr>\n",
       "      <th>4</th>\n",
       "      <td>1.448795</td>\n",
       "      <td>-1.035121</td>\n",
       "      <td>1.312764</td>\n",
       "      <td>0.052735</td>\n",
       "    </tr>\n",
       "    <tr>\n",
       "      <th>5</th>\n",
       "      <td>1.013412</td>\n",
       "      <td>-1.990764</td>\n",
       "      <td>-0.251323</td>\n",
       "      <td>-1.025483</td>\n",
       "    </tr>\n",
       "    <tr>\n",
       "      <th>6</th>\n",
       "      <td>-0.679459</td>\n",
       "      <td>0.928093</td>\n",
       "      <td>0.029572</td>\n",
       "      <td>0.539979</td>\n",
       "    </tr>\n",
       "  </tbody>\n",
       "</table>\n",
       "</div>"
      ],
      "text/plain": [
       "          A         B         C         D\n",
       "0 -0.491188  0.283146  1.211822  0.976053\n",
       "1  0.613778  0.978969  0.177775 -0.665328\n",
       "2 -0.449637  1.107257 -0.553392 -0.130690\n",
       "3 -1.157560 -0.303614 -0.381803 -0.316744\n",
       "4  1.448795 -1.035121  1.312764  0.052735\n",
       "5  1.013412 -1.990764 -0.251323 -1.025483\n",
       "6 -0.679459  0.928093  0.029572  0.539979"
      ]
     },
     "execution_count": 587,
     "metadata": {},
     "output_type": "execute_result"
    }
   ],
   "source": [
    "df.drop(7)"
   ]
  },
  {
   "cell_type": "code",
   "execution_count": 590,
   "metadata": {
    "collapsed": false
   },
   "outputs": [
    {
     "data": {
      "text/html": [
       "<div>\n",
       "<table border=\"1\" class=\"dataframe\">\n",
       "  <thead>\n",
       "    <tr style=\"text-align: right;\">\n",
       "      <th></th>\n",
       "      <th>A</th>\n",
       "      <th>B</th>\n",
       "      <th>C</th>\n",
       "    </tr>\n",
       "  </thead>\n",
       "  <tbody>\n",
       "    <tr>\n",
       "      <th>0</th>\n",
       "      <td>-0.491188</td>\n",
       "      <td>0.283146</td>\n",
       "      <td>1.211822</td>\n",
       "    </tr>\n",
       "    <tr>\n",
       "      <th>1</th>\n",
       "      <td>0.613778</td>\n",
       "      <td>0.978969</td>\n",
       "      <td>0.177775</td>\n",
       "    </tr>\n",
       "    <tr>\n",
       "      <th>2</th>\n",
       "      <td>-0.449637</td>\n",
       "      <td>1.107257</td>\n",
       "      <td>-0.553392</td>\n",
       "    </tr>\n",
       "    <tr>\n",
       "      <th>3</th>\n",
       "      <td>-1.157560</td>\n",
       "      <td>-0.303614</td>\n",
       "      <td>-0.381803</td>\n",
       "    </tr>\n",
       "    <tr>\n",
       "      <th>4</th>\n",
       "      <td>1.448795</td>\n",
       "      <td>-1.035121</td>\n",
       "      <td>1.312764</td>\n",
       "    </tr>\n",
       "    <tr>\n",
       "      <th>5</th>\n",
       "      <td>1.013412</td>\n",
       "      <td>-1.990764</td>\n",
       "      <td>-0.251323</td>\n",
       "    </tr>\n",
       "    <tr>\n",
       "      <th>6</th>\n",
       "      <td>-0.679459</td>\n",
       "      <td>0.928093</td>\n",
       "      <td>0.029572</td>\n",
       "    </tr>\n",
       "    <tr>\n",
       "      <th>7</th>\n",
       "      <td>2.701782</td>\n",
       "      <td>1.179619</td>\n",
       "      <td>-0.713256</td>\n",
       "    </tr>\n",
       "  </tbody>\n",
       "</table>\n",
       "</div>"
      ],
      "text/plain": [
       "          A         B         C\n",
       "0 -0.491188  0.283146  1.211822\n",
       "1  0.613778  0.978969  0.177775\n",
       "2 -0.449637  1.107257 -0.553392\n",
       "3 -1.157560 -0.303614 -0.381803\n",
       "4  1.448795 -1.035121  1.312764\n",
       "5  1.013412 -1.990764 -0.251323\n",
       "6 -0.679459  0.928093  0.029572\n",
       "7  2.701782  1.179619 -0.713256"
      ]
     },
     "execution_count": 590,
     "metadata": {},
     "output_type": "execute_result"
    }
   ],
   "source": [
    "df.drop('D',1)"
   ]
  },
  {
   "cell_type": "code",
   "execution_count": 591,
   "metadata": {
    "collapsed": false
   },
   "outputs": [
    {
     "data": {
      "text/html": [
       "<div>\n",
       "<table border=\"1\" class=\"dataframe\">\n",
       "  <thead>\n",
       "    <tr style=\"text-align: right;\">\n",
       "      <th></th>\n",
       "      <th>A</th>\n",
       "      <th>B</th>\n",
       "      <th>C</th>\n",
       "      <th>D</th>\n",
       "    </tr>\n",
       "  </thead>\n",
       "  <tbody>\n",
       "    <tr>\n",
       "      <th>0</th>\n",
       "      <td>-0.491188</td>\n",
       "      <td>0.283146</td>\n",
       "      <td>1.211822</td>\n",
       "      <td>0.976053</td>\n",
       "    </tr>\n",
       "    <tr>\n",
       "      <th>1</th>\n",
       "      <td>0.613778</td>\n",
       "      <td>0.978969</td>\n",
       "      <td>0.177775</td>\n",
       "      <td>-0.665328</td>\n",
       "    </tr>\n",
       "    <tr>\n",
       "      <th>2</th>\n",
       "      <td>-0.449637</td>\n",
       "      <td>1.107257</td>\n",
       "      <td>-0.553392</td>\n",
       "      <td>-0.130690</td>\n",
       "    </tr>\n",
       "    <tr>\n",
       "      <th>3</th>\n",
       "      <td>-1.157560</td>\n",
       "      <td>-0.303614</td>\n",
       "      <td>-0.381803</td>\n",
       "      <td>-0.316744</td>\n",
       "    </tr>\n",
       "    <tr>\n",
       "      <th>4</th>\n",
       "      <td>1.448795</td>\n",
       "      <td>-1.035121</td>\n",
       "      <td>1.312764</td>\n",
       "      <td>0.052735</td>\n",
       "    </tr>\n",
       "    <tr>\n",
       "      <th>5</th>\n",
       "      <td>1.013412</td>\n",
       "      <td>-1.990764</td>\n",
       "      <td>-0.251323</td>\n",
       "      <td>-1.025483</td>\n",
       "    </tr>\n",
       "    <tr>\n",
       "      <th>6</th>\n",
       "      <td>-0.679459</td>\n",
       "      <td>0.928093</td>\n",
       "      <td>0.029572</td>\n",
       "      <td>0.539979</td>\n",
       "    </tr>\n",
       "    <tr>\n",
       "      <th>7</th>\n",
       "      <td>2.701782</td>\n",
       "      <td>1.179619</td>\n",
       "      <td>-0.713256</td>\n",
       "      <td>-0.885304</td>\n",
       "    </tr>\n",
       "  </tbody>\n",
       "</table>\n",
       "</div>"
      ],
      "text/plain": [
       "          A         B         C         D\n",
       "0 -0.491188  0.283146  1.211822  0.976053\n",
       "1  0.613778  0.978969  0.177775 -0.665328\n",
       "2 -0.449637  1.107257 -0.553392 -0.130690\n",
       "3 -1.157560 -0.303614 -0.381803 -0.316744\n",
       "4  1.448795 -1.035121  1.312764  0.052735\n",
       "5  1.013412 -1.990764 -0.251323 -1.025483\n",
       "6 -0.679459  0.928093  0.029572  0.539979\n",
       "7  2.701782  1.179619 -0.713256 -0.885304"
      ]
     },
     "execution_count": 591,
     "metadata": {},
     "output_type": "execute_result"
    }
   ],
   "source": [
    "df"
   ]
  },
  {
   "cell_type": "markdown",
   "metadata": {},
   "source": [
    "## set and unique"
   ]
  },
  {
   "cell_type": "code",
   "execution_count": 603,
   "metadata": {
    "collapsed": false
   },
   "outputs": [
    {
     "name": "stdout",
     "output_type": "stream",
     "text": [
      "<class 'pandas.core.frame.DataFrame'>\n",
      "<class 'pandas.core.series.Series'>\n"
     ]
    }
   ],
   "source": [
    "print type(df[['B']])\n",
    "print type(df['B'])"
   ]
  },
  {
   "cell_type": "code",
   "execution_count": 604,
   "metadata": {
    "collapsed": false
   },
   "outputs": [
    {
     "data": {
      "text/plain": [
       "{'B'}"
      ]
     },
     "execution_count": 604,
     "metadata": {},
     "output_type": "execute_result"
    }
   ],
   "source": [
    "set(df[['B']])"
   ]
  },
  {
   "cell_type": "code",
   "execution_count": 605,
   "metadata": {
    "collapsed": false
   },
   "outputs": [
    {
     "data": {
      "text/plain": [
       "{-1.9907638190113461,\n",
       " -1.0351211261433719,\n",
       " -0.30361419104289594,\n",
       " 0.28314558128474021,\n",
       " 0.92809291185301179,\n",
       " 0.97896904362542136,\n",
       " 1.1072570116464029,\n",
       " 1.1796193578964553}"
      ]
     },
     "execution_count": 605,
     "metadata": {},
     "output_type": "execute_result"
    }
   ],
   "source": [
    "set(df['B'])"
   ]
  },
  {
   "cell_type": "code",
   "execution_count": 651,
   "metadata": {
    "collapsed": false
   },
   "outputs": [
    {
     "data": {
      "text/plain": [
       "<bound method Series.unique of 0    0.283146\n",
       "1    0.978969\n",
       "2    1.107257\n",
       "3   -0.303614\n",
       "4   -1.035121\n",
       "5   -1.990764\n",
       "6    0.928093\n",
       "7    1.179619\n",
       "Name: B, dtype: float64>"
      ]
     },
     "execution_count": 651,
     "metadata": {},
     "output_type": "execute_result"
    }
   ],
   "source": [
    "df['B'].unique"
   ]
  },
  {
   "cell_type": "code",
   "execution_count": 662,
   "metadata": {
    "collapsed": false
   },
   "outputs": [
    {
     "data": {
      "text/plain": [
       "<bound method Series.unique of 0    0.283146\n",
       "1    0.978969\n",
       "2    1.107257\n",
       "3   -0.303614\n",
       "4   -1.035121\n",
       "5   -1.990764\n",
       "6    0.928093\n",
       "7    1.179619\n",
       "Name: B, dtype: float64>"
      ]
     },
     "execution_count": 662,
     "metadata": {},
     "output_type": "execute_result"
    }
   ],
   "source": [
    "xx = df['B'].unique #instance\n",
    "xx  #can not index"
   ]
  },
  {
   "cell_type": "code",
   "execution_count": 653,
   "metadata": {
    "collapsed": false
   },
   "outputs": [
    {
     "data": {
      "text/plain": [
       "instancemethod"
      ]
     },
     "execution_count": 653,
     "metadata": {},
     "output_type": "execute_result"
    }
   ],
   "source": [
    "type(df['B'].unique)"
   ]
  },
  {
   "cell_type": "code",
   "execution_count": 649,
   "metadata": {
    "collapsed": false
   },
   "outputs": [
    {
     "data": {
      "text/plain": [
       "array([ 0.28314558,  0.97896904,  1.10725701, -0.30361419, -1.03512113,\n",
       "       -1.99076382,  0.92809291,  1.17961936])"
      ]
     },
     "execution_count": 649,
     "metadata": {},
     "output_type": "execute_result"
    }
   ],
   "source": [
    "df['B'].unique()"
   ]
  },
  {
   "cell_type": "code",
   "execution_count": 665,
   "metadata": {
    "collapsed": false
   },
   "outputs": [
    {
     "data": {
      "text/plain": [
       "array([ 0.97896904,  1.10725701, -0.30361419, -1.03512113])"
      ]
     },
     "execution_count": 665,
     "metadata": {},
     "output_type": "execute_result"
    }
   ],
   "source": [
    "yy = df['B'].unique()  #return an array\n",
    "yy[1:5] #yes, can index"
   ]
  },
  {
   "cell_type": "code",
   "execution_count": 654,
   "metadata": {
    "collapsed": false
   },
   "outputs": [
    {
     "data": {
      "text/plain": [
       "numpy.ndarray"
      ]
     },
     "execution_count": 654,
     "metadata": {},
     "output_type": "execute_result"
    }
   ],
   "source": [
    "type(df['B'].unique())"
   ]
  },
  {
   "cell_type": "code",
   "execution_count": 606,
   "metadata": {
    "collapsed": false
   },
   "outputs": [
    {
     "data": {
      "text/plain": [
       "{0, 1, 2, 3, 4, 5}"
      ]
     },
     "execution_count": 606,
     "metadata": {},
     "output_type": "execute_result"
    }
   ],
   "source": [
    "set(np.arange(6))"
   ]
  },
  {
   "cell_type": "code",
   "execution_count": 607,
   "metadata": {
    "collapsed": false
   },
   "outputs": [
    {
     "data": {
      "text/plain": [
       "{0, 1, 2, 3, 4, 5}"
      ]
     },
     "execution_count": 607,
     "metadata": {},
     "output_type": "execute_result"
    }
   ],
   "source": [
    "set(pd.Series(np.arange(6)))"
   ]
  },
  {
   "cell_type": "code",
   "execution_count": 608,
   "metadata": {
    "collapsed": false
   },
   "outputs": [
    {
     "data": {
      "text/plain": [
       "{1, 2, 3}"
      ]
     },
     "execution_count": 608,
     "metadata": {},
     "output_type": "execute_result"
    }
   ],
   "source": [
    "set([1,1,2,3])"
   ]
  },
  {
   "cell_type": "code",
   "execution_count": 674,
   "metadata": {
    "collapsed": false
   },
   "outputs": [
    {
     "data": {
      "text/plain": [
       " 1.013412    1\n",
       "-0.449637    1\n",
       " 1.448795    1\n",
       "-0.679459    1\n",
       " 2.701782    1\n",
       "-0.491188    1\n",
       " 0.613778    1\n",
       "-1.157560    1\n",
       "Name: A, dtype: int64"
      ]
     },
     "execution_count": 674,
     "metadata": {},
     "output_type": "execute_result"
    }
   ],
   "source": [
    "df['A'].value_counts()"
   ]
  },
  {
   "cell_type": "code",
   "execution_count": 670,
   "metadata": {
    "collapsed": false
   },
   "outputs": [
    {
     "data": {
      "text/plain": [
       "{1}"
      ]
     },
     "execution_count": 670,
     "metadata": {},
     "output_type": "execute_result"
    }
   ],
   "source": [
    "set(df['A'].value_counts())"
   ]
  },
  {
   "cell_type": "code",
   "execution_count": 676,
   "metadata": {
    "collapsed": false
   },
   "outputs": [
    {
     "data": {
      "text/plain": [
       "{-1.1575599539650125,\n",
       " -0.67945924073828856,\n",
       " -0.49118843720828925,\n",
       " -0.44963712966774155,\n",
       " 0.61377801398932796,\n",
       " 1.0134117075445896,\n",
       " 1.4487949585422324,\n",
       " 2.7017818411712873}"
      ]
     },
     "execution_count": 676,
     "metadata": {},
     "output_type": "execute_result"
    }
   ],
   "source": [
    "set(df['A'])"
   ]
  },
  {
   "cell_type": "code",
   "execution_count": 678,
   "metadata": {
    "collapsed": false
   },
   "outputs": [
    {
     "data": {
      "text/plain": [
       "{-1.1575599539650125,\n",
       " -0.67945924073828856,\n",
       " -0.49118843720828925,\n",
       " -0.44963712966774155,\n",
       " 0.61377801398932796,\n",
       " 1.0134117075445896,\n",
       " 1.4487949585422324,\n",
       " 2.7017818411712873}"
      ]
     },
     "execution_count": 678,
     "metadata": {},
     "output_type": "execute_result"
    }
   ],
   "source": [
    "set(df['A'].values)"
   ]
  },
  {
   "cell_type": "code",
   "execution_count": 679,
   "metadata": {
    "collapsed": false
   },
   "outputs": [
    {
     "data": {
      "text/plain": [
       "0   -0.491188\n",
       "1    0.613778\n",
       "2   -0.449637\n",
       "3   -1.157560\n",
       "4    1.448795\n",
       "5    1.013412\n",
       "6   -0.679459\n",
       "7    2.701782\n",
       "Name: A, dtype: float64"
      ]
     },
     "execution_count": 679,
     "metadata": {},
     "output_type": "execute_result"
    }
   ],
   "source": [
    "df['A']"
   ]
  },
  {
   "cell_type": "code",
   "execution_count": 680,
   "metadata": {
    "collapsed": false
   },
   "outputs": [
    {
     "data": {
      "text/plain": [
       "array([-0.49118844,  0.61377801, -0.44963713, -1.15755995,  1.44879496,\n",
       "        1.01341171, -0.67945924,  2.70178184])"
      ]
     },
     "execution_count": 680,
     "metadata": {},
     "output_type": "execute_result"
    }
   ],
   "source": [
    "df['A'].values"
   ]
  },
  {
   "cell_type": "code",
   "execution_count": 683,
   "metadata": {
    "collapsed": false
   },
   "outputs": [
    {
     "data": {
      "text/plain": [
       "array([-0.49118844,  0.61377801, -0.44963713, -1.15755995,  1.44879496,\n",
       "        1.01341171, -0.67945924,  2.70178184])"
      ]
     },
     "execution_count": 683,
     "metadata": {},
     "output_type": "execute_result"
    }
   ],
   "source": [
    "df['A'].unique()"
   ]
  },
  {
   "cell_type": "code",
   "execution_count": 685,
   "metadata": {
    "collapsed": false
   },
   "outputs": [
    {
     "data": {
      "text/plain": [
       "[-1.1575599539650125,\n",
       " -0.67945924073828856,\n",
       " -0.49118843720828925,\n",
       " -0.44963712966774155,\n",
       " 0.61377801398932796,\n",
       " 1.0134117075445896,\n",
       " 1.4487949585422324,\n",
       " 2.7017818411712873]"
      ]
     },
     "execution_count": 685,
     "metadata": {},
     "output_type": "execute_result"
    }
   ],
   "source": [
    "sorted(set(df.A))"
   ]
  },
  {
   "cell_type": "markdown",
   "metadata": {},
   "source": [
    "## Grouping"
   ]
  },
  {
   "cell_type": "code",
   "execution_count": 686,
   "metadata": {
    "collapsed": true
   },
   "outputs": [],
   "source": [
    "df = pd.DataFrame({'A': ['foo','bar','foo','bar','foo', 'bar', 'foo', 'foo'],\n",
    "                  'B': ['one', 'one', 'two', 'three','two', 'two', 'one', 'three'],\n",
    "                  'C': np.random.randn(8),\n",
    "                  'D': np.random.randn(8)})"
   ]
  },
  {
   "cell_type": "code",
   "execution_count": 687,
   "metadata": {
    "collapsed": false
   },
   "outputs": [
    {
     "data": {
      "text/html": [
       "<div>\n",
       "<table border=\"1\" class=\"dataframe\">\n",
       "  <thead>\n",
       "    <tr style=\"text-align: right;\">\n",
       "      <th></th>\n",
       "      <th>A</th>\n",
       "      <th>B</th>\n",
       "      <th>C</th>\n",
       "      <th>D</th>\n",
       "    </tr>\n",
       "  </thead>\n",
       "  <tbody>\n",
       "    <tr>\n",
       "      <th>0</th>\n",
       "      <td>foo</td>\n",
       "      <td>one</td>\n",
       "      <td>0.362845</td>\n",
       "      <td>-0.650738</td>\n",
       "    </tr>\n",
       "    <tr>\n",
       "      <th>1</th>\n",
       "      <td>bar</td>\n",
       "      <td>one</td>\n",
       "      <td>-1.334766</td>\n",
       "      <td>0.733789</td>\n",
       "    </tr>\n",
       "    <tr>\n",
       "      <th>2</th>\n",
       "      <td>foo</td>\n",
       "      <td>two</td>\n",
       "      <td>-0.008925</td>\n",
       "      <td>-0.246874</td>\n",
       "    </tr>\n",
       "    <tr>\n",
       "      <th>3</th>\n",
       "      <td>bar</td>\n",
       "      <td>three</td>\n",
       "      <td>0.559335</td>\n",
       "      <td>-0.911080</td>\n",
       "    </tr>\n",
       "    <tr>\n",
       "      <th>4</th>\n",
       "      <td>foo</td>\n",
       "      <td>two</td>\n",
       "      <td>-1.203005</td>\n",
       "      <td>0.226699</td>\n",
       "    </tr>\n",
       "    <tr>\n",
       "      <th>5</th>\n",
       "      <td>bar</td>\n",
       "      <td>two</td>\n",
       "      <td>0.547873</td>\n",
       "      <td>-1.275626</td>\n",
       "    </tr>\n",
       "    <tr>\n",
       "      <th>6</th>\n",
       "      <td>foo</td>\n",
       "      <td>one</td>\n",
       "      <td>-0.354299</td>\n",
       "      <td>-0.160396</td>\n",
       "    </tr>\n",
       "    <tr>\n",
       "      <th>7</th>\n",
       "      <td>foo</td>\n",
       "      <td>three</td>\n",
       "      <td>-0.790360</td>\n",
       "      <td>-0.462920</td>\n",
       "    </tr>\n",
       "  </tbody>\n",
       "</table>\n",
       "</div>"
      ],
      "text/plain": [
       "     A      B         C         D\n",
       "0  foo    one  0.362845 -0.650738\n",
       "1  bar    one -1.334766  0.733789\n",
       "2  foo    two -0.008925 -0.246874\n",
       "3  bar  three  0.559335 -0.911080\n",
       "4  foo    two -1.203005  0.226699\n",
       "5  bar    two  0.547873 -1.275626\n",
       "6  foo    one -0.354299 -0.160396\n",
       "7  foo  three -0.790360 -0.462920"
      ]
     },
     "execution_count": 687,
     "metadata": {},
     "output_type": "execute_result"
    }
   ],
   "source": [
    "df"
   ]
  },
  {
   "cell_type": "code",
   "execution_count": 693,
   "metadata": {
    "collapsed": false
   },
   "outputs": [
    {
     "data": {
      "text/html": [
       "<div>\n",
       "<table border=\"1\" class=\"dataframe\">\n",
       "  <thead>\n",
       "    <tr style=\"text-align: right;\">\n",
       "      <th></th>\n",
       "      <th>C</th>\n",
       "      <th>D</th>\n",
       "    </tr>\n",
       "    <tr>\n",
       "      <th>B</th>\n",
       "      <th></th>\n",
       "      <th></th>\n",
       "    </tr>\n",
       "  </thead>\n",
       "  <tbody>\n",
       "    <tr>\n",
       "      <th>one</th>\n",
       "      <td>-1.326220</td>\n",
       "      <td>-0.077345</td>\n",
       "    </tr>\n",
       "    <tr>\n",
       "      <th>three</th>\n",
       "      <td>-0.231025</td>\n",
       "      <td>-1.373999</td>\n",
       "    </tr>\n",
       "    <tr>\n",
       "      <th>two</th>\n",
       "      <td>-0.664057</td>\n",
       "      <td>-1.295801</td>\n",
       "    </tr>\n",
       "  </tbody>\n",
       "</table>\n",
       "</div>"
      ],
      "text/plain": [
       "              C         D\n",
       "B                        \n",
       "one   -1.326220 -0.077345\n",
       "three -0.231025 -1.373999\n",
       "two   -0.664057 -1.295801"
      ]
     },
     "execution_count": 693,
     "metadata": {},
     "output_type": "execute_result"
    }
   ],
   "source": [
    "df.groupby('B').sum()"
   ]
  },
  {
   "cell_type": "code",
   "execution_count": 694,
   "metadata": {
    "collapsed": false
   },
   "outputs": [
    {
     "data": {
      "text/html": [
       "<div>\n",
       "<table border=\"1\" class=\"dataframe\">\n",
       "  <thead>\n",
       "    <tr style=\"text-align: right;\">\n",
       "      <th></th>\n",
       "      <th></th>\n",
       "      <th>C</th>\n",
       "      <th>D</th>\n",
       "    </tr>\n",
       "    <tr>\n",
       "      <th>A</th>\n",
       "      <th>B</th>\n",
       "      <th></th>\n",
       "      <th></th>\n",
       "    </tr>\n",
       "  </thead>\n",
       "  <tbody>\n",
       "    <tr>\n",
       "      <th rowspan=\"3\" valign=\"top\">bar</th>\n",
       "      <th>one</th>\n",
       "      <td>-1.334766</td>\n",
       "      <td>0.733789</td>\n",
       "    </tr>\n",
       "    <tr>\n",
       "      <th>three</th>\n",
       "      <td>0.559335</td>\n",
       "      <td>-0.911080</td>\n",
       "    </tr>\n",
       "    <tr>\n",
       "      <th>two</th>\n",
       "      <td>0.547873</td>\n",
       "      <td>-1.275626</td>\n",
       "    </tr>\n",
       "    <tr>\n",
       "      <th rowspan=\"3\" valign=\"top\">foo</th>\n",
       "      <th>one</th>\n",
       "      <td>0.008546</td>\n",
       "      <td>-0.811134</td>\n",
       "    </tr>\n",
       "    <tr>\n",
       "      <th>three</th>\n",
       "      <td>-0.790360</td>\n",
       "      <td>-0.462920</td>\n",
       "    </tr>\n",
       "    <tr>\n",
       "      <th>two</th>\n",
       "      <td>-1.211930</td>\n",
       "      <td>-0.020175</td>\n",
       "    </tr>\n",
       "  </tbody>\n",
       "</table>\n",
       "</div>"
      ],
      "text/plain": [
       "                  C         D\n",
       "A   B                        \n",
       "bar one   -1.334766  0.733789\n",
       "    three  0.559335 -0.911080\n",
       "    two    0.547873 -1.275626\n",
       "foo one    0.008546 -0.811134\n",
       "    three -0.790360 -0.462920\n",
       "    two   -1.211930 -0.020175"
      ]
     },
     "execution_count": 694,
     "metadata": {},
     "output_type": "execute_result"
    }
   ],
   "source": [
    "df.groupby(['A','B']).sum()"
   ]
  },
  {
   "cell_type": "code",
   "execution_count": 696,
   "metadata": {
    "collapsed": false
   },
   "outputs": [
    {
     "data": {
      "text/html": [
       "<div>\n",
       "<table border=\"1\" class=\"dataframe\">\n",
       "  <thead>\n",
       "    <tr style=\"text-align: right;\">\n",
       "      <th></th>\n",
       "      <th></th>\n",
       "      <th>C</th>\n",
       "      <th>D</th>\n",
       "    </tr>\n",
       "    <tr>\n",
       "      <th>B</th>\n",
       "      <th>A</th>\n",
       "      <th></th>\n",
       "      <th></th>\n",
       "    </tr>\n",
       "  </thead>\n",
       "  <tbody>\n",
       "    <tr>\n",
       "      <th rowspan=\"2\" valign=\"top\">one</th>\n",
       "      <th>bar</th>\n",
       "      <td>-1.334766</td>\n",
       "      <td>0.733789</td>\n",
       "    </tr>\n",
       "    <tr>\n",
       "      <th>foo</th>\n",
       "      <td>0.008546</td>\n",
       "      <td>-0.811134</td>\n",
       "    </tr>\n",
       "    <tr>\n",
       "      <th rowspan=\"2\" valign=\"top\">three</th>\n",
       "      <th>bar</th>\n",
       "      <td>0.559335</td>\n",
       "      <td>-0.911080</td>\n",
       "    </tr>\n",
       "    <tr>\n",
       "      <th>foo</th>\n",
       "      <td>-0.790360</td>\n",
       "      <td>-0.462920</td>\n",
       "    </tr>\n",
       "    <tr>\n",
       "      <th rowspan=\"2\" valign=\"top\">two</th>\n",
       "      <th>bar</th>\n",
       "      <td>0.547873</td>\n",
       "      <td>-1.275626</td>\n",
       "    </tr>\n",
       "    <tr>\n",
       "      <th>foo</th>\n",
       "      <td>-1.211930</td>\n",
       "      <td>-0.020175</td>\n",
       "    </tr>\n",
       "  </tbody>\n",
       "</table>\n",
       "</div>"
      ],
      "text/plain": [
       "                  C         D\n",
       "B     A                      \n",
       "one   bar -1.334766  0.733789\n",
       "      foo  0.008546 -0.811134\n",
       "three bar  0.559335 -0.911080\n",
       "      foo -0.790360 -0.462920\n",
       "two   bar  0.547873 -1.275626\n",
       "      foo -1.211930 -0.020175"
      ]
     },
     "execution_count": 696,
     "metadata": {},
     "output_type": "execute_result"
    }
   ],
   "source": [
    "df.groupby(['B','A']).sum()"
   ]
  },
  {
   "cell_type": "code",
   "execution_count": 697,
   "metadata": {
    "collapsed": false
   },
   "outputs": [
    {
     "data": {
      "text/html": [
       "<div>\n",
       "<table border=\"1\" class=\"dataframe\">\n",
       "  <thead>\n",
       "    <tr style=\"text-align: right;\">\n",
       "      <th></th>\n",
       "      <th></th>\n",
       "      <th>C</th>\n",
       "      <th>D</th>\n",
       "    </tr>\n",
       "    <tr>\n",
       "      <th>B</th>\n",
       "      <th>A</th>\n",
       "      <th></th>\n",
       "      <th></th>\n",
       "    </tr>\n",
       "  </thead>\n",
       "  <tbody>\n",
       "    <tr>\n",
       "      <th rowspan=\"2\" valign=\"top\">one</th>\n",
       "      <th>bar</th>\n",
       "      <td>1</td>\n",
       "      <td>1</td>\n",
       "    </tr>\n",
       "    <tr>\n",
       "      <th>foo</th>\n",
       "      <td>2</td>\n",
       "      <td>2</td>\n",
       "    </tr>\n",
       "    <tr>\n",
       "      <th rowspan=\"2\" valign=\"top\">three</th>\n",
       "      <th>bar</th>\n",
       "      <td>1</td>\n",
       "      <td>1</td>\n",
       "    </tr>\n",
       "    <tr>\n",
       "      <th>foo</th>\n",
       "      <td>1</td>\n",
       "      <td>1</td>\n",
       "    </tr>\n",
       "    <tr>\n",
       "      <th rowspan=\"2\" valign=\"top\">two</th>\n",
       "      <th>bar</th>\n",
       "      <td>1</td>\n",
       "      <td>1</td>\n",
       "    </tr>\n",
       "    <tr>\n",
       "      <th>foo</th>\n",
       "      <td>2</td>\n",
       "      <td>2</td>\n",
       "    </tr>\n",
       "  </tbody>\n",
       "</table>\n",
       "</div>"
      ],
      "text/plain": [
       "           C  D\n",
       "B     A        \n",
       "one   bar  1  1\n",
       "      foo  2  2\n",
       "three bar  1  1\n",
       "      foo  1  1\n",
       "two   bar  1  1\n",
       "      foo  2  2"
      ]
     },
     "execution_count": 697,
     "metadata": {},
     "output_type": "execute_result"
    }
   ],
   "source": [
    "df.groupby(['B','A']).count()"
   ]
  },
  {
   "cell_type": "code",
   "execution_count": 698,
   "metadata": {
    "collapsed": false
   },
   "outputs": [
    {
     "data": {
      "text/html": [
       "<div>\n",
       "<table border=\"1\" class=\"dataframe\">\n",
       "  <thead>\n",
       "    <tr style=\"text-align: right;\">\n",
       "      <th></th>\n",
       "      <th>A</th>\n",
       "      <th>C</th>\n",
       "      <th>D</th>\n",
       "    </tr>\n",
       "    <tr>\n",
       "      <th>B</th>\n",
       "      <th></th>\n",
       "      <th></th>\n",
       "      <th></th>\n",
       "    </tr>\n",
       "  </thead>\n",
       "  <tbody>\n",
       "    <tr>\n",
       "      <th>one</th>\n",
       "      <td>3</td>\n",
       "      <td>3</td>\n",
       "      <td>3</td>\n",
       "    </tr>\n",
       "    <tr>\n",
       "      <th>three</th>\n",
       "      <td>2</td>\n",
       "      <td>2</td>\n",
       "      <td>2</td>\n",
       "    </tr>\n",
       "    <tr>\n",
       "      <th>two</th>\n",
       "      <td>3</td>\n",
       "      <td>3</td>\n",
       "      <td>3</td>\n",
       "    </tr>\n",
       "  </tbody>\n",
       "</table>\n",
       "</div>"
      ],
      "text/plain": [
       "       A  C  D\n",
       "B             \n",
       "one    3  3  3\n",
       "three  2  2  2\n",
       "two    3  3  3"
      ]
     },
     "execution_count": 698,
     "metadata": {},
     "output_type": "execute_result"
    }
   ],
   "source": [
    "df.groupby(['B']).count()"
   ]
  },
  {
   "cell_type": "code",
   "execution_count": 700,
   "metadata": {
    "collapsed": false
   },
   "outputs": [
    {
     "data": {
      "text/html": [
       "<div>\n",
       "<table border=\"1\" class=\"dataframe\">\n",
       "  <thead>\n",
       "    <tr style=\"text-align: right;\">\n",
       "      <th></th>\n",
       "      <th>A</th>\n",
       "      <th>C</th>\n",
       "      <th>D</th>\n",
       "    </tr>\n",
       "    <tr>\n",
       "      <th>B</th>\n",
       "      <th></th>\n",
       "      <th></th>\n",
       "      <th></th>\n",
       "    </tr>\n",
       "  </thead>\n",
       "  <tbody>\n",
       "    <tr>\n",
       "      <th>one</th>\n",
       "      <td>3</td>\n",
       "      <td>3</td>\n",
       "      <td>3</td>\n",
       "    </tr>\n",
       "    <tr>\n",
       "      <th>three</th>\n",
       "      <td>2</td>\n",
       "      <td>2</td>\n",
       "      <td>2</td>\n",
       "    </tr>\n",
       "    <tr>\n",
       "      <th>two</th>\n",
       "      <td>3</td>\n",
       "      <td>3</td>\n",
       "      <td>3</td>\n",
       "    </tr>\n",
       "  </tbody>\n",
       "</table>\n",
       "</div>"
      ],
      "text/plain": [
       "       A  C  D\n",
       "B             \n",
       "one    3  3  3\n",
       "three  2  2  2\n",
       "two    3  3  3"
      ]
     },
     "execution_count": 700,
     "metadata": {},
     "output_type": "execute_result"
    }
   ],
   "source": [
    "df.groupby('B').count()"
   ]
  },
  {
   "cell_type": "code",
   "execution_count": 699,
   "metadata": {
    "collapsed": false
   },
   "outputs": [
    {
     "data": {
      "text/html": [
       "<div>\n",
       "<table border=\"1\" class=\"dataframe\">\n",
       "  <thead>\n",
       "    <tr style=\"text-align: right;\">\n",
       "      <th></th>\n",
       "      <th>B</th>\n",
       "      <th>C</th>\n",
       "      <th>D</th>\n",
       "    </tr>\n",
       "    <tr>\n",
       "      <th>A</th>\n",
       "      <th></th>\n",
       "      <th></th>\n",
       "      <th></th>\n",
       "    </tr>\n",
       "  </thead>\n",
       "  <tbody>\n",
       "    <tr>\n",
       "      <th>bar</th>\n",
       "      <td>3</td>\n",
       "      <td>3</td>\n",
       "      <td>3</td>\n",
       "    </tr>\n",
       "    <tr>\n",
       "      <th>foo</th>\n",
       "      <td>5</td>\n",
       "      <td>5</td>\n",
       "      <td>5</td>\n",
       "    </tr>\n",
       "  </tbody>\n",
       "</table>\n",
       "</div>"
      ],
      "text/plain": [
       "     B  C  D\n",
       "A           \n",
       "bar  3  3  3\n",
       "foo  5  5  5"
      ]
     },
     "execution_count": 699,
     "metadata": {},
     "output_type": "execute_result"
    }
   ],
   "source": [
    "df.groupby(['A']).count()"
   ]
  },
  {
   "cell_type": "code",
   "execution_count": null,
   "metadata": {
    "collapsed": true
   },
   "outputs": [],
   "source": []
  }
 ],
 "metadata": {
  "kernelspec": {
   "display_name": "Python 2",
   "language": "python",
   "name": "python2"
  },
  "language_info": {
   "codemirror_mode": {
    "name": "ipython",
    "version": 2
   },
   "file_extension": ".py",
   "mimetype": "text/x-python",
   "name": "python",
   "nbconvert_exporter": "python",
   "pygments_lexer": "ipython2",
   "version": "2.7.12"
  }
 },
 "nbformat": 4,
 "nbformat_minor": 0
}
