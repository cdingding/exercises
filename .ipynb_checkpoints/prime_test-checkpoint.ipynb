{
 "cells": [
  {
   "cell_type": "markdown",
   "metadata": {},
   "source": [
    "## Prime test"
   ]
  },
  {
   "cell_type": "code",
   "execution_count": 18,
   "metadata": {
    "collapsed": false
   },
   "outputs": [
    {
     "name": "stdout",
     "output_type": "stream",
     "text": [
      "Writing test_prime.py\n"
     ]
    }
   ],
   "source": [
    "%%writefile test_prime.py\n",
    "from math import sqrt\n",
    "\n",
    "def is_prime(n):\n",
    "  if n < 1:\n",
    "    return False\n",
    "  for i in xrange(2, int(sqrt(n) + 1)):\n",
    "    if n % i == 0:\n",
    "      return False\n",
    "  return True\n",
    "\n",
    "def prime_generator():\n",
    "    n = 1\n",
    "    while True:\n",
    "        if is_prime(n):\n",
    "            yield(n)\n",
    "        n = n + 1\n",
    "        \n",
    "if __name__ == '__main__':\n",
    "    lst = [12,23,3,5,31,34,45,67]\n",
    "    result = []\n",
    "    for val in lst:\n",
    "        if is_prime(val):\n",
    "            result.append(val)\n",
    "    print result"
   ]
  },
  {
   "cell_type": "code",
   "execution_count": null,
   "metadata": {
    "collapsed": true
   },
   "outputs": [],
   "source": [
    "## Use generator to find primes from 100 to 1000"
   ]
  },
  {
   "cell_type": "code",
   "execution_count": 34,
   "metadata": {
    "collapsed": false
   },
   "outputs": [
    {
     "name": "stdout",
     "output_type": "stream",
     "text": [
      "[907, 911, 919, 929, 937, 941, 947, 953, 967, 971, 977, 983, 991, 997]\n"
     ]
    }
   ],
   "source": [
    "# %%writefile test_prime_list.py\n",
    "from math import sqrt\n",
    "\n",
    "def is_prime(n):\n",
    "  if n < 1:\n",
    "    return False\n",
    "  for i in xrange(2, int(sqrt(n) + 1)):\n",
    "    if n % i == 0:\n",
    "      return False\n",
    "  return True\n",
    "\n",
    "def prime_generator():\n",
    "    n = 900\n",
    "    while n <= 1000:\n",
    "        if is_prime(n):\n",
    "            yield(n)\n",
    "        n = n + 1\n",
    "        \n",
    "if __name__ == '__main__':\n",
    "    result = []\n",
    "    for val in prime_generator():\n",
    "        result.append(val)\n",
    "    print result"
   ]
  },
  {
   "cell_type": "code",
   "execution_count": 14,
   "metadata": {
    "collapsed": false
   },
   "outputs": [
    {
     "data": {
      "text/plain": [
       "u'/Users/Changsong/Documents/galv/exersises'"
      ]
     },
     "execution_count": 14,
     "metadata": {},
     "output_type": "execute_result"
    }
   ],
   "source": [
    "pwd"
   ]
  },
  {
   "cell_type": "code",
   "execution_count": 21,
   "metadata": {
    "collapsed": false
   },
   "outputs": [
    {
     "name": "stdout",
     "output_type": "stream",
     "text": [
      "Permutation_of_Str.py           sign.py\r\n",
      "Tokenize.py                     sign.pyc\r\n",
      "delete_compound.py              sign_test.py\r\n",
      "foo.py                          switch_key_value_dictionary.py\r\n",
      "hello.py                        test_googledoc_indent.py\r\n",
      "hello.pyc                       test_main_effect.py\r\n",
      "is_prime.py                     test_main_effect.pyc\r\n",
      "max_profit.py                   test_main_effect2.py\r\n",
      "numpy_tutorial.py               test_new_jupyter.ipynb\r\n",
      "prime_test.ipynb                test_prime.py\r\n",
      "product_no_index.py             test_prime_list.py\r\n",
      "reverse_string.py\r\n"
     ]
    }
   ],
   "source": [
    "ls"
   ]
  },
  {
   "cell_type": "code",
   "execution_count": 31,
   "metadata": {
    "collapsed": false
   },
   "outputs": [
    {
     "name": "stdout",
     "output_type": "stream",
     "text": [
      "1\n",
      "2\n",
      "3\n"
     ]
    }
   ],
   "source": [
    "#Simple generator\n",
    "def simple_generator_function():\n",
    "    yield 1\n",
    "    yield 2\n",
    "    yield 3\n",
    "    \n",
    "for value in simple_generator_function():\n",
    "    print value"
   ]
  },
  {
   "cell_type": "code",
   "execution_count": 27,
   "metadata": {
    "collapsed": true
   },
   "outputs": [],
   "source": [
    "# %load sign.py\n",
    "import numpy as np\n",
    "import pandas as pd\n",
    "\n",
    "def test(x):\n",
    "  if x <0:  \n",
    "    print 'n'\n",
    "  elif x >0:\n",
    "    print 'pp'\n",
    "  else:\n",
    "    print 'zero, zero, zero!'\n"
   ]
  },
  {
   "cell_type": "code",
   "execution_count": 25,
   "metadata": {
    "collapsed": false
   },
   "outputs": [],
   "source": [
    "from sign import test"
   ]
  },
  {
   "cell_type": "code",
   "execution_count": 26,
   "metadata": {
    "collapsed": false
   },
   "outputs": [
    {
     "name": "stdout",
     "output_type": "stream",
     "text": [
      "pp\n"
     ]
    }
   ],
   "source": [
    "test(9)"
   ]
  },
  {
   "cell_type": "code",
   "execution_count": 29,
   "metadata": {
    "collapsed": false
   },
   "outputs": [
    {
     "name": "stdout",
     "output_type": "stream",
     "text": [
      "zero, zero, zero!\n"
     ]
    }
   ],
   "source": [
    "test(0)"
   ]
  },
  {
   "cell_type": "code",
   "execution_count": 47,
   "metadata": {
    "collapsed": false
   },
   "outputs": [
    {
     "name": "stdout",
     "output_type": "stream",
     "text": [
      "2\n",
      "yes, prime\n"
     ]
    }
   ],
   "source": [
    "n = 15\n",
    "def check(num):\n",
    "    for i in xrange(2,num):\n",
    "        print i\n",
    "        if num % i == 0:\n",
    "            return 'Not prime!'\n",
    "        else:\n",
    "            return 'yes, prime'\n",
    "print (check(n))"
   ]
  },
  {
   "cell_type": "code",
   "execution_count": 48,
   "metadata": {
    "collapsed": false
   },
   "outputs": [
    {
     "name": "stdout",
     "output_type": "stream",
     "text": [
      "2\n",
      "3\n",
      "Not prime!\n"
     ]
    }
   ],
   "source": [
    "n = 15\n",
    "def check(num):\n",
    "    for i in xrange(2,num):\n",
    "        print i\n",
    "        if num % i == 0:\n",
    "            return 'Not prime!'\n",
    "    return 'yes, prime'\n",
    "print (check(n))"
   ]
  },
  {
   "cell_type": "code",
   "execution_count": 42,
   "metadata": {
    "collapsed": false
   },
   "outputs": [
    {
     "name": "stdout",
     "output_type": "stream",
     "text": [
      "0\n",
      "1\n",
      "2\n"
     ]
    }
   ],
   "source": [
    "for i in xrange(3):\n",
    "    print i"
   ]
  },
  {
   "cell_type": "code",
   "execution_count": null,
   "metadata": {
    "collapsed": true
   },
   "outputs": [],
   "source": []
  }
 ],
 "metadata": {
  "kernelspec": {
   "display_name": "Python 2",
   "language": "python",
   "name": "python2"
  },
  "language_info": {
   "codemirror_mode": {
    "name": "ipython",
    "version": 2
   },
   "file_extension": ".py",
   "mimetype": "text/x-python",
   "name": "python",
   "nbconvert_exporter": "python",
   "pygments_lexer": "ipython2",
   "version": "2.7.12"
  }
 },
 "nbformat": 4,
 "nbformat_minor": 0
}
