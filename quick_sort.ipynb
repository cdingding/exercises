{
 "cells": [
  {
   "cell_type": "code",
   "execution_count": 40,
   "metadata": {
    "collapsed": false
   },
   "outputs": [
    {
     "name": "stdout",
     "output_type": "stream",
     "text": [
      "Overwriting quick_sort.py\n"
     ]
    }
   ],
   "source": [
    "%%writefile quick_sort.py\n",
    "\n",
    "def quick_sort(lst):\n",
    "    if len(lst) <= 1: return lst\n",
    "    pivot = lst[len(lst)/2]\n",
    "    left = [x for x in lst if x < pivot]\n",
    "    middle = [x for x in lst if x == pivot]\n",
    "    right = [x for x in lst if x > pivot]\n",
    "    return quick_sort(left) + middle + quick_sort(right)\n",
    "\n",
    "print quick_sort([12,6,3,8,10,1,34,2,12,23,2,5,34,32,1])"
   ]
  },
  {
   "cell_type": "code",
   "execution_count": 50,
   "metadata": {
    "collapsed": false
   },
   "outputs": [
    {
     "name": "stdout",
     "output_type": "stream",
     "text": [
      "[1, 1, 2, 2, 3, 5, 6, 8, 10, 12, 12, 23, 32, 34, 34]\n"
     ]
    }
   ],
   "source": [
    "# %load quick_sort.py\n",
    "\n",
    "def quick_sort(lst):\n",
    "    if len(lst) <= 1: return lst\n",
    "    pivot = lst[len(lst)/2]\n",
    "    left = [x for x in lst if x < pivot]\n",
    "    middle = [x for x in lst if x == pivot]\n",
    "    right = [x for x in lst if x > pivot]\n",
    "    return quick_sort(left) + middle + quick_sort(right)\n",
    "\n",
    "print quick_sort([12,6,3,8,10,1,34,2,12,23,2,5,34,32,1])"
   ]
  },
  {
   "cell_type": "code",
   "execution_count": null,
   "metadata": {
    "collapsed": true
   },
   "outputs": [],
   "source": []
  }
 ],
 "metadata": {
  "kernelspec": {
   "display_name": "Python 2",
   "language": "python",
   "name": "python2"
  },
  "language_info": {
   "codemirror_mode": {
    "name": "ipython",
    "version": 2
   },
   "file_extension": ".py",
   "mimetype": "text/x-python",
   "name": "python",
   "nbconvert_exporter": "python",
   "pygments_lexer": "ipython2",
   "version": "2.7.12"
  }
 },
 "nbformat": 4,
 "nbformat_minor": 0
}
