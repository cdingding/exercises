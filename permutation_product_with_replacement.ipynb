{
 "cells": [
  {
   "cell_type": "markdown",
   "metadata": {},
   "source": [
    "## Below is for manual permutation without replacement"
   ]
  },
  {
   "cell_type": "code",
   "execution_count": 102,
   "metadata": {
    "collapsed": false,
    "scrolled": false
   },
   "outputs": [
    {
     "name": "stdout",
     "output_type": "stream",
     "text": [
      "----- ['BC']\n",
      "----- ['CB']\n",
      "----- ----- ['BC']\n",
      "----- ['CB']\n",
      "['ABC', 'ACB']\n",
      "----- ['AC']\n",
      "----- ['CA']\n",
      "----- ----- ['AC']\n",
      "----- ['CA']\n",
      "['BAC', 'BCA']\n",
      "----- ['AB']\n",
      "----- ['BA']\n",
      "----- ----- ['AB']\n",
      "----- ['BA']\n",
      "['CAB', 'CBA']\n"
     ]
    },
    {
     "data": {
      "text/plain": [
       "['ABC', 'ACB', 'BAC', 'BCA', 'CAB', 'CBA']"
      ]
     },
     "execution_count": 102,
     "metadata": {},
     "output_type": "execute_result"
    }
   ],
   "source": [
    "def perms(s):\n",
    "    result = []\n",
    "    if len(s) == 1: return s\n",
    "    for i, v in enumerate(s):\n",
    "        result += [v+p for p in perms(s[:i]+s[i+1:])]\n",
    "#         print '-----', [v+p for p in perms(s[:i]+s[i+1:])]\n",
    "    return result\n",
    "\n",
    "s = 'ABC'\n",
    "perms(s)"
   ]
  },
  {
   "cell_type": "code",
   "execution_count": 112,
   "metadata": {
    "collapsed": false
   },
   "outputs": [
    {
     "name": "stdout",
     "output_type": "stream",
     "text": [
      "temp: ['g']\n",
      "temp: ['n']\n",
      "temp: ['ng', 'gn']\n",
      "temp: ['g']\n",
      "temp: ['i']\n",
      "temp: ['ig', 'gi']\n",
      "temp: ['n']\n",
      "temp: ['i']\n",
      "temp: ['in', 'ni']\n",
      "temp: ['ing', 'ign', 'nig', 'ngi', 'gin', 'gni']\n",
      "temp: ['g']\n",
      "temp: ['n']\n",
      "temp: ['ng', 'gn']\n",
      "temp: ['g']\n",
      "temp: ['D']\n",
      "temp: ['Dg', 'gD']\n",
      "temp: ['n']\n",
      "temp: ['D']\n",
      "temp: ['Dn', 'nD']\n",
      "temp: ['Dng', 'Dgn', 'nDg', 'ngD', 'gDn', 'gnD']\n",
      "temp: ['g']\n",
      "temp: ['i']\n",
      "temp: ['ig', 'gi']\n",
      "temp: ['g']\n",
      "temp: ['D']\n",
      "temp: ['Dg', 'gD']\n",
      "temp: ['i']\n",
      "temp: ['D']\n",
      "temp: ['Di', 'iD']\n",
      "temp: ['Dig', 'Dgi', 'iDg', 'igD', 'gDi', 'giD']\n",
      "temp: ['n']\n",
      "temp: ['i']\n",
      "temp: ['in', 'ni']\n",
      "temp: ['n']\n",
      "temp: ['D']\n",
      "temp: ['Dn', 'nD']\n",
      "temp: ['i']\n",
      "temp: ['D']\n",
      "temp: ['Di', 'iD']\n",
      "temp: ['Din', 'Dni', 'iDn', 'inD', 'nDi', 'niD']\n",
      "['Ding', 'Dign', 'Dnig', 'Dngi', 'Dgin', 'Dgni', 'iDng', 'iDgn', 'inDg', 'ingD', 'igDn', 'ignD', 'nDig', 'nDgi', 'niDg', 'nigD', 'ngDi', 'ngiD', 'gDin', 'gDni', 'giDn', 'ginD', 'gnDi', 'gniD']\n"
     ]
    }
   ],
   "source": [
    "def perms1(s):\n",
    "    result = []\n",
    "    if len(s) == 1: return s\n",
    "    for i, v in enumerate(s):\n",
    "        temp = perms1(s[:i]+s[i+1:])\n",
    "        print 'temp:',temp\n",
    "        final = [v + p for p in temp]\n",
    "        result += final\n",
    "    return result\n",
    "\n",
    "# print len(set(perms1('Ding')))\n",
    "print perms1('Ding')"
   ]
  },
  {
   "cell_type": "markdown",
   "metadata": {},
   "source": [
    "## Below is permtation with replacement"
   ]
  },
  {
   "cell_type": "code",
   "execution_count": 27,
   "metadata": {
    "collapsed": false
   },
   "outputs": [
    {
     "name": "stdout",
     "output_type": "stream",
     "text": [
      "16\n",
      "['1111', '1110', '1101', '1100', '1011', '1010', '1001', '1000', '0111', '0110', '0101', '0100', '0011', '0010', '0001', '0000']\n"
     ]
    }
   ],
   "source": [
    "# To use itertools.product with replacement\n",
    "import itertools\n",
    "def perms(seq, n):\n",
    "    result = []\n",
    "    for p in itertools.product(seq, repeat = n):\n",
    "        result += [''.join(p)]\n",
    "    return result\n",
    "\n",
    "s = '10'\n",
    "n = 4\n",
    "print len(set(perms(s,n)))\n",
    "print perms(s,n)"
   ]
  },
  {
   "cell_type": "markdown",
   "metadata": {},
   "source": [
    "## Permutation with replacment"
   ]
  },
  {
   "cell_type": "code",
   "execution_count": 27,
   "metadata": {
    "collapsed": false
   },
   "outputs": [
    {
     "name": "stdout",
     "output_type": "stream",
     "text": [
      "Overwriting permutation_product_with_replacement.py\n"
     ]
    }
   ],
   "source": [
    "%%writefile permutation_product_with_replacement.py\n",
    "\n",
    "s = 'abc'\n",
    "result = []\n",
    "for x in s:\n",
    "    for y in s:\n",
    "        result.append((x,y))\n",
    "print result\n",
    "\n",
    "s = '10'\n",
    "result = []\n",
    "for x in s:\n",
    "    for y in s:\n",
    "        for z in s:\n",
    "            result.append((x,y,z))\n",
    "print len(result)\n",
    "print [''.join(x) for x in result]"
   ]
  },
  {
   "cell_type": "code",
   "execution_count": 69,
   "metadata": {
    "collapsed": false,
    "scrolled": true
   },
   "outputs": [
    {
     "name": "stdout",
     "output_type": "stream",
     "text": [
      "[('a', 'a'), ('a', 'b'), ('a', 'c'), ('b', 'a'), ('b', 'b'), ('b', 'c'), ('c', 'a'), ('c', 'b'), ('c', 'c')]\n",
      "8\n",
      "['111', '110', '101', '100', '011', '010', '001', '000']\n"
     ]
    }
   ],
   "source": [
    "# %load permutation_product_with_replacement.py\n",
    "\n",
    "s = 'abc'\n",
    "result = []\n",
    "for x in s:\n",
    "    for y in s:\n",
    "        result.append((x,y))\n",
    "print result\n",
    "\n",
    "s = '10'\n",
    "result = []\n",
    "for x in s:\n",
    "    for y in s:\n",
    "        for z in s:\n",
    "            result.append((x,y,z))\n",
    "print len(result)\n",
    "print [''.join(x) for x in result]"
   ]
  },
  {
   "cell_type": "code",
   "execution_count": 63,
   "metadata": {
    "collapsed": false
   },
   "outputs": [
    {
     "name": "stdout",
     "output_type": "stream",
     "text": [
      "['111', '110', '101', '100', '011', '010', '001', '000']\n"
     ]
    }
   ],
   "source": [
    "# Manual solution\n",
    "s = '10'\n",
    "result = [''.join((x,y,z)) for x in s for y in s for z in s]\n",
    "print result"
   ]
  },
  {
   "cell_type": "code",
   "execution_count": 3,
   "metadata": {
    "collapsed": false
   },
   "outputs": [
    {
     "name": "stdout",
     "output_type": "stream",
     "text": [
      "('John', 'is', 'a', 'great', 'engineer')\n",
      "('John', 'is', 'a', 'great', 'student')\n",
      "('John', 'is', 'a', 'great', 'athelete')\n",
      "('John', 'is', 'a', 'dedicated', 'engineer')\n",
      "('John', 'is', 'a', 'dedicated', 'student')\n",
      "('John', 'is', 'a', 'dedicated', 'athelete')\n",
      "('Matt', 'is', 'a', 'great', 'engineer')\n",
      "('Matt', 'is', 'a', 'great', 'student')\n",
      "('Matt', 'is', 'a', 'great', 'athelete')\n",
      "('Matt', 'is', 'a', 'dedicated', 'engineer')\n",
      "('Matt', 'is', 'a', 'dedicated', 'student')\n",
      "('Matt', 'is', 'a', 'dedicated', 'athelete')\n",
      "('Steve', 'is', 'a', 'great', 'engineer')\n",
      "('Steve', 'is', 'a', 'great', 'student')\n",
      "('Steve', 'is', 'a', 'great', 'athelete')\n",
      "('Steve', 'is', 'a', 'dedicated', 'engineer')\n",
      "('Steve', 'is', 'a', 'dedicated', 'student')\n",
      "('Steve', 'is', 'a', 'dedicated', 'athelete')\n"
     ]
    }
   ],
   "source": [
    "# More about itertools.product\n",
    "import itertools\n",
    "\n",
    "list_input =     [[\"John\",\"Matt\",\"Steve\"],[\"is\"],[\"a\"],[\"great\",\"dedicated\"],[\"engineer\",\"student\",\"athelete\"]]\n",
    "for element in itertools.product(*list_input):\n",
    "    print element"
   ]
  },
  {
   "cell_type": "code",
   "execution_count": 23,
   "metadata": {
    "collapsed": false
   },
   "outputs": [
    {
     "name": "stdout",
     "output_type": "stream",
     "text": [
      "('You', 'are', 'A')\n",
      "('You', 'are', 'B')\n",
      "('They', 'are', 'A')\n",
      "('They', 'are', 'B')\n"
     ]
    }
   ],
   "source": [
    "# More about itertools.product\n",
    "import itertools\n",
    "\n",
    "list_input = [['You', 'They'],['are'],'AB']\n",
    "for element in itertools.product(*list_input):\n",
    "    print element"
   ]
  },
  {
   "cell_type": "code",
   "execution_count": 22,
   "metadata": {
    "collapsed": false
   },
   "outputs": [
    {
     "name": "stdout",
     "output_type": "stream",
     "text": [
      "(['10', '01'], ['10', '01'], ['10', '01'])\n",
      "(['10', '01'], ['10', '01'], 'AB')\n",
      "(['10', '01'], 'AB', ['10', '01'])\n",
      "(['10', '01'], 'AB', 'AB')\n",
      "('AB', ['10', '01'], ['10', '01'])\n",
      "('AB', ['10', '01'], 'AB')\n",
      "('AB', 'AB', ['10', '01'])\n",
      "('AB', 'AB', 'AB')\n"
     ]
    }
   ],
   "source": [
    "# More about itertools.product\n",
    "import itertools\n",
    "\n",
    "list_input = [['10', '01'],'AB']\n",
    "for element in itertools.product(list_input, repeat = 3):\n",
    "    print element"
   ]
  },
  {
   "cell_type": "code",
   "execution_count": null,
   "metadata": {
    "collapsed": true
   },
   "outputs": [],
   "source": []
  }
 ],
 "metadata": {
  "kernelspec": {
   "display_name": "Python 2",
   "language": "python",
   "name": "python2"
  },
  "language_info": {
   "codemirror_mode": {
    "name": "ipython",
    "version": 2
   },
   "file_extension": ".py",
   "mimetype": "text/x-python",
   "name": "python",
   "nbconvert_exporter": "python",
   "pygments_lexer": "ipython2",
   "version": "2.7.12"
  }
 },
 "nbformat": 4,
 "nbformat_minor": 0
}
